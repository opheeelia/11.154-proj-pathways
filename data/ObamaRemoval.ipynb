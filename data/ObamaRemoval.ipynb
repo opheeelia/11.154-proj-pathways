{
 "cells": [
  {
   "cell_type": "code",
   "execution_count": 1,
   "id": "afc03d64",
   "metadata": {},
   "outputs": [],
   "source": [
    "import numpy as np\n",
    "import pandas as pd\n",
    "import matplotlib.pyplot as plt\n",
    "import plotly.graph_objects as go\n",
    "import plotly.express as px"
   ]
  },
  {
   "cell_type": "code",
   "execution_count": 2,
   "id": "8b9ae992",
   "metadata": {},
   "outputs": [
    {
     "data": {
      "text/html": [
       "<div>\n",
       "<style scoped>\n",
       "    .dataframe tbody tr th:only-of-type {\n",
       "        vertical-align: middle;\n",
       "    }\n",
       "\n",
       "    .dataframe tbody tr th {\n",
       "        vertical-align: top;\n",
       "    }\n",
       "\n",
       "    .dataframe thead th {\n",
       "        text-align: right;\n",
       "    }\n",
       "</style>\n",
       "<table border=\"1\" class=\"dataframe\">\n",
       "  <thead>\n",
       "    <tr style=\"text-align: right;\">\n",
       "      <th></th>\n",
       "      <th>1999</th>\n",
       "      <th>Unnamed: 2</th>\n",
       "      <th>Unnamed: 3</th>\n",
       "      <th>2000</th>\n",
       "      <th>Unnamed: 5</th>\n",
       "      <th>Unnamed: 6</th>\n",
       "      <th>2001</th>\n",
       "      <th>Unnamed: 8</th>\n",
       "      <th>Unnamed: 9</th>\n",
       "      <th>2002</th>\n",
       "      <th>...</th>\n",
       "      <th>Unnamed: 54</th>\n",
       "      <th>2017</th>\n",
       "      <th>Unnamed: 56</th>\n",
       "      <th>Unnamed: 57</th>\n",
       "      <th>2018</th>\n",
       "      <th>Unnamed: 59</th>\n",
       "      <th>Unnamed: 60</th>\n",
       "      <th>2019</th>\n",
       "      <th>Unnamed: 62</th>\n",
       "      <th>Unnamed: 63</th>\n",
       "    </tr>\n",
       "    <tr>\n",
       "      <th></th>\n",
       "      <th></th>\n",
       "      <th></th>\n",
       "      <th></th>\n",
       "      <th></th>\n",
       "      <th></th>\n",
       "      <th></th>\n",
       "      <th></th>\n",
       "      <th></th>\n",
       "      <th></th>\n",
       "      <th></th>\n",
       "      <th></th>\n",
       "      <th></th>\n",
       "      <th></th>\n",
       "      <th></th>\n",
       "      <th></th>\n",
       "      <th></th>\n",
       "      <th></th>\n",
       "      <th></th>\n",
       "      <th></th>\n",
       "      <th></th>\n",
       "      <th></th>\n",
       "    </tr>\n",
       "  </thead>\n",
       "  <tbody>\n",
       "    <tr>\n",
       "      <th>Region and country of nationality</th>\n",
       "      <td>Total</td>\n",
       "      <td>Criminal 1</td>\n",
       "      <td>Non-Criminal</td>\n",
       "      <td>Total</td>\n",
       "      <td>Criminal 1</td>\n",
       "      <td>Non-Criminal</td>\n",
       "      <td>Total</td>\n",
       "      <td>Criminal 1</td>\n",
       "      <td>Non-Criminal</td>\n",
       "      <td>Total</td>\n",
       "      <td>...</td>\n",
       "      <td>Non-Criminal</td>\n",
       "      <td>Total</td>\n",
       "      <td>Criminal1</td>\n",
       "      <td>Non-Criminal</td>\n",
       "      <td>Total</td>\n",
       "      <td>Criminal1</td>\n",
       "      <td>Non-Criminal</td>\n",
       "      <td>Total</td>\n",
       "      <td>Criminal1</td>\n",
       "      <td>Non-Criminal</td>\n",
       "    </tr>\n",
       "    <tr>\n",
       "      <th>Global Total</th>\n",
       "      <td>183114</td>\n",
       "      <td>71188</td>\n",
       "      <td>111926</td>\n",
       "      <td>188467</td>\n",
       "      <td>73065</td>\n",
       "      <td>115402</td>\n",
       "      <td>189026</td>\n",
       "      <td>73545</td>\n",
       "      <td>115481</td>\n",
       "      <td>165168</td>\n",
       "      <td>...</td>\n",
       "      <td>216416</td>\n",
       "      <td>287093</td>\n",
       "      <td>109697</td>\n",
       "      <td>177396</td>\n",
       "      <td>328716</td>\n",
       "      <td>148352</td>\n",
       "      <td>180364</td>\n",
       "      <td>359885</td>\n",
       "      <td>155788</td>\n",
       "      <td>204097</td>\n",
       "    </tr>\n",
       "    <tr>\n",
       "      <th>Belize</th>\n",
       "      <td>191</td>\n",
       "      <td>139</td>\n",
       "      <td>52</td>\n",
       "      <td>170</td>\n",
       "      <td>126</td>\n",
       "      <td>44</td>\n",
       "      <td>185</td>\n",
       "      <td>110</td>\n",
       "      <td>75</td>\n",
       "      <td>178</td>\n",
       "      <td>...</td>\n",
       "      <td>60</td>\n",
       "      <td>123</td>\n",
       "      <td>57</td>\n",
       "      <td>66</td>\n",
       "      <td>133</td>\n",
       "      <td>111</td>\n",
       "      <td>22</td>\n",
       "      <td>109</td>\n",
       "      <td>80</td>\n",
       "      <td>29</td>\n",
       "    </tr>\n",
       "    <tr>\n",
       "      <th>Costa Rica</th>\n",
       "      <td>227</td>\n",
       "      <td>69</td>\n",
       "      <td>158</td>\n",
       "      <td>328</td>\n",
       "      <td>58</td>\n",
       "      <td>270</td>\n",
       "      <td>392</td>\n",
       "      <td>65</td>\n",
       "      <td>327</td>\n",
       "      <td>376</td>\n",
       "      <td>...</td>\n",
       "      <td>183</td>\n",
       "      <td>256</td>\n",
       "      <td>73</td>\n",
       "      <td>183</td>\n",
       "      <td>319</td>\n",
       "      <td>253</td>\n",
       "      <td>66</td>\n",
       "      <td>356</td>\n",
       "      <td>313</td>\n",
       "      <td>43</td>\n",
       "    </tr>\n",
       "    <tr>\n",
       "      <th>El Salvador</th>\n",
       "      <td>4160</td>\n",
       "      <td>2115</td>\n",
       "      <td>2045</td>\n",
       "      <td>4736</td>\n",
       "      <td>2145</td>\n",
       "      <td>2591</td>\n",
       "      <td>3928</td>\n",
       "      <td>1895</td>\n",
       "      <td>2033</td>\n",
       "      <td>4066</td>\n",
       "      <td>...</td>\n",
       "      <td>13545</td>\n",
       "      <td>18448</td>\n",
       "      <td>6489</td>\n",
       "      <td>11959</td>\n",
       "      <td>14877</td>\n",
       "      <td>7003</td>\n",
       "      <td>7874</td>\n",
       "      <td>18190</td>\n",
       "      <td>8802</td>\n",
       "      <td>9388</td>\n",
       "    </tr>\n",
       "    <tr>\n",
       "      <th>Guatemala</th>\n",
       "      <td>3763</td>\n",
       "      <td>1096</td>\n",
       "      <td>2667</td>\n",
       "      <td>4543</td>\n",
       "      <td>1203</td>\n",
       "      <td>3340</td>\n",
       "      <td>4716</td>\n",
       "      <td>1169</td>\n",
       "      <td>3547</td>\n",
       "      <td>5396</td>\n",
       "      <td>...</td>\n",
       "      <td>23285</td>\n",
       "      <td>33049</td>\n",
       "      <td>11110</td>\n",
       "      <td>21939</td>\n",
       "      <td>49135</td>\n",
       "      <td>19814</td>\n",
       "      <td>29321</td>\n",
       "      <td>53180</td>\n",
       "      <td>23005</td>\n",
       "      <td>30175</td>\n",
       "    </tr>\n",
       "    <tr>\n",
       "      <th>Honduras</th>\n",
       "      <td>3460</td>\n",
       "      <td>1255</td>\n",
       "      <td>2205</td>\n",
       "      <td>4768</td>\n",
       "      <td>1486</td>\n",
       "      <td>3282</td>\n",
       "      <td>4548</td>\n",
       "      <td>1429</td>\n",
       "      <td>3119</td>\n",
       "      <td>4946</td>\n",
       "      <td>...</td>\n",
       "      <td>13423</td>\n",
       "      <td>22163</td>\n",
       "      <td>9282</td>\n",
       "      <td>12881</td>\n",
       "      <td>28451</td>\n",
       "      <td>12734</td>\n",
       "      <td>15717</td>\n",
       "      <td>40751</td>\n",
       "      <td>17941</td>\n",
       "      <td>22810</td>\n",
       "    </tr>\n",
       "    <tr>\n",
       "      <th>Mexico</th>\n",
       "      <td>150383</td>\n",
       "      <td>55878</td>\n",
       "      <td>94505</td>\n",
       "      <td>151267</td>\n",
       "      <td>57464</td>\n",
       "      <td>93803</td>\n",
       "      <td>150762</td>\n",
       "      <td>58499</td>\n",
       "      <td>92263</td>\n",
       "      <td>122058</td>\n",
       "      <td>...</td>\n",
       "      <td>154454</td>\n",
       "      <td>184106</td>\n",
       "      <td>74202</td>\n",
       "      <td>109904</td>\n",
       "      <td>209334</td>\n",
       "      <td>90403</td>\n",
       "      <td>118931</td>\n",
       "      <td>215205</td>\n",
       "      <td>84350</td>\n",
       "      <td>130855</td>\n",
       "    </tr>\n",
       "    <tr>\n",
       "      <th>Nicaragua</th>\n",
       "      <td>444</td>\n",
       "      <td>259</td>\n",
       "      <td>185</td>\n",
       "      <td>513</td>\n",
       "      <td>263</td>\n",
       "      <td>250</td>\n",
       "      <td>526</td>\n",
       "      <td>256</td>\n",
       "      <td>270</td>\n",
       "      <td>468</td>\n",
       "      <td>...</td>\n",
       "      <td>490</td>\n",
       "      <td>906</td>\n",
       "      <td>379</td>\n",
       "      <td>527</td>\n",
       "      <td>964</td>\n",
       "      <td>568</td>\n",
       "      <td>396</td>\n",
       "      <td>2268</td>\n",
       "      <td>1058</td>\n",
       "      <td>1210</td>\n",
       "    </tr>\n",
       "    <tr>\n",
       "      <th>Panama</th>\n",
       "      <td>169</td>\n",
       "      <td>130</td>\n",
       "      <td>39</td>\n",
       "      <td>154</td>\n",
       "      <td>110</td>\n",
       "      <td>44</td>\n",
       "      <td>157</td>\n",
       "      <td>109</td>\n",
       "      <td>48</td>\n",
       "      <td>163</td>\n",
       "      <td>...</td>\n",
       "      <td>29</td>\n",
       "      <td>94</td>\n",
       "      <td>52</td>\n",
       "      <td>42</td>\n",
       "      <td>91</td>\n",
       "      <td>86</td>\n",
       "      <td>5</td>\n",
       "      <td>102</td>\n",
       "      <td>95</td>\n",
       "      <td>7</td>\n",
       "    </tr>\n",
       "  </tbody>\n",
       "</table>\n",
       "<p>10 rows × 63 columns</p>\n",
       "</div>"
      ],
      "text/plain": [
       "                                        1999  Unnamed: 2    Unnamed: 3  \\\n",
       "                                                                         \n",
       "Region and country of nationality     Total   Criminal 1  Non-Criminal   \n",
       "Global Total                          183114       71188        111926   \n",
       "Belize                                   191         139            52   \n",
       "Costa Rica                               227          69           158   \n",
       "El Salvador                             4160        2115          2045   \n",
       "Guatemala                               3763        1096          2667   \n",
       "Honduras                                3460        1255          2205   \n",
       "Mexico                                150383       55878         94505   \n",
       "Nicaragua                                444         259           185   \n",
       "Panama                                   169         130            39   \n",
       "\n",
       "                                        2000  Unnamed: 5    Unnamed: 6  \\\n",
       "                                                                         \n",
       "Region and country of nationality     Total   Criminal 1  Non-Criminal   \n",
       "Global Total                          188467       73065        115402   \n",
       "Belize                                   170         126            44   \n",
       "Costa Rica                               328          58           270   \n",
       "El Salvador                             4736        2145          2591   \n",
       "Guatemala                               4543        1203          3340   \n",
       "Honduras                                4768        1486          3282   \n",
       "Mexico                                151267       57464         93803   \n",
       "Nicaragua                                513         263           250   \n",
       "Panama                                   154         110            44   \n",
       "\n",
       "                                        2001  Unnamed: 8    Unnamed: 9  \\\n",
       "                                                                         \n",
       "Region and country of nationality     Total   Criminal 1  Non-Criminal   \n",
       "Global Total                          189026       73545        115481   \n",
       "Belize                                   185         110            75   \n",
       "Costa Rica                               392          65           327   \n",
       "El Salvador                             3928        1895          2033   \n",
       "Guatemala                               4716        1169          3547   \n",
       "Honduras                                4548        1429          3119   \n",
       "Mexico                                150762       58499         92263   \n",
       "Nicaragua                                526         256           270   \n",
       "Panama                                   157         109            48   \n",
       "\n",
       "                                        2002  ...   Unnamed: 54    2017  \\\n",
       "                                              ...                         \n",
       "Region and country of nationality     Total   ...  Non-Criminal   Total   \n",
       "Global Total                          165168  ...        216416  287093   \n",
       "Belize                                   178  ...            60     123   \n",
       "Costa Rica                               376  ...           183     256   \n",
       "El Salvador                             4066  ...         13545   18448   \n",
       "Guatemala                               5396  ...         23285   33049   \n",
       "Honduras                                4946  ...         13423   22163   \n",
       "Mexico                                122058  ...        154454  184106   \n",
       "Nicaragua                                468  ...           490     906   \n",
       "Panama                                   163  ...            29      94   \n",
       "\n",
       "                                    Unnamed: 56   Unnamed: 57    2018  \\\n",
       "                                                                        \n",
       "Region and country of nationality     Criminal1  Non-Criminal   Total   \n",
       "Global Total                             109697        177396  328716   \n",
       "Belize                                       57            66     133   \n",
       "Costa Rica                                   73           183     319   \n",
       "El Salvador                                6489         11959   14877   \n",
       "Guatemala                                 11110         21939   49135   \n",
       "Honduras                                   9282         12881   28451   \n",
       "Mexico                                    74202        109904  209334   \n",
       "Nicaragua                                   379           527     964   \n",
       "Panama                                       52            42      91   \n",
       "\n",
       "                                    Unnamed: 59   Unnamed: 60    2019  \\\n",
       "                                                                        \n",
       "Region and country of nationality     Criminal1  Non-Criminal   Total   \n",
       "Global Total                             148352        180364  359885   \n",
       "Belize                                      111            22     109   \n",
       "Costa Rica                                  253            66     356   \n",
       "El Salvador                                7003          7874   18190   \n",
       "Guatemala                                 19814         29321   53180   \n",
       "Honduras                                  12734         15717   40751   \n",
       "Mexico                                    90403        118931  215205   \n",
       "Nicaragua                                   568           396    2268   \n",
       "Panama                                       86             5     102   \n",
       "\n",
       "                                    Unnamed: 62   Unnamed: 63  \n",
       "                                                               \n",
       "Region and country of nationality     Criminal1  Non-Criminal  \n",
       "Global Total                             155788        204097  \n",
       "Belize                                       80            29  \n",
       "Costa Rica                                  313            43  \n",
       "El Salvador                                8802          9388  \n",
       "Guatemala                                 23005         30175  \n",
       "Honduras                                  17941         22810  \n",
       "Mexico                                    84350        130855  \n",
       "Nicaragua                                  1058          1210  \n",
       "Panama                                       95             7  \n",
       "\n",
       "[10 rows x 63 columns]"
      ]
     },
     "execution_count": 2,
     "metadata": {},
     "output_type": "execute_result"
    }
   ],
   "source": [
    "df = pd.read_excel(\"t41_2000-2019.xlsx\", header=0, index_col=0)\n",
    "df"
   ]
  },
  {
   "cell_type": "code",
   "execution_count": 3,
   "id": "606bae0d",
   "metadata": {},
   "outputs": [],
   "source": [
    "countries = [\"Belize\", \"Costa Rica\", \"El Salvador\", \"Guatemala\", \"Honduras\", \"Mexico\", \"Nicaragua\", \"Panama\"]\n",
    "df_new = pd.DataFrame(columns=[\"Country\", \"Year\", \"Total\"])"
   ]
  },
  {
   "cell_type": "code",
   "execution_count": 4,
   "id": "99b5c6f8",
   "metadata": {},
   "outputs": [
    {
     "data": {
      "text/html": [
       "<div>\n",
       "<style scoped>\n",
       "    .dataframe tbody tr th:only-of-type {\n",
       "        vertical-align: middle;\n",
       "    }\n",
       "\n",
       "    .dataframe tbody tr th {\n",
       "        vertical-align: top;\n",
       "    }\n",
       "\n",
       "    .dataframe thead th {\n",
       "        text-align: right;\n",
       "    }\n",
       "</style>\n",
       "<table border=\"1\" class=\"dataframe\">\n",
       "  <thead>\n",
       "    <tr style=\"text-align: right;\">\n",
       "      <th></th>\n",
       "      <th>Country</th>\n",
       "      <th>Year</th>\n",
       "      <th>Total</th>\n",
       "    </tr>\n",
       "  </thead>\n",
       "  <tbody>\n",
       "    <tr>\n",
       "      <th>0</th>\n",
       "      <td>Belize</td>\n",
       "      <td>2009</td>\n",
       "      <td>237</td>\n",
       "    </tr>\n",
       "    <tr>\n",
       "      <th>1</th>\n",
       "      <td>Costa Rica</td>\n",
       "      <td>2009</td>\n",
       "      <td>671</td>\n",
       "    </tr>\n",
       "    <tr>\n",
       "      <th>2</th>\n",
       "      <td>El Salvador</td>\n",
       "      <td>2009</td>\n",
       "      <td>20406</td>\n",
       "    </tr>\n",
       "    <tr>\n",
       "      <th>3</th>\n",
       "      <td>Guatemala</td>\n",
       "      <td>2009</td>\n",
       "      <td>29182</td>\n",
       "    </tr>\n",
       "    <tr>\n",
       "      <th>4</th>\n",
       "      <td>Honduras</td>\n",
       "      <td>2009</td>\n",
       "      <td>26849</td>\n",
       "    </tr>\n",
       "    <tr>\n",
       "      <th>...</th>\n",
       "      <td>...</td>\n",
       "      <td>...</td>\n",
       "      <td>...</td>\n",
       "    </tr>\n",
       "    <tr>\n",
       "      <th>83</th>\n",
       "      <td>Guatemala</td>\n",
       "      <td>2019</td>\n",
       "      <td>53180</td>\n",
       "    </tr>\n",
       "    <tr>\n",
       "      <th>84</th>\n",
       "      <td>Honduras</td>\n",
       "      <td>2019</td>\n",
       "      <td>40751</td>\n",
       "    </tr>\n",
       "    <tr>\n",
       "      <th>85</th>\n",
       "      <td>Mexico</td>\n",
       "      <td>2019</td>\n",
       "      <td>215205</td>\n",
       "    </tr>\n",
       "    <tr>\n",
       "      <th>86</th>\n",
       "      <td>Nicaragua</td>\n",
       "      <td>2019</td>\n",
       "      <td>2268</td>\n",
       "    </tr>\n",
       "    <tr>\n",
       "      <th>87</th>\n",
       "      <td>Panama</td>\n",
       "      <td>2019</td>\n",
       "      <td>102</td>\n",
       "    </tr>\n",
       "  </tbody>\n",
       "</table>\n",
       "<p>88 rows × 3 columns</p>\n",
       "</div>"
      ],
      "text/plain": [
       "        Country  Year   Total\n",
       "0        Belize  2009     237\n",
       "1    Costa Rica  2009     671\n",
       "2   El Salvador  2009   20406\n",
       "3     Guatemala  2009   29182\n",
       "4      Honduras  2009   26849\n",
       "..          ...   ...     ...\n",
       "83    Guatemala  2019   53180\n",
       "84     Honduras  2019   40751\n",
       "85       Mexico  2019  215205\n",
       "86    Nicaragua  2019    2268\n",
       "87       Panama  2019     102\n",
       "\n",
       "[88 rows x 3 columns]"
      ]
     },
     "execution_count": 4,
     "metadata": {},
     "output_type": "execute_result"
    }
   ],
   "source": [
    "for year in range(2009, 2020):\n",
    "    for country in range(len(countries)):\n",
    "        row = {\"Country\": countries[country], \"Year\": year, \"Total\": df[year][country+2]}\n",
    "        df_new = df_new.append(row, ignore_index=True)\n",
    "df_new"
   ]
  },
  {
   "cell_type": "code",
   "execution_count": 8,
   "id": "7aba09b3",
   "metadata": {},
   "outputs": [
    {
     "data": {
      "application/vnd.plotly.v1+json": {
       "config": {
        "plotlyServerURL": "https://plot.ly"
       },
       "data": [
        {
         "hovertemplate": "Country=Belize<br>Year=%{x}<br>Total=%{y}<extra></extra>",
         "legendgroup": "Belize",
         "line": {
          "color": "rgb(247,251,255)"
         },
         "marker": {
          "symbol": "circle"
         },
         "mode": "lines",
         "name": "Belize",
         "orientation": "v",
         "showlegend": true,
         "stackgroup": "1",
         "type": "scatter",
         "x": [
          2009,
          2010,
          2011,
          2012,
          2013,
          2014,
          2015,
          2016,
          2017,
          2018,
          2019
         ],
         "xaxis": "x",
         "y": [
          237,
          254,
          221,
          204,
          175,
          136,
          134,
          146,
          123,
          133,
          109
         ],
         "yaxis": "y"
        },
        {
         "hovertemplate": "Country=Costa Rica<br>Year=%{x}<br>Total=%{y}<extra></extra>",
         "legendgroup": "Costa Rica",
         "line": {
          "color": "rgb(222,235,247)"
         },
         "marker": {
          "symbol": "circle"
         },
         "mode": "lines",
         "name": "Costa Rica",
         "orientation": "v",
         "showlegend": true,
         "stackgroup": "1",
         "type": "scatter",
         "x": [
          2009,
          2010,
          2011,
          2012,
          2013,
          2014,
          2015,
          2016,
          2017,
          2018,
          2019
         ],
         "xaxis": "x",
         "y": [
          671,
          558,
          415,
          398,
          332,
          286,
          224,
          253,
          256,
          319,
          356
         ],
         "yaxis": "y"
        },
        {
         "hovertemplate": "Country=El Salvador<br>Year=%{x}<br>Total=%{y}<extra></extra>",
         "legendgroup": "El Salvador",
         "line": {
          "color": "rgb(198,219,239)"
         },
         "marker": {
          "symbol": "circle"
         },
         "mode": "lines",
         "name": "El Salvador",
         "orientation": "v",
         "showlegend": true,
         "stackgroup": "1",
         "type": "scatter",
         "x": [
          2009,
          2010,
          2011,
          2012,
          2013,
          2014,
          2015,
          2016,
          2017,
          2018,
          2019
         ],
         "xaxis": "x",
         "y": [
          20406,
          20017,
          17945,
          18910,
          21130,
          26671,
          21899,
          20264,
          18448,
          14877,
          18190
         ],
         "yaxis": "y"
        },
        {
         "hovertemplate": "Country=Guatemala<br>Year=%{x}<br>Total=%{y}<extra></extra>",
         "legendgroup": "Guatemala",
         "line": {
          "color": "rgb(158,202,225)"
         },
         "marker": {
          "symbol": "circle"
         },
         "mode": "lines",
         "name": "Guatemala",
         "orientation": "v",
         "showlegend": true,
         "stackgroup": "1",
         "type": "scatter",
         "x": [
          2009,
          2010,
          2011,
          2012,
          2013,
          2014,
          2015,
          2016,
          2017,
          2018,
          2019
         ],
         "xaxis": "x",
         "y": [
          29182,
          29403,
          30871,
          38885,
          47013,
          54405,
          33379,
          33886,
          33049,
          49135,
          53180
         ],
         "yaxis": "y"
        },
        {
         "hovertemplate": "Country=Honduras<br>Year=%{x}<br>Total=%{y}<extra></extra>",
         "legendgroup": "Honduras",
         "line": {
          "color": "rgb(107,174,214)"
         },
         "marker": {
          "symbol": "circle"
         },
         "mode": "lines",
         "name": "Honduras",
         "orientation": "v",
         "showlegend": true,
         "stackgroup": "1",
         "type": "scatter",
         "x": [
          2009,
          2010,
          2011,
          2012,
          2013,
          2014,
          2015,
          2016,
          2017,
          2018,
          2019
         ],
         "xaxis": "x",
         "y": [
          26849,
          24652,
          22675,
          31724,
          36635,
          40877,
          20298,
          22015,
          22163,
          28451,
          40751
         ],
         "yaxis": "y"
        },
        {
         "hovertemplate": "Country=Mexico<br>Year=%{x}<br>Total=%{y}<extra></extra>",
         "legendgroup": "Mexico",
         "line": {
          "color": "rgb(66,146,198)"
         },
         "marker": {
          "symbol": "circle"
         },
         "mode": "lines",
         "name": "Mexico",
         "orientation": "v",
         "showlegend": true,
         "stackgroup": "1",
         "type": "scatter",
         "x": [
          2009,
          2010,
          2011,
          2012,
          2013,
          2014,
          2015,
          2016,
          2017,
          2018,
          2019
         ],
         "xaxis": "x",
         "y": [
          282666,
          275560,
          287462,
          300496,
          306902,
          265086,
          233222,
          236205,
          184106,
          209334,
          215205
         ],
         "yaxis": "y"
        },
        {
         "hovertemplate": "Country=Nicaragua<br>Year=%{x}<br>Total=%{y}<extra></extra>",
         "legendgroup": "Nicaragua",
         "line": {
          "color": "rgb(33,113,181)"
         },
         "marker": {
          "symbol": "circle"
         },
         "mode": "lines",
         "name": "Nicaragua",
         "orientation": "v",
         "showlegend": true,
         "stackgroup": "1",
         "type": "scatter",
         "x": [
          2009,
          2010,
          2011,
          2012,
          2013,
          2014,
          2015,
          2016,
          2017,
          2018,
          2019
         ],
         "xaxis": "x",
         "y": [
          2098,
          1868,
          1571,
          1426,
          1339,
          1318,
          930,
          882,
          906,
          964,
          2268
         ],
         "yaxis": "y"
        },
        {
         "hovertemplate": "Country=Panama<br>Year=%{x}<br>Total=%{y}<extra></extra>",
         "legendgroup": "Panama",
         "line": {
          "color": "rgb(8,81,156)"
         },
         "marker": {
          "symbol": "circle"
         },
         "mode": "lines",
         "name": "Panama",
         "orientation": "v",
         "showlegend": true,
         "stackgroup": "1",
         "type": "scatter",
         "x": [
          2009,
          2010,
          2011,
          2012,
          2013,
          2014,
          2015,
          2016,
          2017,
          2018,
          2019
         ],
         "xaxis": "x",
         "y": [
          189,
          190,
          148,
          129,
          122,
          91,
          102,
          83,
          94,
          91,
          102
         ],
         "yaxis": "y"
        },
        {
         "hovertemplate": "DACA implemented",
         "marker": {
          "color": "#b60028"
         },
         "name": "DACA implemented",
         "type": "bar",
         "width": 0.15,
         "x": [
          2012.6666666666667
         ],
         "y": [
          450000
         ]
        },
        {
         "hovertemplate": "DACA phase out announced",
         "marker": {
          "color": "#b60028"
         },
         "name": "DACA phase out announced",
         "type": "bar",
         "width": 0.15,
         "x": [
          2017.75
         ],
         "y": [
          450000
         ]
        }
       ],
       "layout": {
        "legend": {
         "title": {
          "text": "Country"
         },
         "tracegroupgap": 0
        },
        "paper_bgcolor": "rgba(0, 0, 0, 0)",
        "plot_bgcolor": "rgba(0, 0, 0, 0)",
        "template": {
         "data": {
          "bar": [
           {
            "error_x": {
             "color": "#2a3f5f"
            },
            "error_y": {
             "color": "#2a3f5f"
            },
            "marker": {
             "line": {
              "color": "white",
              "width": 0.5
             },
             "pattern": {
              "fillmode": "overlay",
              "size": 10,
              "solidity": 0.2
             }
            },
            "type": "bar"
           }
          ],
          "barpolar": [
           {
            "marker": {
             "line": {
              "color": "white",
              "width": 0.5
             },
             "pattern": {
              "fillmode": "overlay",
              "size": 10,
              "solidity": 0.2
             }
            },
            "type": "barpolar"
           }
          ],
          "carpet": [
           {
            "aaxis": {
             "endlinecolor": "#2a3f5f",
             "gridcolor": "#C8D4E3",
             "linecolor": "#C8D4E3",
             "minorgridcolor": "#C8D4E3",
             "startlinecolor": "#2a3f5f"
            },
            "baxis": {
             "endlinecolor": "#2a3f5f",
             "gridcolor": "#C8D4E3",
             "linecolor": "#C8D4E3",
             "minorgridcolor": "#C8D4E3",
             "startlinecolor": "#2a3f5f"
            },
            "type": "carpet"
           }
          ],
          "choropleth": [
           {
            "colorbar": {
             "outlinewidth": 0,
             "ticks": ""
            },
            "type": "choropleth"
           }
          ],
          "contour": [
           {
            "colorbar": {
             "outlinewidth": 0,
             "ticks": ""
            },
            "colorscale": [
             [
              0,
              "#0d0887"
             ],
             [
              0.1111111111111111,
              "#46039f"
             ],
             [
              0.2222222222222222,
              "#7201a8"
             ],
             [
              0.3333333333333333,
              "#9c179e"
             ],
             [
              0.4444444444444444,
              "#bd3786"
             ],
             [
              0.5555555555555556,
              "#d8576b"
             ],
             [
              0.6666666666666666,
              "#ed7953"
             ],
             [
              0.7777777777777778,
              "#fb9f3a"
             ],
             [
              0.8888888888888888,
              "#fdca26"
             ],
             [
              1,
              "#f0f921"
             ]
            ],
            "type": "contour"
           }
          ],
          "contourcarpet": [
           {
            "colorbar": {
             "outlinewidth": 0,
             "ticks": ""
            },
            "type": "contourcarpet"
           }
          ],
          "heatmap": [
           {
            "colorbar": {
             "outlinewidth": 0,
             "ticks": ""
            },
            "colorscale": [
             [
              0,
              "#0d0887"
             ],
             [
              0.1111111111111111,
              "#46039f"
             ],
             [
              0.2222222222222222,
              "#7201a8"
             ],
             [
              0.3333333333333333,
              "#9c179e"
             ],
             [
              0.4444444444444444,
              "#bd3786"
             ],
             [
              0.5555555555555556,
              "#d8576b"
             ],
             [
              0.6666666666666666,
              "#ed7953"
             ],
             [
              0.7777777777777778,
              "#fb9f3a"
             ],
             [
              0.8888888888888888,
              "#fdca26"
             ],
             [
              1,
              "#f0f921"
             ]
            ],
            "type": "heatmap"
           }
          ],
          "heatmapgl": [
           {
            "colorbar": {
             "outlinewidth": 0,
             "ticks": ""
            },
            "colorscale": [
             [
              0,
              "#0d0887"
             ],
             [
              0.1111111111111111,
              "#46039f"
             ],
             [
              0.2222222222222222,
              "#7201a8"
             ],
             [
              0.3333333333333333,
              "#9c179e"
             ],
             [
              0.4444444444444444,
              "#bd3786"
             ],
             [
              0.5555555555555556,
              "#d8576b"
             ],
             [
              0.6666666666666666,
              "#ed7953"
             ],
             [
              0.7777777777777778,
              "#fb9f3a"
             ],
             [
              0.8888888888888888,
              "#fdca26"
             ],
             [
              1,
              "#f0f921"
             ]
            ],
            "type": "heatmapgl"
           }
          ],
          "histogram": [
           {
            "marker": {
             "pattern": {
              "fillmode": "overlay",
              "size": 10,
              "solidity": 0.2
             }
            },
            "type": "histogram"
           }
          ],
          "histogram2d": [
           {
            "colorbar": {
             "outlinewidth": 0,
             "ticks": ""
            },
            "colorscale": [
             [
              0,
              "#0d0887"
             ],
             [
              0.1111111111111111,
              "#46039f"
             ],
             [
              0.2222222222222222,
              "#7201a8"
             ],
             [
              0.3333333333333333,
              "#9c179e"
             ],
             [
              0.4444444444444444,
              "#bd3786"
             ],
             [
              0.5555555555555556,
              "#d8576b"
             ],
             [
              0.6666666666666666,
              "#ed7953"
             ],
             [
              0.7777777777777778,
              "#fb9f3a"
             ],
             [
              0.8888888888888888,
              "#fdca26"
             ],
             [
              1,
              "#f0f921"
             ]
            ],
            "type": "histogram2d"
           }
          ],
          "histogram2dcontour": [
           {
            "colorbar": {
             "outlinewidth": 0,
             "ticks": ""
            },
            "colorscale": [
             [
              0,
              "#0d0887"
             ],
             [
              0.1111111111111111,
              "#46039f"
             ],
             [
              0.2222222222222222,
              "#7201a8"
             ],
             [
              0.3333333333333333,
              "#9c179e"
             ],
             [
              0.4444444444444444,
              "#bd3786"
             ],
             [
              0.5555555555555556,
              "#d8576b"
             ],
             [
              0.6666666666666666,
              "#ed7953"
             ],
             [
              0.7777777777777778,
              "#fb9f3a"
             ],
             [
              0.8888888888888888,
              "#fdca26"
             ],
             [
              1,
              "#f0f921"
             ]
            ],
            "type": "histogram2dcontour"
           }
          ],
          "mesh3d": [
           {
            "colorbar": {
             "outlinewidth": 0,
             "ticks": ""
            },
            "type": "mesh3d"
           }
          ],
          "parcoords": [
           {
            "line": {
             "colorbar": {
              "outlinewidth": 0,
              "ticks": ""
             }
            },
            "type": "parcoords"
           }
          ],
          "pie": [
           {
            "automargin": true,
            "type": "pie"
           }
          ],
          "scatter": [
           {
            "marker": {
             "colorbar": {
              "outlinewidth": 0,
              "ticks": ""
             }
            },
            "type": "scatter"
           }
          ],
          "scatter3d": [
           {
            "line": {
             "colorbar": {
              "outlinewidth": 0,
              "ticks": ""
             }
            },
            "marker": {
             "colorbar": {
              "outlinewidth": 0,
              "ticks": ""
             }
            },
            "type": "scatter3d"
           }
          ],
          "scattercarpet": [
           {
            "marker": {
             "colorbar": {
              "outlinewidth": 0,
              "ticks": ""
             }
            },
            "type": "scattercarpet"
           }
          ],
          "scattergeo": [
           {
            "marker": {
             "colorbar": {
              "outlinewidth": 0,
              "ticks": ""
             }
            },
            "type": "scattergeo"
           }
          ],
          "scattergl": [
           {
            "marker": {
             "colorbar": {
              "outlinewidth": 0,
              "ticks": ""
             }
            },
            "type": "scattergl"
           }
          ],
          "scattermapbox": [
           {
            "marker": {
             "colorbar": {
              "outlinewidth": 0,
              "ticks": ""
             }
            },
            "type": "scattermapbox"
           }
          ],
          "scatterpolar": [
           {
            "marker": {
             "colorbar": {
              "outlinewidth": 0,
              "ticks": ""
             }
            },
            "type": "scatterpolar"
           }
          ],
          "scatterpolargl": [
           {
            "marker": {
             "colorbar": {
              "outlinewidth": 0,
              "ticks": ""
             }
            },
            "type": "scatterpolargl"
           }
          ],
          "scatterternary": [
           {
            "marker": {
             "colorbar": {
              "outlinewidth": 0,
              "ticks": ""
             }
            },
            "type": "scatterternary"
           }
          ],
          "surface": [
           {
            "colorbar": {
             "outlinewidth": 0,
             "ticks": ""
            },
            "colorscale": [
             [
              0,
              "#0d0887"
             ],
             [
              0.1111111111111111,
              "#46039f"
             ],
             [
              0.2222222222222222,
              "#7201a8"
             ],
             [
              0.3333333333333333,
              "#9c179e"
             ],
             [
              0.4444444444444444,
              "#bd3786"
             ],
             [
              0.5555555555555556,
              "#d8576b"
             ],
             [
              0.6666666666666666,
              "#ed7953"
             ],
             [
              0.7777777777777778,
              "#fb9f3a"
             ],
             [
              0.8888888888888888,
              "#fdca26"
             ],
             [
              1,
              "#f0f921"
             ]
            ],
            "type": "surface"
           }
          ],
          "table": [
           {
            "cells": {
             "fill": {
              "color": "#EBF0F8"
             },
             "line": {
              "color": "white"
             }
            },
            "header": {
             "fill": {
              "color": "#C8D4E3"
             },
             "line": {
              "color": "white"
             }
            },
            "type": "table"
           }
          ]
         },
         "layout": {
          "annotationdefaults": {
           "arrowcolor": "#2a3f5f",
           "arrowhead": 0,
           "arrowwidth": 1
          },
          "autotypenumbers": "strict",
          "coloraxis": {
           "colorbar": {
            "outlinewidth": 0,
            "ticks": ""
           }
          },
          "colorscale": {
           "diverging": [
            [
             0,
             "#8e0152"
            ],
            [
             0.1,
             "#c51b7d"
            ],
            [
             0.2,
             "#de77ae"
            ],
            [
             0.3,
             "#f1b6da"
            ],
            [
             0.4,
             "#fde0ef"
            ],
            [
             0.5,
             "#f7f7f7"
            ],
            [
             0.6,
             "#e6f5d0"
            ],
            [
             0.7,
             "#b8e186"
            ],
            [
             0.8,
             "#7fbc41"
            ],
            [
             0.9,
             "#4d9221"
            ],
            [
             1,
             "#276419"
            ]
           ],
           "sequential": [
            [
             0,
             "#0d0887"
            ],
            [
             0.1111111111111111,
             "#46039f"
            ],
            [
             0.2222222222222222,
             "#7201a8"
            ],
            [
             0.3333333333333333,
             "#9c179e"
            ],
            [
             0.4444444444444444,
             "#bd3786"
            ],
            [
             0.5555555555555556,
             "#d8576b"
            ],
            [
             0.6666666666666666,
             "#ed7953"
            ],
            [
             0.7777777777777778,
             "#fb9f3a"
            ],
            [
             0.8888888888888888,
             "#fdca26"
            ],
            [
             1,
             "#f0f921"
            ]
           ],
           "sequentialminus": [
            [
             0,
             "#0d0887"
            ],
            [
             0.1111111111111111,
             "#46039f"
            ],
            [
             0.2222222222222222,
             "#7201a8"
            ],
            [
             0.3333333333333333,
             "#9c179e"
            ],
            [
             0.4444444444444444,
             "#bd3786"
            ],
            [
             0.5555555555555556,
             "#d8576b"
            ],
            [
             0.6666666666666666,
             "#ed7953"
            ],
            [
             0.7777777777777778,
             "#fb9f3a"
            ],
            [
             0.8888888888888888,
             "#fdca26"
            ],
            [
             1,
             "#f0f921"
            ]
           ]
          },
          "colorway": [
           "#636efa",
           "#EF553B",
           "#00cc96",
           "#ab63fa",
           "#FFA15A",
           "#19d3f3",
           "#FF6692",
           "#B6E880",
           "#FF97FF",
           "#FECB52"
          ],
          "font": {
           "color": "#2a3f5f"
          },
          "geo": {
           "bgcolor": "white",
           "lakecolor": "white",
           "landcolor": "white",
           "showlakes": true,
           "showland": true,
           "subunitcolor": "#C8D4E3"
          },
          "hoverlabel": {
           "align": "left"
          },
          "hovermode": "closest",
          "mapbox": {
           "style": "light"
          },
          "paper_bgcolor": "white",
          "plot_bgcolor": "white",
          "polar": {
           "angularaxis": {
            "gridcolor": "#EBF0F8",
            "linecolor": "#EBF0F8",
            "ticks": ""
           },
           "bgcolor": "white",
           "radialaxis": {
            "gridcolor": "#EBF0F8",
            "linecolor": "#EBF0F8",
            "ticks": ""
           }
          },
          "scene": {
           "xaxis": {
            "backgroundcolor": "white",
            "gridcolor": "#DFE8F3",
            "gridwidth": 2,
            "linecolor": "#EBF0F8",
            "showbackground": true,
            "ticks": "",
            "zerolinecolor": "#EBF0F8"
           },
           "yaxis": {
            "backgroundcolor": "white",
            "gridcolor": "#DFE8F3",
            "gridwidth": 2,
            "linecolor": "#EBF0F8",
            "showbackground": true,
            "ticks": "",
            "zerolinecolor": "#EBF0F8"
           },
           "zaxis": {
            "backgroundcolor": "white",
            "gridcolor": "#DFE8F3",
            "gridwidth": 2,
            "linecolor": "#EBF0F8",
            "showbackground": true,
            "ticks": "",
            "zerolinecolor": "#EBF0F8"
           }
          },
          "shapedefaults": {
           "line": {
            "color": "#2a3f5f"
           }
          },
          "ternary": {
           "aaxis": {
            "gridcolor": "#DFE8F3",
            "linecolor": "#A2B1C6",
            "ticks": ""
           },
           "baxis": {
            "gridcolor": "#DFE8F3",
            "linecolor": "#A2B1C6",
            "ticks": ""
           },
           "bgcolor": "white",
           "caxis": {
            "gridcolor": "#DFE8F3",
            "linecolor": "#A2B1C6",
            "ticks": ""
           }
          },
          "title": {
           "x": 0.05
          },
          "xaxis": {
           "automargin": true,
           "gridcolor": "#EBF0F8",
           "linecolor": "#EBF0F8",
           "ticks": "",
           "title": {
            "standoff": 15
           },
           "zerolinecolor": "#EBF0F8",
           "zerolinewidth": 2
          },
          "yaxis": {
           "automargin": true,
           "gridcolor": "#EBF0F8",
           "linecolor": "#EBF0F8",
           "ticks": "",
           "title": {
            "standoff": 15
           },
           "zerolinecolor": "#EBF0F8",
           "zerolinewidth": 2
          }
         }
        },
        "title": {
         "text": "Aliens Removed by Region and Country of Nationality"
        },
        "xaxis": {
         "anchor": "y",
         "domain": [
          0,
          1
         ],
         "title": {
          "text": "Year"
         }
        },
        "yaxis": {
         "anchor": "x",
         "domain": [
          0,
          1
         ],
         "title": {
          "text": "Total"
         }
        }
       }
      },
      "text/html": [
       "<div>                            <div id=\"e0725c60-532e-4e48-94f0-b7c30b7214cb\" class=\"plotly-graph-div\" style=\"height:525px; width:100%;\"></div>            <script type=\"text/javascript\">                require([\"plotly\"], function(Plotly) {                    window.PLOTLYENV=window.PLOTLYENV || {};                                    if (document.getElementById(\"e0725c60-532e-4e48-94f0-b7c30b7214cb\")) {                    Plotly.newPlot(                        \"e0725c60-532e-4e48-94f0-b7c30b7214cb\",                        [{\"hovertemplate\":\"Country=Belize<br>Year=%{x}<br>Total=%{y}<extra></extra>\",\"legendgroup\":\"Belize\",\"line\":{\"color\":\"rgb(247,251,255)\"},\"marker\":{\"symbol\":\"circle\"},\"mode\":\"lines\",\"name\":\"Belize\",\"orientation\":\"v\",\"showlegend\":true,\"stackgroup\":\"1\",\"type\":\"scatter\",\"x\":[2009,2010,2011,2012,2013,2014,2015,2016,2017,2018,2019],\"xaxis\":\"x\",\"y\":[237,254,221,204,175,136,134,146,123,133,109],\"yaxis\":\"y\"},{\"hovertemplate\":\"Country=Costa Rica<br>Year=%{x}<br>Total=%{y}<extra></extra>\",\"legendgroup\":\"Costa Rica\",\"line\":{\"color\":\"rgb(222,235,247)\"},\"marker\":{\"symbol\":\"circle\"},\"mode\":\"lines\",\"name\":\"Costa Rica\",\"orientation\":\"v\",\"showlegend\":true,\"stackgroup\":\"1\",\"type\":\"scatter\",\"x\":[2009,2010,2011,2012,2013,2014,2015,2016,2017,2018,2019],\"xaxis\":\"x\",\"y\":[671,558,415,398,332,286,224,253,256,319,356],\"yaxis\":\"y\"},{\"hovertemplate\":\"Country=El Salvador<br>Year=%{x}<br>Total=%{y}<extra></extra>\",\"legendgroup\":\"El Salvador\",\"line\":{\"color\":\"rgb(198,219,239)\"},\"marker\":{\"symbol\":\"circle\"},\"mode\":\"lines\",\"name\":\"El Salvador\",\"orientation\":\"v\",\"showlegend\":true,\"stackgroup\":\"1\",\"type\":\"scatter\",\"x\":[2009,2010,2011,2012,2013,2014,2015,2016,2017,2018,2019],\"xaxis\":\"x\",\"y\":[20406,20017,17945,18910,21130,26671,21899,20264,18448,14877,18190],\"yaxis\":\"y\"},{\"hovertemplate\":\"Country=Guatemala<br>Year=%{x}<br>Total=%{y}<extra></extra>\",\"legendgroup\":\"Guatemala\",\"line\":{\"color\":\"rgb(158,202,225)\"},\"marker\":{\"symbol\":\"circle\"},\"mode\":\"lines\",\"name\":\"Guatemala\",\"orientation\":\"v\",\"showlegend\":true,\"stackgroup\":\"1\",\"type\":\"scatter\",\"x\":[2009,2010,2011,2012,2013,2014,2015,2016,2017,2018,2019],\"xaxis\":\"x\",\"y\":[29182,29403,30871,38885,47013,54405,33379,33886,33049,49135,53180],\"yaxis\":\"y\"},{\"hovertemplate\":\"Country=Honduras<br>Year=%{x}<br>Total=%{y}<extra></extra>\",\"legendgroup\":\"Honduras\",\"line\":{\"color\":\"rgb(107,174,214)\"},\"marker\":{\"symbol\":\"circle\"},\"mode\":\"lines\",\"name\":\"Honduras\",\"orientation\":\"v\",\"showlegend\":true,\"stackgroup\":\"1\",\"type\":\"scatter\",\"x\":[2009,2010,2011,2012,2013,2014,2015,2016,2017,2018,2019],\"xaxis\":\"x\",\"y\":[26849,24652,22675,31724,36635,40877,20298,22015,22163,28451,40751],\"yaxis\":\"y\"},{\"hovertemplate\":\"Country=Mexico<br>Year=%{x}<br>Total=%{y}<extra></extra>\",\"legendgroup\":\"Mexico\",\"line\":{\"color\":\"rgb(66,146,198)\"},\"marker\":{\"symbol\":\"circle\"},\"mode\":\"lines\",\"name\":\"Mexico\",\"orientation\":\"v\",\"showlegend\":true,\"stackgroup\":\"1\",\"type\":\"scatter\",\"x\":[2009,2010,2011,2012,2013,2014,2015,2016,2017,2018,2019],\"xaxis\":\"x\",\"y\":[282666,275560,287462,300496,306902,265086,233222,236205,184106,209334,215205],\"yaxis\":\"y\"},{\"hovertemplate\":\"Country=Nicaragua<br>Year=%{x}<br>Total=%{y}<extra></extra>\",\"legendgroup\":\"Nicaragua\",\"line\":{\"color\":\"rgb(33,113,181)\"},\"marker\":{\"symbol\":\"circle\"},\"mode\":\"lines\",\"name\":\"Nicaragua\",\"orientation\":\"v\",\"showlegend\":true,\"stackgroup\":\"1\",\"type\":\"scatter\",\"x\":[2009,2010,2011,2012,2013,2014,2015,2016,2017,2018,2019],\"xaxis\":\"x\",\"y\":[2098,1868,1571,1426,1339,1318,930,882,906,964,2268],\"yaxis\":\"y\"},{\"hovertemplate\":\"Country=Panama<br>Year=%{x}<br>Total=%{y}<extra></extra>\",\"legendgroup\":\"Panama\",\"line\":{\"color\":\"rgb(8,81,156)\"},\"marker\":{\"symbol\":\"circle\"},\"mode\":\"lines\",\"name\":\"Panama\",\"orientation\":\"v\",\"showlegend\":true,\"stackgroup\":\"1\",\"type\":\"scatter\",\"x\":[2009,2010,2011,2012,2013,2014,2015,2016,2017,2018,2019],\"xaxis\":\"x\",\"y\":[189,190,148,129,122,91,102,83,94,91,102],\"yaxis\":\"y\"},{\"hovertemplate\":\"DACA implemented\",\"marker\":{\"color\":\"#b60028\"},\"name\":\"DACA implemented\",\"type\":\"bar\",\"width\":0.15,\"x\":[2012.6666666666667],\"y\":[450000]},{\"hovertemplate\":\"DACA phase out announced\",\"marker\":{\"color\":\"#b60028\"},\"name\":\"DACA phase out announced\",\"type\":\"bar\",\"width\":0.15,\"x\":[2017.75],\"y\":[450000]}],                        {\"legend\":{\"title\":{\"text\":\"Country\"},\"tracegroupgap\":0},\"paper_bgcolor\":\"rgba(0, 0, 0, 0)\",\"plot_bgcolor\":\"rgba(0, 0, 0, 0)\",\"template\":{\"data\":{\"bar\":[{\"error_x\":{\"color\":\"#2a3f5f\"},\"error_y\":{\"color\":\"#2a3f5f\"},\"marker\":{\"line\":{\"color\":\"white\",\"width\":0.5},\"pattern\":{\"fillmode\":\"overlay\",\"size\":10,\"solidity\":0.2}},\"type\":\"bar\"}],\"barpolar\":[{\"marker\":{\"line\":{\"color\":\"white\",\"width\":0.5},\"pattern\":{\"fillmode\":\"overlay\",\"size\":10,\"solidity\":0.2}},\"type\":\"barpolar\"}],\"carpet\":[{\"aaxis\":{\"endlinecolor\":\"#2a3f5f\",\"gridcolor\":\"#C8D4E3\",\"linecolor\":\"#C8D4E3\",\"minorgridcolor\":\"#C8D4E3\",\"startlinecolor\":\"#2a3f5f\"},\"baxis\":{\"endlinecolor\":\"#2a3f5f\",\"gridcolor\":\"#C8D4E3\",\"linecolor\":\"#C8D4E3\",\"minorgridcolor\":\"#C8D4E3\",\"startlinecolor\":\"#2a3f5f\"},\"type\":\"carpet\"}],\"choropleth\":[{\"colorbar\":{\"outlinewidth\":0,\"ticks\":\"\"},\"type\":\"choropleth\"}],\"contour\":[{\"colorbar\":{\"outlinewidth\":0,\"ticks\":\"\"},\"colorscale\":[[0.0,\"#0d0887\"],[0.1111111111111111,\"#46039f\"],[0.2222222222222222,\"#7201a8\"],[0.3333333333333333,\"#9c179e\"],[0.4444444444444444,\"#bd3786\"],[0.5555555555555556,\"#d8576b\"],[0.6666666666666666,\"#ed7953\"],[0.7777777777777778,\"#fb9f3a\"],[0.8888888888888888,\"#fdca26\"],[1.0,\"#f0f921\"]],\"type\":\"contour\"}],\"contourcarpet\":[{\"colorbar\":{\"outlinewidth\":0,\"ticks\":\"\"},\"type\":\"contourcarpet\"}],\"heatmap\":[{\"colorbar\":{\"outlinewidth\":0,\"ticks\":\"\"},\"colorscale\":[[0.0,\"#0d0887\"],[0.1111111111111111,\"#46039f\"],[0.2222222222222222,\"#7201a8\"],[0.3333333333333333,\"#9c179e\"],[0.4444444444444444,\"#bd3786\"],[0.5555555555555556,\"#d8576b\"],[0.6666666666666666,\"#ed7953\"],[0.7777777777777778,\"#fb9f3a\"],[0.8888888888888888,\"#fdca26\"],[1.0,\"#f0f921\"]],\"type\":\"heatmap\"}],\"heatmapgl\":[{\"colorbar\":{\"outlinewidth\":0,\"ticks\":\"\"},\"colorscale\":[[0.0,\"#0d0887\"],[0.1111111111111111,\"#46039f\"],[0.2222222222222222,\"#7201a8\"],[0.3333333333333333,\"#9c179e\"],[0.4444444444444444,\"#bd3786\"],[0.5555555555555556,\"#d8576b\"],[0.6666666666666666,\"#ed7953\"],[0.7777777777777778,\"#fb9f3a\"],[0.8888888888888888,\"#fdca26\"],[1.0,\"#f0f921\"]],\"type\":\"heatmapgl\"}],\"histogram\":[{\"marker\":{\"pattern\":{\"fillmode\":\"overlay\",\"size\":10,\"solidity\":0.2}},\"type\":\"histogram\"}],\"histogram2d\":[{\"colorbar\":{\"outlinewidth\":0,\"ticks\":\"\"},\"colorscale\":[[0.0,\"#0d0887\"],[0.1111111111111111,\"#46039f\"],[0.2222222222222222,\"#7201a8\"],[0.3333333333333333,\"#9c179e\"],[0.4444444444444444,\"#bd3786\"],[0.5555555555555556,\"#d8576b\"],[0.6666666666666666,\"#ed7953\"],[0.7777777777777778,\"#fb9f3a\"],[0.8888888888888888,\"#fdca26\"],[1.0,\"#f0f921\"]],\"type\":\"histogram2d\"}],\"histogram2dcontour\":[{\"colorbar\":{\"outlinewidth\":0,\"ticks\":\"\"},\"colorscale\":[[0.0,\"#0d0887\"],[0.1111111111111111,\"#46039f\"],[0.2222222222222222,\"#7201a8\"],[0.3333333333333333,\"#9c179e\"],[0.4444444444444444,\"#bd3786\"],[0.5555555555555556,\"#d8576b\"],[0.6666666666666666,\"#ed7953\"],[0.7777777777777778,\"#fb9f3a\"],[0.8888888888888888,\"#fdca26\"],[1.0,\"#f0f921\"]],\"type\":\"histogram2dcontour\"}],\"mesh3d\":[{\"colorbar\":{\"outlinewidth\":0,\"ticks\":\"\"},\"type\":\"mesh3d\"}],\"parcoords\":[{\"line\":{\"colorbar\":{\"outlinewidth\":0,\"ticks\":\"\"}},\"type\":\"parcoords\"}],\"pie\":[{\"automargin\":true,\"type\":\"pie\"}],\"scatter\":[{\"marker\":{\"colorbar\":{\"outlinewidth\":0,\"ticks\":\"\"}},\"type\":\"scatter\"}],\"scatter3d\":[{\"line\":{\"colorbar\":{\"outlinewidth\":0,\"ticks\":\"\"}},\"marker\":{\"colorbar\":{\"outlinewidth\":0,\"ticks\":\"\"}},\"type\":\"scatter3d\"}],\"scattercarpet\":[{\"marker\":{\"colorbar\":{\"outlinewidth\":0,\"ticks\":\"\"}},\"type\":\"scattercarpet\"}],\"scattergeo\":[{\"marker\":{\"colorbar\":{\"outlinewidth\":0,\"ticks\":\"\"}},\"type\":\"scattergeo\"}],\"scattergl\":[{\"marker\":{\"colorbar\":{\"outlinewidth\":0,\"ticks\":\"\"}},\"type\":\"scattergl\"}],\"scattermapbox\":[{\"marker\":{\"colorbar\":{\"outlinewidth\":0,\"ticks\":\"\"}},\"type\":\"scattermapbox\"}],\"scatterpolar\":[{\"marker\":{\"colorbar\":{\"outlinewidth\":0,\"ticks\":\"\"}},\"type\":\"scatterpolar\"}],\"scatterpolargl\":[{\"marker\":{\"colorbar\":{\"outlinewidth\":0,\"ticks\":\"\"}},\"type\":\"scatterpolargl\"}],\"scatterternary\":[{\"marker\":{\"colorbar\":{\"outlinewidth\":0,\"ticks\":\"\"}},\"type\":\"scatterternary\"}],\"surface\":[{\"colorbar\":{\"outlinewidth\":0,\"ticks\":\"\"},\"colorscale\":[[0.0,\"#0d0887\"],[0.1111111111111111,\"#46039f\"],[0.2222222222222222,\"#7201a8\"],[0.3333333333333333,\"#9c179e\"],[0.4444444444444444,\"#bd3786\"],[0.5555555555555556,\"#d8576b\"],[0.6666666666666666,\"#ed7953\"],[0.7777777777777778,\"#fb9f3a\"],[0.8888888888888888,\"#fdca26\"],[1.0,\"#f0f921\"]],\"type\":\"surface\"}],\"table\":[{\"cells\":{\"fill\":{\"color\":\"#EBF0F8\"},\"line\":{\"color\":\"white\"}},\"header\":{\"fill\":{\"color\":\"#C8D4E3\"},\"line\":{\"color\":\"white\"}},\"type\":\"table\"}]},\"layout\":{\"annotationdefaults\":{\"arrowcolor\":\"#2a3f5f\",\"arrowhead\":0,\"arrowwidth\":1},\"autotypenumbers\":\"strict\",\"coloraxis\":{\"colorbar\":{\"outlinewidth\":0,\"ticks\":\"\"}},\"colorscale\":{\"diverging\":[[0,\"#8e0152\"],[0.1,\"#c51b7d\"],[0.2,\"#de77ae\"],[0.3,\"#f1b6da\"],[0.4,\"#fde0ef\"],[0.5,\"#f7f7f7\"],[0.6,\"#e6f5d0\"],[0.7,\"#b8e186\"],[0.8,\"#7fbc41\"],[0.9,\"#4d9221\"],[1,\"#276419\"]],\"sequential\":[[0.0,\"#0d0887\"],[0.1111111111111111,\"#46039f\"],[0.2222222222222222,\"#7201a8\"],[0.3333333333333333,\"#9c179e\"],[0.4444444444444444,\"#bd3786\"],[0.5555555555555556,\"#d8576b\"],[0.6666666666666666,\"#ed7953\"],[0.7777777777777778,\"#fb9f3a\"],[0.8888888888888888,\"#fdca26\"],[1.0,\"#f0f921\"]],\"sequentialminus\":[[0.0,\"#0d0887\"],[0.1111111111111111,\"#46039f\"],[0.2222222222222222,\"#7201a8\"],[0.3333333333333333,\"#9c179e\"],[0.4444444444444444,\"#bd3786\"],[0.5555555555555556,\"#d8576b\"],[0.6666666666666666,\"#ed7953\"],[0.7777777777777778,\"#fb9f3a\"],[0.8888888888888888,\"#fdca26\"],[1.0,\"#f0f921\"]]},\"colorway\":[\"#636efa\",\"#EF553B\",\"#00cc96\",\"#ab63fa\",\"#FFA15A\",\"#19d3f3\",\"#FF6692\",\"#B6E880\",\"#FF97FF\",\"#FECB52\"],\"font\":{\"color\":\"#2a3f5f\"},\"geo\":{\"bgcolor\":\"white\",\"lakecolor\":\"white\",\"landcolor\":\"white\",\"showlakes\":true,\"showland\":true,\"subunitcolor\":\"#C8D4E3\"},\"hoverlabel\":{\"align\":\"left\"},\"hovermode\":\"closest\",\"mapbox\":{\"style\":\"light\"},\"paper_bgcolor\":\"white\",\"plot_bgcolor\":\"white\",\"polar\":{\"angularaxis\":{\"gridcolor\":\"#EBF0F8\",\"linecolor\":\"#EBF0F8\",\"ticks\":\"\"},\"bgcolor\":\"white\",\"radialaxis\":{\"gridcolor\":\"#EBF0F8\",\"linecolor\":\"#EBF0F8\",\"ticks\":\"\"}},\"scene\":{\"xaxis\":{\"backgroundcolor\":\"white\",\"gridcolor\":\"#DFE8F3\",\"gridwidth\":2,\"linecolor\":\"#EBF0F8\",\"showbackground\":true,\"ticks\":\"\",\"zerolinecolor\":\"#EBF0F8\"},\"yaxis\":{\"backgroundcolor\":\"white\",\"gridcolor\":\"#DFE8F3\",\"gridwidth\":2,\"linecolor\":\"#EBF0F8\",\"showbackground\":true,\"ticks\":\"\",\"zerolinecolor\":\"#EBF0F8\"},\"zaxis\":{\"backgroundcolor\":\"white\",\"gridcolor\":\"#DFE8F3\",\"gridwidth\":2,\"linecolor\":\"#EBF0F8\",\"showbackground\":true,\"ticks\":\"\",\"zerolinecolor\":\"#EBF0F8\"}},\"shapedefaults\":{\"line\":{\"color\":\"#2a3f5f\"}},\"ternary\":{\"aaxis\":{\"gridcolor\":\"#DFE8F3\",\"linecolor\":\"#A2B1C6\",\"ticks\":\"\"},\"baxis\":{\"gridcolor\":\"#DFE8F3\",\"linecolor\":\"#A2B1C6\",\"ticks\":\"\"},\"bgcolor\":\"white\",\"caxis\":{\"gridcolor\":\"#DFE8F3\",\"linecolor\":\"#A2B1C6\",\"ticks\":\"\"}},\"title\":{\"x\":0.05},\"xaxis\":{\"automargin\":true,\"gridcolor\":\"#EBF0F8\",\"linecolor\":\"#EBF0F8\",\"ticks\":\"\",\"title\":{\"standoff\":15},\"zerolinecolor\":\"#EBF0F8\",\"zerolinewidth\":2},\"yaxis\":{\"automargin\":true,\"gridcolor\":\"#EBF0F8\",\"linecolor\":\"#EBF0F8\",\"ticks\":\"\",\"title\":{\"standoff\":15},\"zerolinecolor\":\"#EBF0F8\",\"zerolinewidth\":2}}},\"title\":{\"text\":\"Aliens Removed by Region and Country of Nationality\"},\"xaxis\":{\"anchor\":\"y\",\"domain\":[0.0,1.0],\"title\":{\"text\":\"Year\"}},\"yaxis\":{\"anchor\":\"x\",\"domain\":[0.0,1.0],\"title\":{\"text\":\"Total\"}}},                        {\"responsive\": true}                    ).then(function(){\n",
       "                            \n",
       "var gd = document.getElementById('e0725c60-532e-4e48-94f0-b7c30b7214cb');\n",
       "var x = new MutationObserver(function (mutations, observer) {{\n",
       "        var display = window.getComputedStyle(gd).display;\n",
       "        if (!display || display === 'none') {{\n",
       "            console.log([gd, 'removed!']);\n",
       "            Plotly.purge(gd);\n",
       "            observer.disconnect();\n",
       "        }}\n",
       "}});\n",
       "\n",
       "// Listen for the removal of the full notebook cells\n",
       "var notebookContainer = gd.closest('#notebook-container');\n",
       "if (notebookContainer) {{\n",
       "    x.observe(notebookContainer, {childList: true});\n",
       "}}\n",
       "\n",
       "// Listen for the clearing of the current output cell\n",
       "var outputEl = gd.closest('.output');\n",
       "if (outputEl) {{\n",
       "    x.observe(outputEl, {childList: true});\n",
       "}}\n",
       "\n",
       "                        })                };                });            </script>        </div>"
      ]
     },
     "metadata": {},
     "output_type": "display_data"
    }
   ],
   "source": [
    "fig = px.area(df_new, x=\"Year\", y=\"Total\", color=\"Country\",\n",
    "              template=\"plotly_white\",\n",
    "              title=\"Aliens Removed by Region and Country of Nationality\",\n",
    "             color_discrete_sequence=px.colors.sequential.Blues)\n",
    "\n",
    "fig.update_layout({\n",
    "'plot_bgcolor': 'rgba(0, 0, 0, 0)',\n",
    "'paper_bgcolor': 'rgba(0, 0, 0, 0)',\n",
    "})\n",
    "\n",
    "chart_max = 450000\n",
    "\n",
    "policies = {'DACA implemented': 2012+(1/12*8), 'DACA phase out announced': 2017+(1/12*9)}\n",
    "\n",
    "for policy, year in policies.items():\n",
    "    fig.add_bar(x=[year], y=[chart_max],\n",
    "                name=policy, width=0.15,\n",
    "                hovertemplate=policy,\n",
    "                marker_color='#b60028')\n",
    "\n",
    "fig.show()"
   ]
  },
  {
   "cell_type": "code",
   "execution_count": 8,
   "id": "947c3dcb",
   "metadata": {},
   "outputs": [],
   "source": [
    "fig.write_html(\"./daca.txt\", include_plotlyjs=False, full_html=False)"
   ]
  },
  {
   "cell_type": "code",
   "execution_count": null,
   "id": "8d6118aa",
   "metadata": {},
   "outputs": [],
   "source": []
  }
 ],
 "metadata": {
  "kernelspec": {
   "display_name": "Python 3 (ipykernel)",
   "language": "python",
   "name": "python3"
  },
  "language_info": {
   "codemirror_mode": {
    "name": "ipython",
    "version": 3
   },
   "file_extension": ".py",
   "mimetype": "text/x-python",
   "name": "python",
   "nbconvert_exporter": "python",
   "pygments_lexer": "ipython3",
   "version": "3.9.7"
  }
 },
 "nbformat": 4,
 "nbformat_minor": 5
}
