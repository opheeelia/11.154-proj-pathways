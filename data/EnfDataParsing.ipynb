{
 "cells": [
  {
   "cell_type": "code",
   "execution_count": 1,
   "id": "21969986",
   "metadata": {},
   "outputs": [],
   "source": [
    "import numpy as np\n",
    "import pandas as pd\n",
    "import matplotlib.pyplot as plt\n",
    "import plotly.graph_objects as go\n",
    "import plotly.express as px"
   ]
  },
  {
   "cell_type": "code",
   "execution_count": 2,
   "id": "c0ff88c7",
   "metadata": {},
   "outputs": [
    {
     "data": {
      "text/html": [
       "<div>\n",
       "<style scoped>\n",
       "    .dataframe tbody tr th:only-of-type {\n",
       "        vertical-align: middle;\n",
       "    }\n",
       "\n",
       "    .dataframe tbody tr th {\n",
       "        vertical-align: top;\n",
       "    }\n",
       "\n",
       "    .dataframe thead tr th {\n",
       "        text-align: left;\n",
       "    }\n",
       "</style>\n",
       "<table border=\"1\" class=\"dataframe\">\n",
       "  <thead>\n",
       "    <tr>\n",
       "      <th></th>\n",
       "      <th colspan=\"3\" halign=\"left\">1999</th>\n",
       "      <th colspan=\"3\" halign=\"left\">2000</th>\n",
       "      <th colspan=\"3\" halign=\"left\">2001</th>\n",
       "      <th>2002</th>\n",
       "      <th>...</th>\n",
       "      <th>2016</th>\n",
       "      <th colspan=\"3\" halign=\"left\">2017</th>\n",
       "      <th colspan=\"3\" halign=\"left\">2018</th>\n",
       "      <th colspan=\"3\" halign=\"left\">2019</th>\n",
       "    </tr>\n",
       "    <tr>\n",
       "      <th>Region and country of nationality</th>\n",
       "      <th>Total</th>\n",
       "      <th>Criminal</th>\n",
       "      <th>Non-Criminal</th>\n",
       "      <th>Total</th>\n",
       "      <th>Criminal</th>\n",
       "      <th>Non-Criminal</th>\n",
       "      <th>Total</th>\n",
       "      <th>Criminal</th>\n",
       "      <th>Non-Criminal</th>\n",
       "      <th>Total</th>\n",
       "      <th>...</th>\n",
       "      <th>Non-Criminal</th>\n",
       "      <th>Total</th>\n",
       "      <th>Criminal</th>\n",
       "      <th>Non-Criminal</th>\n",
       "      <th>Total</th>\n",
       "      <th>Criminal</th>\n",
       "      <th>Non-Criminal</th>\n",
       "      <th>Total</th>\n",
       "      <th>Criminal</th>\n",
       "      <th>Non-Criminal</th>\n",
       "    </tr>\n",
       "  </thead>\n",
       "  <tbody>\n",
       "    <tr>\n",
       "      <th>Global Total</th>\n",
       "      <td>183114</td>\n",
       "      <td>71188</td>\n",
       "      <td>111926</td>\n",
       "      <td>188467</td>\n",
       "      <td>73065</td>\n",
       "      <td>115402</td>\n",
       "      <td>189026</td>\n",
       "      <td>73545</td>\n",
       "      <td>115481</td>\n",
       "      <td>165168</td>\n",
       "      <td>...</td>\n",
       "      <td>216416</td>\n",
       "      <td>287093</td>\n",
       "      <td>109697</td>\n",
       "      <td>177396</td>\n",
       "      <td>328716</td>\n",
       "      <td>148352</td>\n",
       "      <td>180364</td>\n",
       "      <td>359885</td>\n",
       "      <td>155788</td>\n",
       "      <td>204097</td>\n",
       "    </tr>\n",
       "    <tr>\n",
       "      <th>Belize</th>\n",
       "      <td>191</td>\n",
       "      <td>139</td>\n",
       "      <td>52</td>\n",
       "      <td>170</td>\n",
       "      <td>126</td>\n",
       "      <td>44</td>\n",
       "      <td>185</td>\n",
       "      <td>110</td>\n",
       "      <td>75</td>\n",
       "      <td>178</td>\n",
       "      <td>...</td>\n",
       "      <td>60</td>\n",
       "      <td>123</td>\n",
       "      <td>57</td>\n",
       "      <td>66</td>\n",
       "      <td>133</td>\n",
       "      <td>111</td>\n",
       "      <td>22</td>\n",
       "      <td>109</td>\n",
       "      <td>80</td>\n",
       "      <td>29</td>\n",
       "    </tr>\n",
       "    <tr>\n",
       "      <th>Costa Rica</th>\n",
       "      <td>227</td>\n",
       "      <td>69</td>\n",
       "      <td>158</td>\n",
       "      <td>328</td>\n",
       "      <td>58</td>\n",
       "      <td>270</td>\n",
       "      <td>392</td>\n",
       "      <td>65</td>\n",
       "      <td>327</td>\n",
       "      <td>376</td>\n",
       "      <td>...</td>\n",
       "      <td>183</td>\n",
       "      <td>256</td>\n",
       "      <td>73</td>\n",
       "      <td>183</td>\n",
       "      <td>319</td>\n",
       "      <td>253</td>\n",
       "      <td>66</td>\n",
       "      <td>356</td>\n",
       "      <td>313</td>\n",
       "      <td>43</td>\n",
       "    </tr>\n",
       "    <tr>\n",
       "      <th>El Salvador</th>\n",
       "      <td>4160</td>\n",
       "      <td>2115</td>\n",
       "      <td>2045</td>\n",
       "      <td>4736</td>\n",
       "      <td>2145</td>\n",
       "      <td>2591</td>\n",
       "      <td>3928</td>\n",
       "      <td>1895</td>\n",
       "      <td>2033</td>\n",
       "      <td>4066</td>\n",
       "      <td>...</td>\n",
       "      <td>13545</td>\n",
       "      <td>18448</td>\n",
       "      <td>6489</td>\n",
       "      <td>11959</td>\n",
       "      <td>14877</td>\n",
       "      <td>7003</td>\n",
       "      <td>7874</td>\n",
       "      <td>18190</td>\n",
       "      <td>8802</td>\n",
       "      <td>9388</td>\n",
       "    </tr>\n",
       "    <tr>\n",
       "      <th>Guatemala</th>\n",
       "      <td>3763</td>\n",
       "      <td>1096</td>\n",
       "      <td>2667</td>\n",
       "      <td>4543</td>\n",
       "      <td>1203</td>\n",
       "      <td>3340</td>\n",
       "      <td>4716</td>\n",
       "      <td>1169</td>\n",
       "      <td>3547</td>\n",
       "      <td>5396</td>\n",
       "      <td>...</td>\n",
       "      <td>23285</td>\n",
       "      <td>33049</td>\n",
       "      <td>11110</td>\n",
       "      <td>21939</td>\n",
       "      <td>49135</td>\n",
       "      <td>19814</td>\n",
       "      <td>29321</td>\n",
       "      <td>53180</td>\n",
       "      <td>23005</td>\n",
       "      <td>30175</td>\n",
       "    </tr>\n",
       "    <tr>\n",
       "      <th>Honduras</th>\n",
       "      <td>3460</td>\n",
       "      <td>1255</td>\n",
       "      <td>2205</td>\n",
       "      <td>4768</td>\n",
       "      <td>1486</td>\n",
       "      <td>3282</td>\n",
       "      <td>4548</td>\n",
       "      <td>1429</td>\n",
       "      <td>3119</td>\n",
       "      <td>4946</td>\n",
       "      <td>...</td>\n",
       "      <td>13423</td>\n",
       "      <td>22163</td>\n",
       "      <td>9282</td>\n",
       "      <td>12881</td>\n",
       "      <td>28451</td>\n",
       "      <td>12734</td>\n",
       "      <td>15717</td>\n",
       "      <td>40751</td>\n",
       "      <td>17941</td>\n",
       "      <td>22810</td>\n",
       "    </tr>\n",
       "    <tr>\n",
       "      <th>Mexico</th>\n",
       "      <td>150383</td>\n",
       "      <td>55878</td>\n",
       "      <td>94505</td>\n",
       "      <td>151267</td>\n",
       "      <td>57464</td>\n",
       "      <td>93803</td>\n",
       "      <td>150762</td>\n",
       "      <td>58499</td>\n",
       "      <td>92263</td>\n",
       "      <td>122058</td>\n",
       "      <td>...</td>\n",
       "      <td>154454</td>\n",
       "      <td>184106</td>\n",
       "      <td>74202</td>\n",
       "      <td>109904</td>\n",
       "      <td>209334</td>\n",
       "      <td>90403</td>\n",
       "      <td>118931</td>\n",
       "      <td>215205</td>\n",
       "      <td>84350</td>\n",
       "      <td>130855</td>\n",
       "    </tr>\n",
       "    <tr>\n",
       "      <th>Nicaragua</th>\n",
       "      <td>444</td>\n",
       "      <td>259</td>\n",
       "      <td>185</td>\n",
       "      <td>513</td>\n",
       "      <td>263</td>\n",
       "      <td>250</td>\n",
       "      <td>526</td>\n",
       "      <td>256</td>\n",
       "      <td>270</td>\n",
       "      <td>468</td>\n",
       "      <td>...</td>\n",
       "      <td>490</td>\n",
       "      <td>906</td>\n",
       "      <td>379</td>\n",
       "      <td>527</td>\n",
       "      <td>964</td>\n",
       "      <td>568</td>\n",
       "      <td>396</td>\n",
       "      <td>2268</td>\n",
       "      <td>1058</td>\n",
       "      <td>1210</td>\n",
       "    </tr>\n",
       "    <tr>\n",
       "      <th>Panama</th>\n",
       "      <td>169</td>\n",
       "      <td>130</td>\n",
       "      <td>39</td>\n",
       "      <td>154</td>\n",
       "      <td>110</td>\n",
       "      <td>44</td>\n",
       "      <td>157</td>\n",
       "      <td>109</td>\n",
       "      <td>48</td>\n",
       "      <td>163</td>\n",
       "      <td>...</td>\n",
       "      <td>29</td>\n",
       "      <td>94</td>\n",
       "      <td>52</td>\n",
       "      <td>42</td>\n",
       "      <td>91</td>\n",
       "      <td>86</td>\n",
       "      <td>5</td>\n",
       "      <td>102</td>\n",
       "      <td>95</td>\n",
       "      <td>7</td>\n",
       "    </tr>\n",
       "  </tbody>\n",
       "</table>\n",
       "<p>9 rows × 61 columns</p>\n",
       "</div>"
      ],
      "text/plain": [
       "                                       1999                          2000  \\\n",
       "Region and country of nationality     Total Criminal Non-Criminal   Total   \n",
       "Global Total                         183114    71188       111926  188467   \n",
       "Belize                                  191      139           52     170   \n",
       "Costa Rica                              227       69          158     328   \n",
       "El Salvador                            4160     2115         2045    4736   \n",
       "Guatemala                              3763     1096         2667    4543   \n",
       "Honduras                               3460     1255         2205    4768   \n",
       "Mexico                               150383    55878        94505  151267   \n",
       "Nicaragua                               444      259          185     513   \n",
       "Panama                                  169      130           39     154   \n",
       "\n",
       "                                                             2001           \\\n",
       "Region and country of nationality   Criminal Non-Criminal   Total Criminal   \n",
       "Global Total                           73065       115402  189026    73545   \n",
       "Belize                                   126           44     185      110   \n",
       "Costa Rica                                58          270     392       65   \n",
       "El Salvador                             2145         2591    3928     1895   \n",
       "Guatemala                               1203         3340    4716     1169   \n",
       "Honduras                                1486         3282    4548     1429   \n",
       "Mexico                                 57464        93803  150762    58499   \n",
       "Nicaragua                                263          250     526      256   \n",
       "Panama                                   110           44     157      109   \n",
       "\n",
       "                                                    2002  ...         2016  \\\n",
       "Region and country of nationality   Non-Criminal   Total  ... Non-Criminal   \n",
       "Global Total                              115481  165168  ...       216416   \n",
       "Belize                                        75     178  ...           60   \n",
       "Costa Rica                                   327     376  ...          183   \n",
       "El Salvador                                 2033    4066  ...        13545   \n",
       "Guatemala                                   3547    5396  ...        23285   \n",
       "Honduras                                    3119    4946  ...        13423   \n",
       "Mexico                                     92263  122058  ...       154454   \n",
       "Nicaragua                                    270     468  ...          490   \n",
       "Panama                                        48     163  ...           29   \n",
       "\n",
       "                                       2017                          2018  \\\n",
       "Region and country of nationality     Total Criminal Non-Criminal   Total   \n",
       "Global Total                         287093   109697       177396  328716   \n",
       "Belize                                  123       57           66     133   \n",
       "Costa Rica                              256       73          183     319   \n",
       "El Salvador                           18448     6489        11959   14877   \n",
       "Guatemala                             33049    11110        21939   49135   \n",
       "Honduras                              22163     9282        12881   28451   \n",
       "Mexico                               184106    74202       109904  209334   \n",
       "Nicaragua                               906      379          527     964   \n",
       "Panama                                   94       52           42      91   \n",
       "\n",
       "                                                             2019           \\\n",
       "Region and country of nationality   Criminal Non-Criminal   Total Criminal   \n",
       "Global Total                          148352       180364  359885   155788   \n",
       "Belize                                   111           22     109       80   \n",
       "Costa Rica                               253           66     356      313   \n",
       "El Salvador                             7003         7874   18190     8802   \n",
       "Guatemala                              19814        29321   53180    23005   \n",
       "Honduras                               12734        15717   40751    17941   \n",
       "Mexico                                 90403       118931  215205    84350   \n",
       "Nicaragua                                568          396    2268     1058   \n",
       "Panama                                    86            5     102       95   \n",
       "\n",
       "                                                  \n",
       "Region and country of nationality   Non-Criminal  \n",
       "Global Total                              204097  \n",
       "Belize                                        29  \n",
       "Costa Rica                                    43  \n",
       "El Salvador                                 9388  \n",
       "Guatemala                                  30175  \n",
       "Honduras                                   22810  \n",
       "Mexico                                    130855  \n",
       "Nicaragua                                   1210  \n",
       "Panama                                         7  \n",
       "\n",
       "[9 rows x 61 columns]"
      ]
     },
     "metadata": {},
     "output_type": "display_data"
    },
    {
     "data": {
      "text/html": [
       "<div>\n",
       "<style scoped>\n",
       "    .dataframe tbody tr th:only-of-type {\n",
       "        vertical-align: middle;\n",
       "    }\n",
       "\n",
       "    .dataframe tbody tr th {\n",
       "        vertical-align: top;\n",
       "    }\n",
       "\n",
       "    .dataframe thead th {\n",
       "        text-align: right;\n",
       "    }\n",
       "</style>\n",
       "<table border=\"1\" class=\"dataframe\">\n",
       "  <thead>\n",
       "    <tr style=\"text-align: right;\">\n",
       "      <th></th>\n",
       "      <th>Country</th>\n",
       "      <th>Year</th>\n",
       "      <th>Type</th>\n",
       "      <th>Number</th>\n",
       "    </tr>\n",
       "  </thead>\n",
       "  <tbody>\n",
       "    <tr>\n",
       "      <th>0</th>\n",
       "      <td>Global Total</td>\n",
       "      <td>1999</td>\n",
       "      <td>Total</td>\n",
       "      <td>183114</td>\n",
       "    </tr>\n",
       "    <tr>\n",
       "      <th>1</th>\n",
       "      <td>Belize</td>\n",
       "      <td>1999</td>\n",
       "      <td>Total</td>\n",
       "      <td>191</td>\n",
       "    </tr>\n",
       "    <tr>\n",
       "      <th>2</th>\n",
       "      <td>Costa Rica</td>\n",
       "      <td>1999</td>\n",
       "      <td>Total</td>\n",
       "      <td>227</td>\n",
       "    </tr>\n",
       "    <tr>\n",
       "      <th>3</th>\n",
       "      <td>El Salvador</td>\n",
       "      <td>1999</td>\n",
       "      <td>Total</td>\n",
       "      <td>4160</td>\n",
       "    </tr>\n",
       "    <tr>\n",
       "      <th>4</th>\n",
       "      <td>Guatemala</td>\n",
       "      <td>1999</td>\n",
       "      <td>Total</td>\n",
       "      <td>3763</td>\n",
       "    </tr>\n",
       "    <tr>\n",
       "      <th>...</th>\n",
       "      <td>...</td>\n",
       "      <td>...</td>\n",
       "      <td>...</td>\n",
       "      <td>...</td>\n",
       "    </tr>\n",
       "    <tr>\n",
       "      <th>544</th>\n",
       "      <td>Guatemala</td>\n",
       "      <td>2019</td>\n",
       "      <td>Non-Criminal</td>\n",
       "      <td>30175</td>\n",
       "    </tr>\n",
       "    <tr>\n",
       "      <th>545</th>\n",
       "      <td>Honduras</td>\n",
       "      <td>2019</td>\n",
       "      <td>Non-Criminal</td>\n",
       "      <td>22810</td>\n",
       "    </tr>\n",
       "    <tr>\n",
       "      <th>546</th>\n",
       "      <td>Mexico</td>\n",
       "      <td>2019</td>\n",
       "      <td>Non-Criminal</td>\n",
       "      <td>130855</td>\n",
       "    </tr>\n",
       "    <tr>\n",
       "      <th>547</th>\n",
       "      <td>Nicaragua</td>\n",
       "      <td>2019</td>\n",
       "      <td>Non-Criminal</td>\n",
       "      <td>1210</td>\n",
       "    </tr>\n",
       "    <tr>\n",
       "      <th>548</th>\n",
       "      <td>Panama</td>\n",
       "      <td>2019</td>\n",
       "      <td>Non-Criminal</td>\n",
       "      <td>7</td>\n",
       "    </tr>\n",
       "  </tbody>\n",
       "</table>\n",
       "<p>549 rows × 4 columns</p>\n",
       "</div>"
      ],
      "text/plain": [
       "                                 Country  Year          Type  Number\n",
       "0                           Global Total  1999         Total  183114\n",
       "1    Belize                               1999         Total     191\n",
       "2    Costa Rica                           1999         Total     227\n",
       "3    El Salvador                          1999         Total    4160\n",
       "4    Guatemala                            1999         Total    3763\n",
       "..                                   ...   ...           ...     ...\n",
       "544  Guatemala                            2019  Non-Criminal   30175\n",
       "545  Honduras                             2019  Non-Criminal   22810\n",
       "546  Mexico                               2019  Non-Criminal  130855\n",
       "547  Nicaragua                            2019  Non-Criminal    1210\n",
       "548  Panama                               2019  Non-Criminal       7\n",
       "\n",
       "[549 rows x 4 columns]"
      ]
     },
     "metadata": {},
     "output_type": "display_data"
    }
   ],
   "source": [
    "df = pd.read_excel(\"./t41_2000-2019.xlsx\", header=[0, 1], index_col=0)\n",
    "df = df.rename(columns={\"Criminal 1\": \"Criminal\", \"Criminal1\": \"Criminal\", \" Total \": \"Total\"})\n",
    "display(df)\n",
    "# df.pivot(columns=[df.columns] + , values=[df.columns, df.values])\n",
    "df_formatted = df.melt(ignore_index=False).reset_index()\n",
    "df_formatted.set_axis([\"Country\", \"Year\", \"Type\", \"Number\"], axis=1, inplace=True)\n",
    "display(df_formatted)\n"
   ]
  },
  {
   "cell_type": "code",
   "execution_count": 60,
   "id": "8c3e44ef",
   "metadata": {
    "scrolled": true
   },
   "outputs": [
    {
     "data": {
      "application/vnd.plotly.v1+json": {
       "config": {
        "plotlyServerURL": "https://plot.ly"
       },
       "data": [
        {
         "hovertemplate": "Country=Belize                             <br>Year=%{x}<br>Number=%{y}<extra></extra>",
         "legendgroup": "Belize                             ",
         "line": {
          "color": "rgb(247,251,255)"
         },
         "marker": {
          "symbol": "circle"
         },
         "mode": "lines",
         "name": "Belize                             ",
         "orientation": "v",
         "showlegend": true,
         "stackgroup": "1",
         "type": "scatter",
         "x": [
          1999,
          2000,
          2001,
          2002,
          2003,
          2004,
          2005,
          2006,
          2007,
          2008,
          2009,
          2010,
          2011,
          2012,
          2013,
          2014,
          2015,
          2016,
          2017,
          2018,
          2019
         ],
         "xaxis": "x",
         "y": [
          191,
          170,
          185,
          178,
          179,
          202,
          219,
          211,
          233,
          218,
          63,
          254,
          221,
          204,
          175,
          136,
          134,
          146,
          123,
          133,
          109
         ],
         "yaxis": "y"
        },
        {
         "hovertemplate": "Country=Costa Rica                         <br>Year=%{x}<br>Number=%{y}<extra></extra>",
         "legendgroup": "Costa Rica                         ",
         "line": {
          "color": "rgb(222,235,247)"
         },
         "marker": {
          "symbol": "circle"
         },
         "mode": "lines",
         "name": "Costa Rica                         ",
         "orientation": "v",
         "showlegend": true,
         "stackgroup": "1",
         "type": "scatter",
         "x": [
          1999,
          2000,
          2001,
          2002,
          2003,
          2004,
          2005,
          2006,
          2007,
          2008,
          2009,
          2010,
          2011,
          2012,
          2013,
          2014,
          2015,
          2016,
          2017,
          2018,
          2019
         ],
         "xaxis": "x",
         "y": [
          227,
          328,
          392,
          376,
          514,
          599,
          676,
          795,
          655,
          687,
          152,
          558,
          415,
          398,
          332,
          286,
          224,
          253,
          256,
          319,
          356
         ],
         "yaxis": "y"
        },
        {
         "hovertemplate": "Country=El Salvador                        <br>Year=%{x}<br>Number=%{y}<extra></extra>",
         "legendgroup": "El Salvador                        ",
         "line": {
          "color": "rgb(198,219,239)"
         },
         "marker": {
          "symbol": "circle"
         },
         "mode": "lines",
         "name": "El Salvador                        ",
         "orientation": "v",
         "showlegend": true,
         "stackgroup": "1",
         "type": "scatter",
         "x": [
          1999,
          2000,
          2001,
          2002,
          2003,
          2004,
          2005,
          2006,
          2007,
          2008,
          2009,
          2010,
          2011,
          2012,
          2013,
          2014,
          2015,
          2016,
          2017,
          2018,
          2019
         ],
         "xaxis": "x",
         "y": [
          4160,
          4736,
          3928,
          4066,
          5561,
          7269,
          8305,
          11050,
          20045,
          20031,
          956,
          20017,
          17945,
          18910,
          21130,
          26671,
          21899,
          20264,
          18448,
          14877,
          18190
         ],
         "yaxis": "y"
        },
        {
         "hovertemplate": "Country=Guatemala                          <br>Year=%{x}<br>Number=%{y}<extra></extra>",
         "legendgroup": "Guatemala                          ",
         "line": {
          "color": "rgb(158,202,225)"
         },
         "marker": {
          "symbol": "circle"
         },
         "mode": "lines",
         "name": "Guatemala                          ",
         "orientation": "v",
         "showlegend": true,
         "stackgroup": "1",
         "type": "scatter",
         "x": [
          1999,
          2000,
          2001,
          2002,
          2003,
          2004,
          2005,
          2006,
          2007,
          2008,
          2009,
          2010,
          2011,
          2012,
          2013,
          2014,
          2015,
          2016,
          2017,
          2018,
          2019
         ],
         "xaxis": "x",
         "y": [
          3763,
          4543,
          4716,
          5396,
          7726,
          9729,
          14522,
          20527,
          25898,
          27594,
          1718,
          29403,
          30871,
          38885,
          47013,
          54405,
          33379,
          33886,
          33049,
          49135,
          53180
         ],
         "yaxis": "y"
        },
        {
         "hovertemplate": "Country=Honduras                           <br>Year=%{x}<br>Number=%{y}<extra></extra>",
         "legendgroup": "Honduras                           ",
         "line": {
          "color": "rgb(107,174,214)"
         },
         "marker": {
          "symbol": "circle"
         },
         "mode": "lines",
         "name": "Honduras                           ",
         "orientation": "v",
         "showlegend": true,
         "stackgroup": "1",
         "type": "scatter",
         "x": [
          1999,
          2000,
          2001,
          2002,
          2003,
          2004,
          2005,
          2006,
          2007,
          2008,
          2009,
          2010,
          2011,
          2012,
          2013,
          2014,
          2015,
          2016,
          2017,
          2018,
          2019
         ],
         "xaxis": "x",
         "y": [
          3460,
          4768,
          4548,
          4946,
          8182,
          8752,
          15572,
          27060,
          29737,
          28851,
          1298,
          24652,
          22675,
          31724,
          36635,
          40877,
          20298,
          22015,
          22163,
          28451,
          40751
         ],
         "yaxis": "y"
        },
        {
         "hovertemplate": "Country=Mexico                             <br>Year=%{x}<br>Number=%{y}<extra></extra>",
         "legendgroup": "Mexico                             ",
         "line": {
          "color": "rgb(66,146,198)"
         },
         "marker": {
          "symbol": "circle"
         },
         "mode": "lines",
         "name": "Mexico                             ",
         "orientation": "v",
         "showlegend": true,
         "stackgroup": "1",
         "type": "scatter",
         "x": [
          1999,
          2000,
          2001,
          2002,
          2003,
          2004,
          2005,
          2006,
          2007,
          2008,
          2009,
          2010,
          2011,
          2012,
          2013,
          2014,
          2015,
          2016,
          2017,
          2018,
          2019
         ],
         "xaxis": "x",
         "y": [
          150383,
          151267,
          150762,
          122058,
          155812,
          175865,
          169031,
          186726,
          208996,
          246851,
          465205,
          275560,
          287462,
          300496,
          306902,
          265086,
          233222,
          236205,
          184106,
          209334,
          215205
         ],
         "yaxis": "y"
        },
        {
         "hovertemplate": "Country=Nicaragua                          <br>Year=%{x}<br>Number=%{y}<extra></extra>",
         "legendgroup": "Nicaragua                          ",
         "line": {
          "color": "rgb(33,113,181)"
         },
         "marker": {
          "symbol": "circle"
         },
         "mode": "lines",
         "name": "Nicaragua                          ",
         "orientation": "v",
         "showlegend": true,
         "stackgroup": "1",
         "type": "scatter",
         "x": [
          1999,
          2000,
          2001,
          2002,
          2003,
          2004,
          2005,
          2006,
          2007,
          2008,
          2009,
          2010,
          2011,
          2012,
          2013,
          2014,
          2015,
          2016,
          2017,
          2018,
          2019
         ],
         "xaxis": "x",
         "y": [
          444,
          513,
          526,
          468,
          820,
          947,
          1292,
          2446,
          2307,
          2250,
          167,
          1868,
          1571,
          1426,
          1339,
          1318,
          930,
          882,
          906,
          964,
          2268
         ],
         "yaxis": "y"
        },
        {
         "hovertemplate": "Country=Panama                             <br>Year=%{x}<br>Number=%{y}<extra></extra>",
         "legendgroup": "Panama                             ",
         "line": {
          "color": "rgb(8,81,156)"
         },
         "marker": {
          "symbol": "circle"
         },
         "mode": "lines",
         "name": "Panama                             ",
         "orientation": "v",
         "showlegend": true,
         "stackgroup": "1",
         "type": "scatter",
         "x": [
          1999,
          2000,
          2001,
          2002,
          2003,
          2004,
          2005,
          2006,
          2007,
          2008,
          2009,
          2010,
          2011,
          2012,
          2013,
          2014,
          2015,
          2016,
          2017,
          2018,
          2019
         ],
         "xaxis": "x",
         "y": [
          169,
          154,
          157,
          163,
          162,
          188,
          187,
          209,
          185,
          192,
          116,
          190,
          148,
          129,
          122,
          91,
          102,
          83,
          94,
          91,
          102
         ],
         "yaxis": "y"
        }
       ],
       "layout": {
        "annotations": [
         {
          "showarrow": false,
          "text": "Clinton",
          "x": "1999",
          "xanchor": "left",
          "xref": "x",
          "y": 1,
          "yanchor": "top",
          "yref": "y domain"
         },
         {
          "showarrow": false,
          "text": "Bush",
          "x": "2001",
          "xanchor": "left",
          "xref": "x",
          "y": 1,
          "yanchor": "top",
          "yref": "y domain"
         },
         {
          "showarrow": false,
          "text": "Obama",
          "x": "2009",
          "xanchor": "left",
          "xref": "x",
          "y": 1,
          "yanchor": "top",
          "yref": "y domain"
         },
         {
          "showarrow": false,
          "text": "Trump",
          "x": "2017",
          "xanchor": "left",
          "xref": "x",
          "y": 1,
          "yanchor": "top",
          "yref": "y domain"
         }
        ],
        "legend": {
         "title": {
          "text": "Country"
         },
         "tracegroupgap": 0
        },
        "paper_bgcolor": "rgba(0, 0, 0, 0)",
        "plot_bgcolor": "rgba(0, 0, 0, 0)",
        "shapes": [
         {
          "fillcolor": "#3e442b",
          "line": {
           "width": 0
          },
          "opacity": 0.25,
          "type": "rect",
          "x0": "1999",
          "x1": "2001",
          "xref": "x",
          "y0": 0,
          "y1": 1,
          "yref": "y domain"
         },
         {
          "fillcolor": "#999999",
          "line": {
           "width": 0
          },
          "opacity": 0.25,
          "type": "rect",
          "x0": "2001",
          "x1": "2009",
          "xref": "x",
          "y0": 0,
          "y1": 1,
          "yref": "y domain"
         },
         {
          "fillcolor": "#003869",
          "line": {
           "width": 0
          },
          "opacity": 0.25,
          "type": "rect",
          "x0": "2009",
          "x1": "2017",
          "xref": "x",
          "y0": 0,
          "y1": 1,
          "yref": "y domain"
         },
         {
          "fillcolor": "#b60028",
          "line": {
           "width": 0
          },
          "opacity": 0.25,
          "type": "rect",
          "x0": "2017",
          "x1": "2019",
          "xref": "x",
          "y0": 0,
          "y1": 1,
          "yref": "y domain"
         }
        ],
        "template": {
         "data": {
          "bar": [
           {
            "error_x": {
             "color": "#2a3f5f"
            },
            "error_y": {
             "color": "#2a3f5f"
            },
            "marker": {
             "line": {
              "color": "#E5ECF6",
              "width": 0.5
             },
             "pattern": {
              "fillmode": "overlay",
              "size": 10,
              "solidity": 0.2
             }
            },
            "type": "bar"
           }
          ],
          "barpolar": [
           {
            "marker": {
             "line": {
              "color": "#E5ECF6",
              "width": 0.5
             },
             "pattern": {
              "fillmode": "overlay",
              "size": 10,
              "solidity": 0.2
             }
            },
            "type": "barpolar"
           }
          ],
          "carpet": [
           {
            "aaxis": {
             "endlinecolor": "#2a3f5f",
             "gridcolor": "white",
             "linecolor": "white",
             "minorgridcolor": "white",
             "startlinecolor": "#2a3f5f"
            },
            "baxis": {
             "endlinecolor": "#2a3f5f",
             "gridcolor": "white",
             "linecolor": "white",
             "minorgridcolor": "white",
             "startlinecolor": "#2a3f5f"
            },
            "type": "carpet"
           }
          ],
          "choropleth": [
           {
            "colorbar": {
             "outlinewidth": 0,
             "ticks": ""
            },
            "type": "choropleth"
           }
          ],
          "contour": [
           {
            "colorbar": {
             "outlinewidth": 0,
             "ticks": ""
            },
            "colorscale": [
             [
              0,
              "#0d0887"
             ],
             [
              0.1111111111111111,
              "#46039f"
             ],
             [
              0.2222222222222222,
              "#7201a8"
             ],
             [
              0.3333333333333333,
              "#9c179e"
             ],
             [
              0.4444444444444444,
              "#bd3786"
             ],
             [
              0.5555555555555556,
              "#d8576b"
             ],
             [
              0.6666666666666666,
              "#ed7953"
             ],
             [
              0.7777777777777778,
              "#fb9f3a"
             ],
             [
              0.8888888888888888,
              "#fdca26"
             ],
             [
              1,
              "#f0f921"
             ]
            ],
            "type": "contour"
           }
          ],
          "contourcarpet": [
           {
            "colorbar": {
             "outlinewidth": 0,
             "ticks": ""
            },
            "type": "contourcarpet"
           }
          ],
          "heatmap": [
           {
            "colorbar": {
             "outlinewidth": 0,
             "ticks": ""
            },
            "colorscale": [
             [
              0,
              "#0d0887"
             ],
             [
              0.1111111111111111,
              "#46039f"
             ],
             [
              0.2222222222222222,
              "#7201a8"
             ],
             [
              0.3333333333333333,
              "#9c179e"
             ],
             [
              0.4444444444444444,
              "#bd3786"
             ],
             [
              0.5555555555555556,
              "#d8576b"
             ],
             [
              0.6666666666666666,
              "#ed7953"
             ],
             [
              0.7777777777777778,
              "#fb9f3a"
             ],
             [
              0.8888888888888888,
              "#fdca26"
             ],
             [
              1,
              "#f0f921"
             ]
            ],
            "type": "heatmap"
           }
          ],
          "heatmapgl": [
           {
            "colorbar": {
             "outlinewidth": 0,
             "ticks": ""
            },
            "colorscale": [
             [
              0,
              "#0d0887"
             ],
             [
              0.1111111111111111,
              "#46039f"
             ],
             [
              0.2222222222222222,
              "#7201a8"
             ],
             [
              0.3333333333333333,
              "#9c179e"
             ],
             [
              0.4444444444444444,
              "#bd3786"
             ],
             [
              0.5555555555555556,
              "#d8576b"
             ],
             [
              0.6666666666666666,
              "#ed7953"
             ],
             [
              0.7777777777777778,
              "#fb9f3a"
             ],
             [
              0.8888888888888888,
              "#fdca26"
             ],
             [
              1,
              "#f0f921"
             ]
            ],
            "type": "heatmapgl"
           }
          ],
          "histogram": [
           {
            "marker": {
             "pattern": {
              "fillmode": "overlay",
              "size": 10,
              "solidity": 0.2
             }
            },
            "type": "histogram"
           }
          ],
          "histogram2d": [
           {
            "colorbar": {
             "outlinewidth": 0,
             "ticks": ""
            },
            "colorscale": [
             [
              0,
              "#0d0887"
             ],
             [
              0.1111111111111111,
              "#46039f"
             ],
             [
              0.2222222222222222,
              "#7201a8"
             ],
             [
              0.3333333333333333,
              "#9c179e"
             ],
             [
              0.4444444444444444,
              "#bd3786"
             ],
             [
              0.5555555555555556,
              "#d8576b"
             ],
             [
              0.6666666666666666,
              "#ed7953"
             ],
             [
              0.7777777777777778,
              "#fb9f3a"
             ],
             [
              0.8888888888888888,
              "#fdca26"
             ],
             [
              1,
              "#f0f921"
             ]
            ],
            "type": "histogram2d"
           }
          ],
          "histogram2dcontour": [
           {
            "colorbar": {
             "outlinewidth": 0,
             "ticks": ""
            },
            "colorscale": [
             [
              0,
              "#0d0887"
             ],
             [
              0.1111111111111111,
              "#46039f"
             ],
             [
              0.2222222222222222,
              "#7201a8"
             ],
             [
              0.3333333333333333,
              "#9c179e"
             ],
             [
              0.4444444444444444,
              "#bd3786"
             ],
             [
              0.5555555555555556,
              "#d8576b"
             ],
             [
              0.6666666666666666,
              "#ed7953"
             ],
             [
              0.7777777777777778,
              "#fb9f3a"
             ],
             [
              0.8888888888888888,
              "#fdca26"
             ],
             [
              1,
              "#f0f921"
             ]
            ],
            "type": "histogram2dcontour"
           }
          ],
          "mesh3d": [
           {
            "colorbar": {
             "outlinewidth": 0,
             "ticks": ""
            },
            "type": "mesh3d"
           }
          ],
          "parcoords": [
           {
            "line": {
             "colorbar": {
              "outlinewidth": 0,
              "ticks": ""
             }
            },
            "type": "parcoords"
           }
          ],
          "pie": [
           {
            "automargin": true,
            "type": "pie"
           }
          ],
          "scatter": [
           {
            "marker": {
             "colorbar": {
              "outlinewidth": 0,
              "ticks": ""
             }
            },
            "type": "scatter"
           }
          ],
          "scatter3d": [
           {
            "line": {
             "colorbar": {
              "outlinewidth": 0,
              "ticks": ""
             }
            },
            "marker": {
             "colorbar": {
              "outlinewidth": 0,
              "ticks": ""
             }
            },
            "type": "scatter3d"
           }
          ],
          "scattercarpet": [
           {
            "marker": {
             "colorbar": {
              "outlinewidth": 0,
              "ticks": ""
             }
            },
            "type": "scattercarpet"
           }
          ],
          "scattergeo": [
           {
            "marker": {
             "colorbar": {
              "outlinewidth": 0,
              "ticks": ""
             }
            },
            "type": "scattergeo"
           }
          ],
          "scattergl": [
           {
            "marker": {
             "colorbar": {
              "outlinewidth": 0,
              "ticks": ""
             }
            },
            "type": "scattergl"
           }
          ],
          "scattermapbox": [
           {
            "marker": {
             "colorbar": {
              "outlinewidth": 0,
              "ticks": ""
             }
            },
            "type": "scattermapbox"
           }
          ],
          "scatterpolar": [
           {
            "marker": {
             "colorbar": {
              "outlinewidth": 0,
              "ticks": ""
             }
            },
            "type": "scatterpolar"
           }
          ],
          "scatterpolargl": [
           {
            "marker": {
             "colorbar": {
              "outlinewidth": 0,
              "ticks": ""
             }
            },
            "type": "scatterpolargl"
           }
          ],
          "scatterternary": [
           {
            "marker": {
             "colorbar": {
              "outlinewidth": 0,
              "ticks": ""
             }
            },
            "type": "scatterternary"
           }
          ],
          "surface": [
           {
            "colorbar": {
             "outlinewidth": 0,
             "ticks": ""
            },
            "colorscale": [
             [
              0,
              "#0d0887"
             ],
             [
              0.1111111111111111,
              "#46039f"
             ],
             [
              0.2222222222222222,
              "#7201a8"
             ],
             [
              0.3333333333333333,
              "#9c179e"
             ],
             [
              0.4444444444444444,
              "#bd3786"
             ],
             [
              0.5555555555555556,
              "#d8576b"
             ],
             [
              0.6666666666666666,
              "#ed7953"
             ],
             [
              0.7777777777777778,
              "#fb9f3a"
             ],
             [
              0.8888888888888888,
              "#fdca26"
             ],
             [
              1,
              "#f0f921"
             ]
            ],
            "type": "surface"
           }
          ],
          "table": [
           {
            "cells": {
             "fill": {
              "color": "#EBF0F8"
             },
             "line": {
              "color": "white"
             }
            },
            "header": {
             "fill": {
              "color": "#C8D4E3"
             },
             "line": {
              "color": "white"
             }
            },
            "type": "table"
           }
          ]
         },
         "layout": {
          "annotationdefaults": {
           "arrowcolor": "#2a3f5f",
           "arrowhead": 0,
           "arrowwidth": 1
          },
          "autotypenumbers": "strict",
          "coloraxis": {
           "colorbar": {
            "outlinewidth": 0,
            "ticks": ""
           }
          },
          "colorscale": {
           "diverging": [
            [
             0,
             "#8e0152"
            ],
            [
             0.1,
             "#c51b7d"
            ],
            [
             0.2,
             "#de77ae"
            ],
            [
             0.3,
             "#f1b6da"
            ],
            [
             0.4,
             "#fde0ef"
            ],
            [
             0.5,
             "#f7f7f7"
            ],
            [
             0.6,
             "#e6f5d0"
            ],
            [
             0.7,
             "#b8e186"
            ],
            [
             0.8,
             "#7fbc41"
            ],
            [
             0.9,
             "#4d9221"
            ],
            [
             1,
             "#276419"
            ]
           ],
           "sequential": [
            [
             0,
             "#0d0887"
            ],
            [
             0.1111111111111111,
             "#46039f"
            ],
            [
             0.2222222222222222,
             "#7201a8"
            ],
            [
             0.3333333333333333,
             "#9c179e"
            ],
            [
             0.4444444444444444,
             "#bd3786"
            ],
            [
             0.5555555555555556,
             "#d8576b"
            ],
            [
             0.6666666666666666,
             "#ed7953"
            ],
            [
             0.7777777777777778,
             "#fb9f3a"
            ],
            [
             0.8888888888888888,
             "#fdca26"
            ],
            [
             1,
             "#f0f921"
            ]
           ],
           "sequentialminus": [
            [
             0,
             "#0d0887"
            ],
            [
             0.1111111111111111,
             "#46039f"
            ],
            [
             0.2222222222222222,
             "#7201a8"
            ],
            [
             0.3333333333333333,
             "#9c179e"
            ],
            [
             0.4444444444444444,
             "#bd3786"
            ],
            [
             0.5555555555555556,
             "#d8576b"
            ],
            [
             0.6666666666666666,
             "#ed7953"
            ],
            [
             0.7777777777777778,
             "#fb9f3a"
            ],
            [
             0.8888888888888888,
             "#fdca26"
            ],
            [
             1,
             "#f0f921"
            ]
           ]
          },
          "colorway": [
           "#636efa",
           "#EF553B",
           "#00cc96",
           "#ab63fa",
           "#FFA15A",
           "#19d3f3",
           "#FF6692",
           "#B6E880",
           "#FF97FF",
           "#FECB52"
          ],
          "font": {
           "color": "#2a3f5f"
          },
          "geo": {
           "bgcolor": "white",
           "lakecolor": "white",
           "landcolor": "#E5ECF6",
           "showlakes": true,
           "showland": true,
           "subunitcolor": "white"
          },
          "hoverlabel": {
           "align": "left"
          },
          "hovermode": "closest",
          "mapbox": {
           "style": "light"
          },
          "paper_bgcolor": "white",
          "plot_bgcolor": "#E5ECF6",
          "polar": {
           "angularaxis": {
            "gridcolor": "white",
            "linecolor": "white",
            "ticks": ""
           },
           "bgcolor": "#E5ECF6",
           "radialaxis": {
            "gridcolor": "white",
            "linecolor": "white",
            "ticks": ""
           }
          },
          "scene": {
           "xaxis": {
            "backgroundcolor": "#E5ECF6",
            "gridcolor": "white",
            "gridwidth": 2,
            "linecolor": "white",
            "showbackground": true,
            "ticks": "",
            "zerolinecolor": "white"
           },
           "yaxis": {
            "backgroundcolor": "#E5ECF6",
            "gridcolor": "white",
            "gridwidth": 2,
            "linecolor": "white",
            "showbackground": true,
            "ticks": "",
            "zerolinecolor": "white"
           },
           "zaxis": {
            "backgroundcolor": "#E5ECF6",
            "gridcolor": "white",
            "gridwidth": 2,
            "linecolor": "white",
            "showbackground": true,
            "ticks": "",
            "zerolinecolor": "white"
           }
          },
          "shapedefaults": {
           "line": {
            "color": "#2a3f5f"
           }
          },
          "ternary": {
           "aaxis": {
            "gridcolor": "white",
            "linecolor": "white",
            "ticks": ""
           },
           "baxis": {
            "gridcolor": "white",
            "linecolor": "white",
            "ticks": ""
           },
           "bgcolor": "#E5ECF6",
           "caxis": {
            "gridcolor": "white",
            "linecolor": "white",
            "ticks": ""
           }
          },
          "title": {
           "x": 0.05
          },
          "xaxis": {
           "automargin": true,
           "gridcolor": "white",
           "linecolor": "white",
           "ticks": "",
           "title": {
            "standoff": 15
           },
           "zerolinecolor": "white",
           "zerolinewidth": 2
          },
          "yaxis": {
           "automargin": true,
           "gridcolor": "white",
           "linecolor": "white",
           "ticks": "",
           "title": {
            "standoff": 15
           },
           "zerolinecolor": "white",
           "zerolinewidth": 2
          }
         }
        },
        "title": {
         "text": "Number of people removed"
        },
        "xaxis": {
         "anchor": "y",
         "domain": [
          0,
          1
         ],
         "title": {
          "text": "Year"
         }
        },
        "yaxis": {
         "anchor": "x",
         "domain": [
          0,
          1
         ],
         "title": {
          "text": "Number"
         }
        }
       }
      },
      "text/html": [
       "<div>                            <div id=\"0a40b1c4-04ee-43ff-a878-cd141f4ca38a\" class=\"plotly-graph-div\" style=\"height:525px; width:100%;\"></div>            <script type=\"text/javascript\">                require([\"plotly\"], function(Plotly) {                    window.PLOTLYENV=window.PLOTLYENV || {};                                    if (document.getElementById(\"0a40b1c4-04ee-43ff-a878-cd141f4ca38a\")) {                    Plotly.newPlot(                        \"0a40b1c4-04ee-43ff-a878-cd141f4ca38a\",                        [{\"hovertemplate\":\"Country=Belize                             <br>Year=%{x}<br>Number=%{y}<extra></extra>\",\"legendgroup\":\"Belize                             \",\"line\":{\"color\":\"rgb(247,251,255)\"},\"marker\":{\"symbol\":\"circle\"},\"mode\":\"lines\",\"name\":\"Belize                             \",\"orientation\":\"v\",\"showlegend\":true,\"stackgroup\":\"1\",\"type\":\"scatter\",\"x\":[1999,2000,2001,2002,2003,2004,2005,2006,2007,2008,2009,2010,2011,2012,2013,2014,2015,2016,2017,2018,2019],\"xaxis\":\"x\",\"y\":[191,170,185,178,179,202,219,211,233,218,63,254,221,204,175,136,134,146,123,133,109],\"yaxis\":\"y\"},{\"hovertemplate\":\"Country=Costa Rica                         <br>Year=%{x}<br>Number=%{y}<extra></extra>\",\"legendgroup\":\"Costa Rica                         \",\"line\":{\"color\":\"rgb(222,235,247)\"},\"marker\":{\"symbol\":\"circle\"},\"mode\":\"lines\",\"name\":\"Costa Rica                         \",\"orientation\":\"v\",\"showlegend\":true,\"stackgroup\":\"1\",\"type\":\"scatter\",\"x\":[1999,2000,2001,2002,2003,2004,2005,2006,2007,2008,2009,2010,2011,2012,2013,2014,2015,2016,2017,2018,2019],\"xaxis\":\"x\",\"y\":[227,328,392,376,514,599,676,795,655,687,152,558,415,398,332,286,224,253,256,319,356],\"yaxis\":\"y\"},{\"hovertemplate\":\"Country=El Salvador                        <br>Year=%{x}<br>Number=%{y}<extra></extra>\",\"legendgroup\":\"El Salvador                        \",\"line\":{\"color\":\"rgb(198,219,239)\"},\"marker\":{\"symbol\":\"circle\"},\"mode\":\"lines\",\"name\":\"El Salvador                        \",\"orientation\":\"v\",\"showlegend\":true,\"stackgroup\":\"1\",\"type\":\"scatter\",\"x\":[1999,2000,2001,2002,2003,2004,2005,2006,2007,2008,2009,2010,2011,2012,2013,2014,2015,2016,2017,2018,2019],\"xaxis\":\"x\",\"y\":[4160,4736,3928,4066,5561,7269,8305,11050,20045,20031,956,20017,17945,18910,21130,26671,21899,20264,18448,14877,18190],\"yaxis\":\"y\"},{\"hovertemplate\":\"Country=Guatemala                          <br>Year=%{x}<br>Number=%{y}<extra></extra>\",\"legendgroup\":\"Guatemala                          \",\"line\":{\"color\":\"rgb(158,202,225)\"},\"marker\":{\"symbol\":\"circle\"},\"mode\":\"lines\",\"name\":\"Guatemala                          \",\"orientation\":\"v\",\"showlegend\":true,\"stackgroup\":\"1\",\"type\":\"scatter\",\"x\":[1999,2000,2001,2002,2003,2004,2005,2006,2007,2008,2009,2010,2011,2012,2013,2014,2015,2016,2017,2018,2019],\"xaxis\":\"x\",\"y\":[3763,4543,4716,5396,7726,9729,14522,20527,25898,27594,1718,29403,30871,38885,47013,54405,33379,33886,33049,49135,53180],\"yaxis\":\"y\"},{\"hovertemplate\":\"Country=Honduras                           <br>Year=%{x}<br>Number=%{y}<extra></extra>\",\"legendgroup\":\"Honduras                           \",\"line\":{\"color\":\"rgb(107,174,214)\"},\"marker\":{\"symbol\":\"circle\"},\"mode\":\"lines\",\"name\":\"Honduras                           \",\"orientation\":\"v\",\"showlegend\":true,\"stackgroup\":\"1\",\"type\":\"scatter\",\"x\":[1999,2000,2001,2002,2003,2004,2005,2006,2007,2008,2009,2010,2011,2012,2013,2014,2015,2016,2017,2018,2019],\"xaxis\":\"x\",\"y\":[3460,4768,4548,4946,8182,8752,15572,27060,29737,28851,1298,24652,22675,31724,36635,40877,20298,22015,22163,28451,40751],\"yaxis\":\"y\"},{\"hovertemplate\":\"Country=Mexico                             <br>Year=%{x}<br>Number=%{y}<extra></extra>\",\"legendgroup\":\"Mexico                             \",\"line\":{\"color\":\"rgb(66,146,198)\"},\"marker\":{\"symbol\":\"circle\"},\"mode\":\"lines\",\"name\":\"Mexico                             \",\"orientation\":\"v\",\"showlegend\":true,\"stackgroup\":\"1\",\"type\":\"scatter\",\"x\":[1999,2000,2001,2002,2003,2004,2005,2006,2007,2008,2009,2010,2011,2012,2013,2014,2015,2016,2017,2018,2019],\"xaxis\":\"x\",\"y\":[150383,151267,150762,122058,155812,175865,169031,186726,208996,246851,465205,275560,287462,300496,306902,265086,233222,236205,184106,209334,215205],\"yaxis\":\"y\"},{\"hovertemplate\":\"Country=Nicaragua                          <br>Year=%{x}<br>Number=%{y}<extra></extra>\",\"legendgroup\":\"Nicaragua                          \",\"line\":{\"color\":\"rgb(33,113,181)\"},\"marker\":{\"symbol\":\"circle\"},\"mode\":\"lines\",\"name\":\"Nicaragua                          \",\"orientation\":\"v\",\"showlegend\":true,\"stackgroup\":\"1\",\"type\":\"scatter\",\"x\":[1999,2000,2001,2002,2003,2004,2005,2006,2007,2008,2009,2010,2011,2012,2013,2014,2015,2016,2017,2018,2019],\"xaxis\":\"x\",\"y\":[444,513,526,468,820,947,1292,2446,2307,2250,167,1868,1571,1426,1339,1318,930,882,906,964,2268],\"yaxis\":\"y\"},{\"hovertemplate\":\"Country=Panama                             <br>Year=%{x}<br>Number=%{y}<extra></extra>\",\"legendgroup\":\"Panama                             \",\"line\":{\"color\":\"rgb(8,81,156)\"},\"marker\":{\"symbol\":\"circle\"},\"mode\":\"lines\",\"name\":\"Panama                             \",\"orientation\":\"v\",\"showlegend\":true,\"stackgroup\":\"1\",\"type\":\"scatter\",\"x\":[1999,2000,2001,2002,2003,2004,2005,2006,2007,2008,2009,2010,2011,2012,2013,2014,2015,2016,2017,2018,2019],\"xaxis\":\"x\",\"y\":[169,154,157,163,162,188,187,209,185,192,116,190,148,129,122,91,102,83,94,91,102],\"yaxis\":\"y\"}],                        {\"annotations\":[{\"showarrow\":false,\"text\":\"Clinton\",\"x\":\"1999\",\"xanchor\":\"left\",\"xref\":\"x\",\"y\":1,\"yanchor\":\"top\",\"yref\":\"y domain\"},{\"showarrow\":false,\"text\":\"Bush\",\"x\":\"2001\",\"xanchor\":\"left\",\"xref\":\"x\",\"y\":1,\"yanchor\":\"top\",\"yref\":\"y domain\"},{\"showarrow\":false,\"text\":\"Obama\",\"x\":\"2009\",\"xanchor\":\"left\",\"xref\":\"x\",\"y\":1,\"yanchor\":\"top\",\"yref\":\"y domain\"},{\"showarrow\":false,\"text\":\"Trump\",\"x\":\"2017\",\"xanchor\":\"left\",\"xref\":\"x\",\"y\":1,\"yanchor\":\"top\",\"yref\":\"y domain\"}],\"legend\":{\"title\":{\"text\":\"Country\"},\"tracegroupgap\":0},\"paper_bgcolor\":\"rgba(0, 0, 0, 0)\",\"plot_bgcolor\":\"rgba(0, 0, 0, 0)\",\"shapes\":[{\"fillcolor\":\"#3e442b\",\"line\":{\"width\":0},\"opacity\":0.25,\"type\":\"rect\",\"x0\":\"1999\",\"x1\":\"2001\",\"xref\":\"x\",\"y0\":0,\"y1\":1,\"yref\":\"y domain\"},{\"fillcolor\":\"#999999\",\"line\":{\"width\":0},\"opacity\":0.25,\"type\":\"rect\",\"x0\":\"2001\",\"x1\":\"2009\",\"xref\":\"x\",\"y0\":0,\"y1\":1,\"yref\":\"y domain\"},{\"fillcolor\":\"#003869\",\"line\":{\"width\":0},\"opacity\":0.25,\"type\":\"rect\",\"x0\":\"2009\",\"x1\":\"2017\",\"xref\":\"x\",\"y0\":0,\"y1\":1,\"yref\":\"y domain\"},{\"fillcolor\":\"#b60028\",\"line\":{\"width\":0},\"opacity\":0.25,\"type\":\"rect\",\"x0\":\"2017\",\"x1\":\"2019\",\"xref\":\"x\",\"y0\":0,\"y1\":1,\"yref\":\"y domain\"}],\"template\":{\"data\":{\"bar\":[{\"error_x\":{\"color\":\"#2a3f5f\"},\"error_y\":{\"color\":\"#2a3f5f\"},\"marker\":{\"line\":{\"color\":\"#E5ECF6\",\"width\":0.5},\"pattern\":{\"fillmode\":\"overlay\",\"size\":10,\"solidity\":0.2}},\"type\":\"bar\"}],\"barpolar\":[{\"marker\":{\"line\":{\"color\":\"#E5ECF6\",\"width\":0.5},\"pattern\":{\"fillmode\":\"overlay\",\"size\":10,\"solidity\":0.2}},\"type\":\"barpolar\"}],\"carpet\":[{\"aaxis\":{\"endlinecolor\":\"#2a3f5f\",\"gridcolor\":\"white\",\"linecolor\":\"white\",\"minorgridcolor\":\"white\",\"startlinecolor\":\"#2a3f5f\"},\"baxis\":{\"endlinecolor\":\"#2a3f5f\",\"gridcolor\":\"white\",\"linecolor\":\"white\",\"minorgridcolor\":\"white\",\"startlinecolor\":\"#2a3f5f\"},\"type\":\"carpet\"}],\"choropleth\":[{\"colorbar\":{\"outlinewidth\":0,\"ticks\":\"\"},\"type\":\"choropleth\"}],\"contour\":[{\"colorbar\":{\"outlinewidth\":0,\"ticks\":\"\"},\"colorscale\":[[0.0,\"#0d0887\"],[0.1111111111111111,\"#46039f\"],[0.2222222222222222,\"#7201a8\"],[0.3333333333333333,\"#9c179e\"],[0.4444444444444444,\"#bd3786\"],[0.5555555555555556,\"#d8576b\"],[0.6666666666666666,\"#ed7953\"],[0.7777777777777778,\"#fb9f3a\"],[0.8888888888888888,\"#fdca26\"],[1.0,\"#f0f921\"]],\"type\":\"contour\"}],\"contourcarpet\":[{\"colorbar\":{\"outlinewidth\":0,\"ticks\":\"\"},\"type\":\"contourcarpet\"}],\"heatmap\":[{\"colorbar\":{\"outlinewidth\":0,\"ticks\":\"\"},\"colorscale\":[[0.0,\"#0d0887\"],[0.1111111111111111,\"#46039f\"],[0.2222222222222222,\"#7201a8\"],[0.3333333333333333,\"#9c179e\"],[0.4444444444444444,\"#bd3786\"],[0.5555555555555556,\"#d8576b\"],[0.6666666666666666,\"#ed7953\"],[0.7777777777777778,\"#fb9f3a\"],[0.8888888888888888,\"#fdca26\"],[1.0,\"#f0f921\"]],\"type\":\"heatmap\"}],\"heatmapgl\":[{\"colorbar\":{\"outlinewidth\":0,\"ticks\":\"\"},\"colorscale\":[[0.0,\"#0d0887\"],[0.1111111111111111,\"#46039f\"],[0.2222222222222222,\"#7201a8\"],[0.3333333333333333,\"#9c179e\"],[0.4444444444444444,\"#bd3786\"],[0.5555555555555556,\"#d8576b\"],[0.6666666666666666,\"#ed7953\"],[0.7777777777777778,\"#fb9f3a\"],[0.8888888888888888,\"#fdca26\"],[1.0,\"#f0f921\"]],\"type\":\"heatmapgl\"}],\"histogram\":[{\"marker\":{\"pattern\":{\"fillmode\":\"overlay\",\"size\":10,\"solidity\":0.2}},\"type\":\"histogram\"}],\"histogram2d\":[{\"colorbar\":{\"outlinewidth\":0,\"ticks\":\"\"},\"colorscale\":[[0.0,\"#0d0887\"],[0.1111111111111111,\"#46039f\"],[0.2222222222222222,\"#7201a8\"],[0.3333333333333333,\"#9c179e\"],[0.4444444444444444,\"#bd3786\"],[0.5555555555555556,\"#d8576b\"],[0.6666666666666666,\"#ed7953\"],[0.7777777777777778,\"#fb9f3a\"],[0.8888888888888888,\"#fdca26\"],[1.0,\"#f0f921\"]],\"type\":\"histogram2d\"}],\"histogram2dcontour\":[{\"colorbar\":{\"outlinewidth\":0,\"ticks\":\"\"},\"colorscale\":[[0.0,\"#0d0887\"],[0.1111111111111111,\"#46039f\"],[0.2222222222222222,\"#7201a8\"],[0.3333333333333333,\"#9c179e\"],[0.4444444444444444,\"#bd3786\"],[0.5555555555555556,\"#d8576b\"],[0.6666666666666666,\"#ed7953\"],[0.7777777777777778,\"#fb9f3a\"],[0.8888888888888888,\"#fdca26\"],[1.0,\"#f0f921\"]],\"type\":\"histogram2dcontour\"}],\"mesh3d\":[{\"colorbar\":{\"outlinewidth\":0,\"ticks\":\"\"},\"type\":\"mesh3d\"}],\"parcoords\":[{\"line\":{\"colorbar\":{\"outlinewidth\":0,\"ticks\":\"\"}},\"type\":\"parcoords\"}],\"pie\":[{\"automargin\":true,\"type\":\"pie\"}],\"scatter\":[{\"marker\":{\"colorbar\":{\"outlinewidth\":0,\"ticks\":\"\"}},\"type\":\"scatter\"}],\"scatter3d\":[{\"line\":{\"colorbar\":{\"outlinewidth\":0,\"ticks\":\"\"}},\"marker\":{\"colorbar\":{\"outlinewidth\":0,\"ticks\":\"\"}},\"type\":\"scatter3d\"}],\"scattercarpet\":[{\"marker\":{\"colorbar\":{\"outlinewidth\":0,\"ticks\":\"\"}},\"type\":\"scattercarpet\"}],\"scattergeo\":[{\"marker\":{\"colorbar\":{\"outlinewidth\":0,\"ticks\":\"\"}},\"type\":\"scattergeo\"}],\"scattergl\":[{\"marker\":{\"colorbar\":{\"outlinewidth\":0,\"ticks\":\"\"}},\"type\":\"scattergl\"}],\"scattermapbox\":[{\"marker\":{\"colorbar\":{\"outlinewidth\":0,\"ticks\":\"\"}},\"type\":\"scattermapbox\"}],\"scatterpolar\":[{\"marker\":{\"colorbar\":{\"outlinewidth\":0,\"ticks\":\"\"}},\"type\":\"scatterpolar\"}],\"scatterpolargl\":[{\"marker\":{\"colorbar\":{\"outlinewidth\":0,\"ticks\":\"\"}},\"type\":\"scatterpolargl\"}],\"scatterternary\":[{\"marker\":{\"colorbar\":{\"outlinewidth\":0,\"ticks\":\"\"}},\"type\":\"scatterternary\"}],\"surface\":[{\"colorbar\":{\"outlinewidth\":0,\"ticks\":\"\"},\"colorscale\":[[0.0,\"#0d0887\"],[0.1111111111111111,\"#46039f\"],[0.2222222222222222,\"#7201a8\"],[0.3333333333333333,\"#9c179e\"],[0.4444444444444444,\"#bd3786\"],[0.5555555555555556,\"#d8576b\"],[0.6666666666666666,\"#ed7953\"],[0.7777777777777778,\"#fb9f3a\"],[0.8888888888888888,\"#fdca26\"],[1.0,\"#f0f921\"]],\"type\":\"surface\"}],\"table\":[{\"cells\":{\"fill\":{\"color\":\"#EBF0F8\"},\"line\":{\"color\":\"white\"}},\"header\":{\"fill\":{\"color\":\"#C8D4E3\"},\"line\":{\"color\":\"white\"}},\"type\":\"table\"}]},\"layout\":{\"annotationdefaults\":{\"arrowcolor\":\"#2a3f5f\",\"arrowhead\":0,\"arrowwidth\":1},\"autotypenumbers\":\"strict\",\"coloraxis\":{\"colorbar\":{\"outlinewidth\":0,\"ticks\":\"\"}},\"colorscale\":{\"diverging\":[[0,\"#8e0152\"],[0.1,\"#c51b7d\"],[0.2,\"#de77ae\"],[0.3,\"#f1b6da\"],[0.4,\"#fde0ef\"],[0.5,\"#f7f7f7\"],[0.6,\"#e6f5d0\"],[0.7,\"#b8e186\"],[0.8,\"#7fbc41\"],[0.9,\"#4d9221\"],[1,\"#276419\"]],\"sequential\":[[0.0,\"#0d0887\"],[0.1111111111111111,\"#46039f\"],[0.2222222222222222,\"#7201a8\"],[0.3333333333333333,\"#9c179e\"],[0.4444444444444444,\"#bd3786\"],[0.5555555555555556,\"#d8576b\"],[0.6666666666666666,\"#ed7953\"],[0.7777777777777778,\"#fb9f3a\"],[0.8888888888888888,\"#fdca26\"],[1.0,\"#f0f921\"]],\"sequentialminus\":[[0.0,\"#0d0887\"],[0.1111111111111111,\"#46039f\"],[0.2222222222222222,\"#7201a8\"],[0.3333333333333333,\"#9c179e\"],[0.4444444444444444,\"#bd3786\"],[0.5555555555555556,\"#d8576b\"],[0.6666666666666666,\"#ed7953\"],[0.7777777777777778,\"#fb9f3a\"],[0.8888888888888888,\"#fdca26\"],[1.0,\"#f0f921\"]]},\"colorway\":[\"#636efa\",\"#EF553B\",\"#00cc96\",\"#ab63fa\",\"#FFA15A\",\"#19d3f3\",\"#FF6692\",\"#B6E880\",\"#FF97FF\",\"#FECB52\"],\"font\":{\"color\":\"#2a3f5f\"},\"geo\":{\"bgcolor\":\"white\",\"lakecolor\":\"white\",\"landcolor\":\"#E5ECF6\",\"showlakes\":true,\"showland\":true,\"subunitcolor\":\"white\"},\"hoverlabel\":{\"align\":\"left\"},\"hovermode\":\"closest\",\"mapbox\":{\"style\":\"light\"},\"paper_bgcolor\":\"white\",\"plot_bgcolor\":\"#E5ECF6\",\"polar\":{\"angularaxis\":{\"gridcolor\":\"white\",\"linecolor\":\"white\",\"ticks\":\"\"},\"bgcolor\":\"#E5ECF6\",\"radialaxis\":{\"gridcolor\":\"white\",\"linecolor\":\"white\",\"ticks\":\"\"}},\"scene\":{\"xaxis\":{\"backgroundcolor\":\"#E5ECF6\",\"gridcolor\":\"white\",\"gridwidth\":2,\"linecolor\":\"white\",\"showbackground\":true,\"ticks\":\"\",\"zerolinecolor\":\"white\"},\"yaxis\":{\"backgroundcolor\":\"#E5ECF6\",\"gridcolor\":\"white\",\"gridwidth\":2,\"linecolor\":\"white\",\"showbackground\":true,\"ticks\":\"\",\"zerolinecolor\":\"white\"},\"zaxis\":{\"backgroundcolor\":\"#E5ECF6\",\"gridcolor\":\"white\",\"gridwidth\":2,\"linecolor\":\"white\",\"showbackground\":true,\"ticks\":\"\",\"zerolinecolor\":\"white\"}},\"shapedefaults\":{\"line\":{\"color\":\"#2a3f5f\"}},\"ternary\":{\"aaxis\":{\"gridcolor\":\"white\",\"linecolor\":\"white\",\"ticks\":\"\"},\"baxis\":{\"gridcolor\":\"white\",\"linecolor\":\"white\",\"ticks\":\"\"},\"bgcolor\":\"#E5ECF6\",\"caxis\":{\"gridcolor\":\"white\",\"linecolor\":\"white\",\"ticks\":\"\"}},\"title\":{\"x\":0.05},\"xaxis\":{\"automargin\":true,\"gridcolor\":\"white\",\"linecolor\":\"white\",\"ticks\":\"\",\"title\":{\"standoff\":15},\"zerolinecolor\":\"white\",\"zerolinewidth\":2},\"yaxis\":{\"automargin\":true,\"gridcolor\":\"white\",\"linecolor\":\"white\",\"ticks\":\"\",\"title\":{\"standoff\":15},\"zerolinecolor\":\"white\",\"zerolinewidth\":2}}},\"title\":{\"text\":\"Number of people removed\"},\"xaxis\":{\"anchor\":\"y\",\"domain\":[0.0,1.0],\"title\":{\"text\":\"Year\"}},\"yaxis\":{\"anchor\":\"x\",\"domain\":[0.0,1.0],\"title\":{\"text\":\"Number\"}}},                        {\"responsive\": true}                    ).then(function(){\n",
       "                            \n",
       "var gd = document.getElementById('0a40b1c4-04ee-43ff-a878-cd141f4ca38a');\n",
       "var x = new MutationObserver(function (mutations, observer) {{\n",
       "        var display = window.getComputedStyle(gd).display;\n",
       "        if (!display || display === 'none') {{\n",
       "            console.log([gd, 'removed!']);\n",
       "            Plotly.purge(gd);\n",
       "            observer.disconnect();\n",
       "        }}\n",
       "}});\n",
       "\n",
       "// Listen for the removal of the full notebook cells\n",
       "var notebookContainer = gd.closest('#notebook-container');\n",
       "if (notebookContainer) {{\n",
       "    x.observe(notebookContainer, {childList: true});\n",
       "}}\n",
       "\n",
       "// Listen for the clearing of the current output cell\n",
       "var outputEl = gd.closest('.output');\n",
       "if (outputEl) {{\n",
       "    x.observe(outputEl, {childList: true});\n",
       "}}\n",
       "\n",
       "                        })                };                });            </script>        </div>"
      ]
     },
     "metadata": {},
     "output_type": "display_data"
    }
   ],
   "source": [
    "fig = px.area(df_formatted[np.logical_and(df_formatted.Type == \"Total\", df_formatted.Country != \"Global Total\")],\n",
    "              x=\"Year\", y=\"Number\", color=\"Country\",\n",
    "#               template=\"plotly_white\",\n",
    "              title=\"Number of people removed\",\n",
    "              color_discrete_sequence=px.colors.sequential.Blues\n",
    "#               color_continuous_scale='blues'\n",
    "             )\n",
    "\n",
    "fig.add_vrect(x0=\"1999\", x1=\"2001\", \n",
    "              annotation_text=\"Clinton\", annotation_position=\"top left\",\n",
    "              fillcolor=\"#3e442b\", opacity=0.25, line_width=0)\n",
    "\n",
    "fig.add_vrect(x0=\"2001\", x1=\"2009\", \n",
    "              annotation_text=\"Bush\", annotation_position=\"top left\",\n",
    "              fillcolor=\"#999999\", opacity=0.25, line_width=0)\n",
    "\n",
    "fig.add_vrect(x0=\"2009\", x1=\"2017\", \n",
    "              annotation_text=\"Obama\", annotation_position=\"top left\",\n",
    "              fillcolor=\"#003869\", opacity=0.25, line_width=0)\n",
    "\n",
    "fig.add_vrect(x0=\"2017\", x1=\"2019\", \n",
    "              annotation_text=\"Trump\", annotation_position=\"top left\",\n",
    "              fillcolor=\"#b60028\", opacity=0.25, line_width=0)\n",
    "\n",
    "fig.update_layout({\n",
    "'plot_bgcolor': 'rgba(0, 0, 0, 0)',\n",
    "'paper_bgcolor': 'rgba(0, 0, 0, 0)',\n",
    "})\n",
    "\n",
    "fig.show()\n",
    "\n",
    "fig.write_html(\"./removed.txt\", include_plotlyjs=False, full_html=False)"
   ]
  },
  {
   "cell_type": "code",
   "execution_count": 51,
   "id": "47dafb2d",
   "metadata": {},
   "outputs": [
    {
     "ename": "PlotlyError",
     "evalue": "Because you didn't supply a 'file_id' in the call, we're assuming you're trying to snag a figure from a url. You supplied the url, 'https://opheeelia.github.io/11.154-proj-pathways/data/removed.html', we expected it to start with 'https://plotly.com'.\nRun help on this function for more information.",
     "output_type": "error",
     "traceback": [
      "\u001b[1;31m---------------------------------------------------------------------------\u001b[0m",
      "\u001b[1;31mPlotlyError\u001b[0m                               Traceback (most recent call last)",
      "\u001b[1;32m~\\AppData\\Local\\Temp/ipykernel_7516/440509311.py\u001b[0m in \u001b[0;36m<module>\u001b[1;34m\u001b[0m\n\u001b[0;32m      1\u001b[0m \u001b[1;32mimport\u001b[0m \u001b[0mchart_studio\u001b[0m\u001b[1;33m.\u001b[0m\u001b[0mtools\u001b[0m \u001b[1;32mas\u001b[0m \u001b[0mtls\u001b[0m\u001b[1;33m\u001b[0m\u001b[1;33m\u001b[0m\u001b[0m\n\u001b[1;32m----> 2\u001b[1;33m \u001b[0mtls\u001b[0m\u001b[1;33m.\u001b[0m\u001b[0mget_embed\u001b[0m\u001b[1;33m(\u001b[0m\u001b[1;34m'https://opheeelia.github.io/11.154-proj-pathways/data/removed.html'\u001b[0m\u001b[1;33m)\u001b[0m \u001b[1;31m#change to your url\u001b[0m\u001b[1;33m\u001b[0m\u001b[1;33m\u001b[0m\u001b[0m\n\u001b[0m",
      "\u001b[1;32m~\\Miniconda3\\envs\\bigdata\\lib\\site-packages\\chart_studio\\tools.py\u001b[0m in \u001b[0;36mget_embed\u001b[1;34m(file_owner_or_url, file_id, width, height)\u001b[0m\n\u001b[0;32m    326\u001b[0m \u001b[1;33m\u001b[0m\u001b[0m\n\u001b[0;32m    327\u001b[0m     \"\"\"\n\u001b[1;32m--> 328\u001b[1;33m     \u001b[0membed_url\u001b[0m \u001b[1;33m=\u001b[0m \u001b[0m_get_embed_url\u001b[0m\u001b[1;33m(\u001b[0m\u001b[0mfile_owner_or_url\u001b[0m\u001b[1;33m,\u001b[0m \u001b[0mfile_id\u001b[0m\u001b[1;33m)\u001b[0m\u001b[1;33m\u001b[0m\u001b[1;33m\u001b[0m\u001b[0m\n\u001b[0m\u001b[0;32m    329\u001b[0m \u001b[1;33m\u001b[0m\u001b[0m\n\u001b[0;32m    330\u001b[0m     return (\n",
      "\u001b[1;32m~\\Miniconda3\\envs\\bigdata\\lib\\site-packages\\chart_studio\\tools.py\u001b[0m in \u001b[0;36m_get_embed_url\u001b[1;34m(file_owner_or_url, file_id)\u001b[0m\n\u001b[0;32m    253\u001b[0m         \u001b[0murl\u001b[0m \u001b[1;33m=\u001b[0m \u001b[0mfile_owner_or_url\u001b[0m\u001b[1;33m\u001b[0m\u001b[1;33m\u001b[0m\u001b[0m\n\u001b[0;32m    254\u001b[0m         \u001b[1;32mif\u001b[0m \u001b[0murl\u001b[0m\u001b[1;33m[\u001b[0m\u001b[1;33m:\u001b[0m \u001b[0mlen\u001b[0m\u001b[1;33m(\u001b[0m\u001b[0mplotly_rest_url\u001b[0m\u001b[1;33m)\u001b[0m\u001b[1;33m]\u001b[0m \u001b[1;33m!=\u001b[0m \u001b[0mplotly_rest_url\u001b[0m\u001b[1;33m:\u001b[0m\u001b[1;33m\u001b[0m\u001b[1;33m\u001b[0m\u001b[0m\n\u001b[1;32m--> 255\u001b[1;33m             raise _plotly_utils.exceptions.PlotlyError(\n\u001b[0m\u001b[0;32m    256\u001b[0m                 \u001b[1;34m\"Because you didn't supply a 'file_id' in the call, \"\u001b[0m\u001b[1;33m\u001b[0m\u001b[1;33m\u001b[0m\u001b[0m\n\u001b[0;32m    257\u001b[0m                 \u001b[1;34m\"we're assuming you're trying to snag a figure from a url. \"\u001b[0m\u001b[1;33m\u001b[0m\u001b[1;33m\u001b[0m\u001b[0m\n",
      "\u001b[1;31mPlotlyError\u001b[0m: Because you didn't supply a 'file_id' in the call, we're assuming you're trying to snag a figure from a url. You supplied the url, 'https://opheeelia.github.io/11.154-proj-pathways/data/removed.html', we expected it to start with 'https://plotly.com'.\nRun help on this function for more information."
     ]
    }
   ],
   "source": []
  },
  {
   "cell_type": "code",
   "execution_count": null,
   "id": "0c045b8f",
   "metadata": {},
   "outputs": [],
   "source": []
  }
 ],
 "metadata": {
  "kernelspec": {
   "display_name": "Python 3 (ipykernel)",
   "language": "python",
   "name": "python3"
  },
  "language_info": {
   "codemirror_mode": {
    "name": "ipython",
    "version": 3
   },
   "file_extension": ".py",
   "mimetype": "text/x-python",
   "name": "python",
   "nbconvert_exporter": "python",
   "pygments_lexer": "ipython3",
   "version": "3.8.11"
  }
 },
 "nbformat": 4,
 "nbformat_minor": 5
}
