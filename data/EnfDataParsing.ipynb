{
 "cells": [
  {
   "cell_type": "code",
   "execution_count": 94,
   "id": "7b63be7a",
   "metadata": {},
   "outputs": [],
   "source": [
    "import numpy as np\n",
    "import pandas as pd\n",
    "import matplotlib.pyplot as plt\n",
    "import plotly.graph_objects as go\n",
    "import plotly.express as px"
   ]
  },
  {
   "cell_type": "code",
   "execution_count": 95,
   "id": "11a68b40",
   "metadata": {},
   "outputs": [
    {
     "data": {
      "text/html": [
       "<div>\n",
       "<style scoped>\n",
       "    .dataframe tbody tr th:only-of-type {\n",
       "        vertical-align: middle;\n",
       "    }\n",
       "\n",
       "    .dataframe tbody tr th {\n",
       "        vertical-align: top;\n",
       "    }\n",
       "\n",
       "    .dataframe thead tr th {\n",
       "        text-align: left;\n",
       "    }\n",
       "</style>\n",
       "<table border=\"1\" class=\"dataframe\">\n",
       "  <thead>\n",
       "    <tr>\n",
       "      <th></th>\n",
       "      <th colspan=\"3\" halign=\"left\">1999</th>\n",
       "      <th colspan=\"3\" halign=\"left\">2000</th>\n",
       "      <th colspan=\"3\" halign=\"left\">2001</th>\n",
       "      <th>2002</th>\n",
       "      <th>...</th>\n",
       "      <th>2016</th>\n",
       "      <th colspan=\"3\" halign=\"left\">2017</th>\n",
       "      <th colspan=\"3\" halign=\"left\">2018</th>\n",
       "      <th colspan=\"3\" halign=\"left\">2019</th>\n",
       "    </tr>\n",
       "    <tr>\n",
       "      <th>Region and country of nationality</th>\n",
       "      <th>Total</th>\n",
       "      <th>Criminal</th>\n",
       "      <th>Non-Criminal</th>\n",
       "      <th>Total</th>\n",
       "      <th>Criminal</th>\n",
       "      <th>Non-Criminal</th>\n",
       "      <th>Total</th>\n",
       "      <th>Criminal</th>\n",
       "      <th>Non-Criminal</th>\n",
       "      <th>Total</th>\n",
       "      <th>...</th>\n",
       "      <th>Non-Criminal</th>\n",
       "      <th>Total</th>\n",
       "      <th>Criminal</th>\n",
       "      <th>Non-Criminal</th>\n",
       "      <th>Total</th>\n",
       "      <th>Criminal</th>\n",
       "      <th>Non-Criminal</th>\n",
       "      <th>Total</th>\n",
       "      <th>Criminal</th>\n",
       "      <th>Non-Criminal</th>\n",
       "    </tr>\n",
       "  </thead>\n",
       "  <tbody>\n",
       "    <tr>\n",
       "      <th>Global Total</th>\n",
       "      <td>183114</td>\n",
       "      <td>71188</td>\n",
       "      <td>111926</td>\n",
       "      <td>188467</td>\n",
       "      <td>73065</td>\n",
       "      <td>115402</td>\n",
       "      <td>189026</td>\n",
       "      <td>73545</td>\n",
       "      <td>115481</td>\n",
       "      <td>165168</td>\n",
       "      <td>...</td>\n",
       "      <td>216416</td>\n",
       "      <td>287093</td>\n",
       "      <td>109697</td>\n",
       "      <td>177396</td>\n",
       "      <td>328716</td>\n",
       "      <td>148352</td>\n",
       "      <td>180364</td>\n",
       "      <td>359885</td>\n",
       "      <td>155788</td>\n",
       "      <td>204097</td>\n",
       "    </tr>\n",
       "    <tr>\n",
       "      <th>Belize</th>\n",
       "      <td>191</td>\n",
       "      <td>139</td>\n",
       "      <td>52</td>\n",
       "      <td>170</td>\n",
       "      <td>126</td>\n",
       "      <td>44</td>\n",
       "      <td>185</td>\n",
       "      <td>110</td>\n",
       "      <td>75</td>\n",
       "      <td>178</td>\n",
       "      <td>...</td>\n",
       "      <td>60</td>\n",
       "      <td>123</td>\n",
       "      <td>57</td>\n",
       "      <td>66</td>\n",
       "      <td>133</td>\n",
       "      <td>111</td>\n",
       "      <td>22</td>\n",
       "      <td>109</td>\n",
       "      <td>80</td>\n",
       "      <td>29</td>\n",
       "    </tr>\n",
       "    <tr>\n",
       "      <th>Costa Rica</th>\n",
       "      <td>227</td>\n",
       "      <td>69</td>\n",
       "      <td>158</td>\n",
       "      <td>328</td>\n",
       "      <td>58</td>\n",
       "      <td>270</td>\n",
       "      <td>392</td>\n",
       "      <td>65</td>\n",
       "      <td>327</td>\n",
       "      <td>376</td>\n",
       "      <td>...</td>\n",
       "      <td>183</td>\n",
       "      <td>256</td>\n",
       "      <td>73</td>\n",
       "      <td>183</td>\n",
       "      <td>319</td>\n",
       "      <td>253</td>\n",
       "      <td>66</td>\n",
       "      <td>356</td>\n",
       "      <td>313</td>\n",
       "      <td>43</td>\n",
       "    </tr>\n",
       "    <tr>\n",
       "      <th>El Salvador</th>\n",
       "      <td>4160</td>\n",
       "      <td>2115</td>\n",
       "      <td>2045</td>\n",
       "      <td>4736</td>\n",
       "      <td>2145</td>\n",
       "      <td>2591</td>\n",
       "      <td>3928</td>\n",
       "      <td>1895</td>\n",
       "      <td>2033</td>\n",
       "      <td>4066</td>\n",
       "      <td>...</td>\n",
       "      <td>13545</td>\n",
       "      <td>18448</td>\n",
       "      <td>6489</td>\n",
       "      <td>11959</td>\n",
       "      <td>14877</td>\n",
       "      <td>7003</td>\n",
       "      <td>7874</td>\n",
       "      <td>18190</td>\n",
       "      <td>8802</td>\n",
       "      <td>9388</td>\n",
       "    </tr>\n",
       "    <tr>\n",
       "      <th>Guatemala</th>\n",
       "      <td>3763</td>\n",
       "      <td>1096</td>\n",
       "      <td>2667</td>\n",
       "      <td>4543</td>\n",
       "      <td>1203</td>\n",
       "      <td>3340</td>\n",
       "      <td>4716</td>\n",
       "      <td>1169</td>\n",
       "      <td>3547</td>\n",
       "      <td>5396</td>\n",
       "      <td>...</td>\n",
       "      <td>23285</td>\n",
       "      <td>33049</td>\n",
       "      <td>11110</td>\n",
       "      <td>21939</td>\n",
       "      <td>49135</td>\n",
       "      <td>19814</td>\n",
       "      <td>29321</td>\n",
       "      <td>53180</td>\n",
       "      <td>23005</td>\n",
       "      <td>30175</td>\n",
       "    </tr>\n",
       "    <tr>\n",
       "      <th>Honduras</th>\n",
       "      <td>3460</td>\n",
       "      <td>1255</td>\n",
       "      <td>2205</td>\n",
       "      <td>4768</td>\n",
       "      <td>1486</td>\n",
       "      <td>3282</td>\n",
       "      <td>4548</td>\n",
       "      <td>1429</td>\n",
       "      <td>3119</td>\n",
       "      <td>4946</td>\n",
       "      <td>...</td>\n",
       "      <td>13423</td>\n",
       "      <td>22163</td>\n",
       "      <td>9282</td>\n",
       "      <td>12881</td>\n",
       "      <td>28451</td>\n",
       "      <td>12734</td>\n",
       "      <td>15717</td>\n",
       "      <td>40751</td>\n",
       "      <td>17941</td>\n",
       "      <td>22810</td>\n",
       "    </tr>\n",
       "    <tr>\n",
       "      <th>Mexico</th>\n",
       "      <td>150383</td>\n",
       "      <td>55878</td>\n",
       "      <td>94505</td>\n",
       "      <td>151267</td>\n",
       "      <td>57464</td>\n",
       "      <td>93803</td>\n",
       "      <td>150762</td>\n",
       "      <td>58499</td>\n",
       "      <td>92263</td>\n",
       "      <td>122058</td>\n",
       "      <td>...</td>\n",
       "      <td>154454</td>\n",
       "      <td>184106</td>\n",
       "      <td>74202</td>\n",
       "      <td>109904</td>\n",
       "      <td>209334</td>\n",
       "      <td>90403</td>\n",
       "      <td>118931</td>\n",
       "      <td>215205</td>\n",
       "      <td>84350</td>\n",
       "      <td>130855</td>\n",
       "    </tr>\n",
       "    <tr>\n",
       "      <th>Nicaragua</th>\n",
       "      <td>444</td>\n",
       "      <td>259</td>\n",
       "      <td>185</td>\n",
       "      <td>513</td>\n",
       "      <td>263</td>\n",
       "      <td>250</td>\n",
       "      <td>526</td>\n",
       "      <td>256</td>\n",
       "      <td>270</td>\n",
       "      <td>468</td>\n",
       "      <td>...</td>\n",
       "      <td>490</td>\n",
       "      <td>906</td>\n",
       "      <td>379</td>\n",
       "      <td>527</td>\n",
       "      <td>964</td>\n",
       "      <td>568</td>\n",
       "      <td>396</td>\n",
       "      <td>2268</td>\n",
       "      <td>1058</td>\n",
       "      <td>1210</td>\n",
       "    </tr>\n",
       "    <tr>\n",
       "      <th>Panama</th>\n",
       "      <td>169</td>\n",
       "      <td>130</td>\n",
       "      <td>39</td>\n",
       "      <td>154</td>\n",
       "      <td>110</td>\n",
       "      <td>44</td>\n",
       "      <td>157</td>\n",
       "      <td>109</td>\n",
       "      <td>48</td>\n",
       "      <td>163</td>\n",
       "      <td>...</td>\n",
       "      <td>29</td>\n",
       "      <td>94</td>\n",
       "      <td>52</td>\n",
       "      <td>42</td>\n",
       "      <td>91</td>\n",
       "      <td>86</td>\n",
       "      <td>5</td>\n",
       "      <td>102</td>\n",
       "      <td>95</td>\n",
       "      <td>7</td>\n",
       "    </tr>\n",
       "  </tbody>\n",
       "</table>\n",
       "<p>9 rows × 63 columns</p>\n",
       "</div>"
      ],
      "text/plain": [
       "                                       1999                          2000  \\\n",
       "Region and country of nationality     Total Criminal Non-Criminal   Total   \n",
       "Global Total                         183114    71188       111926  188467   \n",
       "Belize                                  191      139           52     170   \n",
       "Costa Rica                              227       69          158     328   \n",
       "El Salvador                            4160     2115         2045    4736   \n",
       "Guatemala                              3763     1096         2667    4543   \n",
       "Honduras                               3460     1255         2205    4768   \n",
       "Mexico                               150383    55878        94505  151267   \n",
       "Nicaragua                               444      259          185     513   \n",
       "Panama                                  169      130           39     154   \n",
       "\n",
       "                                                             2001           \\\n",
       "Region and country of nationality   Criminal Non-Criminal   Total Criminal   \n",
       "Global Total                           73065       115402  189026    73545   \n",
       "Belize                                   126           44     185      110   \n",
       "Costa Rica                                58          270     392       65   \n",
       "El Salvador                             2145         2591    3928     1895   \n",
       "Guatemala                               1203         3340    4716     1169   \n",
       "Honduras                                1486         3282    4548     1429   \n",
       "Mexico                                 57464        93803  150762    58499   \n",
       "Nicaragua                                263          250     526      256   \n",
       "Panama                                   110           44     157      109   \n",
       "\n",
       "                                                    2002  ...         2016  \\\n",
       "Region and country of nationality   Non-Criminal   Total  ... Non-Criminal   \n",
       "Global Total                              115481  165168  ...       216416   \n",
       "Belize                                        75     178  ...           60   \n",
       "Costa Rica                                   327     376  ...          183   \n",
       "El Salvador                                 2033    4066  ...        13545   \n",
       "Guatemala                                   3547    5396  ...        23285   \n",
       "Honduras                                    3119    4946  ...        13423   \n",
       "Mexico                                     92263  122058  ...       154454   \n",
       "Nicaragua                                    270     468  ...          490   \n",
       "Panama                                        48     163  ...           29   \n",
       "\n",
       "                                       2017                          2018  \\\n",
       "Region and country of nationality     Total Criminal Non-Criminal   Total   \n",
       "Global Total                         287093   109697       177396  328716   \n",
       "Belize                                  123       57           66     133   \n",
       "Costa Rica                              256       73          183     319   \n",
       "El Salvador                           18448     6489        11959   14877   \n",
       "Guatemala                             33049    11110        21939   49135   \n",
       "Honduras                              22163     9282        12881   28451   \n",
       "Mexico                               184106    74202       109904  209334   \n",
       "Nicaragua                               906      379          527     964   \n",
       "Panama                                   94       52           42      91   \n",
       "\n",
       "                                                             2019           \\\n",
       "Region and country of nationality   Criminal Non-Criminal   Total Criminal   \n",
       "Global Total                          148352       180364  359885   155788   \n",
       "Belize                                   111           22     109       80   \n",
       "Costa Rica                               253           66     356      313   \n",
       "El Salvador                             7003         7874   18190     8802   \n",
       "Guatemala                              19814        29321   53180    23005   \n",
       "Honduras                               12734        15717   40751    17941   \n",
       "Mexico                                 90403       118931  215205    84350   \n",
       "Nicaragua                                568          396    2268     1058   \n",
       "Panama                                    86            5     102       95   \n",
       "\n",
       "                                                  \n",
       "Region and country of nationality   Non-Criminal  \n",
       "Global Total                              204097  \n",
       "Belize                                        29  \n",
       "Costa Rica                                    43  \n",
       "El Salvador                                 9388  \n",
       "Guatemala                                  30175  \n",
       "Honduras                                   22810  \n",
       "Mexico                                    130855  \n",
       "Nicaragua                                   1210  \n",
       "Panama                                         7  \n",
       "\n",
       "[9 rows x 63 columns]"
      ]
     },
     "metadata": {},
     "output_type": "display_data"
    },
    {
     "data": {
      "text/html": [
       "<div>\n",
       "<style scoped>\n",
       "    .dataframe tbody tr th:only-of-type {\n",
       "        vertical-align: middle;\n",
       "    }\n",
       "\n",
       "    .dataframe tbody tr th {\n",
       "        vertical-align: top;\n",
       "    }\n",
       "\n",
       "    .dataframe thead th {\n",
       "        text-align: right;\n",
       "    }\n",
       "</style>\n",
       "<table border=\"1\" class=\"dataframe\">\n",
       "  <thead>\n",
       "    <tr style=\"text-align: right;\">\n",
       "      <th></th>\n",
       "      <th>Year</th>\n",
       "      <th>Number</th>\n",
       "    </tr>\n",
       "  </thead>\n",
       "  <tbody>\n",
       "    <tr>\n",
       "      <th>0</th>\n",
       "      <td>2000</td>\n",
       "      <td>166479</td>\n",
       "    </tr>\n",
       "    <tr>\n",
       "      <th>1</th>\n",
       "      <td>2001</td>\n",
       "      <td>165214</td>\n",
       "    </tr>\n",
       "    <tr>\n",
       "      <th>2</th>\n",
       "      <td>2002</td>\n",
       "      <td>137651</td>\n",
       "    </tr>\n",
       "    <tr>\n",
       "      <th>3</th>\n",
       "      <td>2003</td>\n",
       "      <td>178956</td>\n",
       "    </tr>\n",
       "    <tr>\n",
       "      <th>4</th>\n",
       "      <td>2004</td>\n",
       "      <td>203551</td>\n",
       "    </tr>\n",
       "    <tr>\n",
       "      <th>5</th>\n",
       "      <td>2005</td>\n",
       "      <td>209804</td>\n",
       "    </tr>\n",
       "    <tr>\n",
       "      <th>6</th>\n",
       "      <td>2006</td>\n",
       "      <td>249024</td>\n",
       "    </tr>\n",
       "    <tr>\n",
       "      <th>7</th>\n",
       "      <td>2007</td>\n",
       "      <td>288056</td>\n",
       "    </tr>\n",
       "    <tr>\n",
       "      <th>8</th>\n",
       "      <td>2008</td>\n",
       "      <td>326674</td>\n",
       "    </tr>\n",
       "    <tr>\n",
       "      <th>9</th>\n",
       "      <td>2009</td>\n",
       "      <td>362298</td>\n",
       "    </tr>\n",
       "    <tr>\n",
       "      <th>10</th>\n",
       "      <td>2010</td>\n",
       "      <td>352502</td>\n",
       "    </tr>\n",
       "    <tr>\n",
       "      <th>11</th>\n",
       "      <td>2011</td>\n",
       "      <td>361308</td>\n",
       "    </tr>\n",
       "    <tr>\n",
       "      <th>12</th>\n",
       "      <td>2012</td>\n",
       "      <td>392172</td>\n",
       "    </tr>\n",
       "    <tr>\n",
       "      <th>13</th>\n",
       "      <td>2013</td>\n",
       "      <td>413648</td>\n",
       "    </tr>\n",
       "    <tr>\n",
       "      <th>14</th>\n",
       "      <td>2014</td>\n",
       "      <td>388870</td>\n",
       "    </tr>\n",
       "    <tr>\n",
       "      <th>15</th>\n",
       "      <td>2015</td>\n",
       "      <td>310188</td>\n",
       "    </tr>\n",
       "    <tr>\n",
       "      <th>16</th>\n",
       "      <td>2016</td>\n",
       "      <td>313734</td>\n",
       "    </tr>\n",
       "    <tr>\n",
       "      <th>17</th>\n",
       "      <td>2017</td>\n",
       "      <td>259145</td>\n",
       "    </tr>\n",
       "    <tr>\n",
       "      <th>18</th>\n",
       "      <td>2018</td>\n",
       "      <td>303304</td>\n",
       "    </tr>\n",
       "    <tr>\n",
       "      <th>19</th>\n",
       "      <td>2019</td>\n",
       "      <td>330161</td>\n",
       "    </tr>\n",
       "  </tbody>\n",
       "</table>\n",
       "</div>"
      ],
      "text/plain": [
       "    Year  Number\n",
       "0   2000  166479\n",
       "1   2001  165214\n",
       "2   2002  137651\n",
       "3   2003  178956\n",
       "4   2004  203551\n",
       "5   2005  209804\n",
       "6   2006  249024\n",
       "7   2007  288056\n",
       "8   2008  326674\n",
       "9   2009  362298\n",
       "10  2010  352502\n",
       "11  2011  361308\n",
       "12  2012  392172\n",
       "13  2013  413648\n",
       "14  2014  388870\n",
       "15  2015  310188\n",
       "16  2016  313734\n",
       "17  2017  259145\n",
       "18  2018  303304\n",
       "19  2019  330161"
      ]
     },
     "metadata": {},
     "output_type": "display_data"
    }
   ],
   "source": [
    "df = pd.read_excel(\"./t41_2000-2019.xlsx\", header=[0, 1], index_col=0)\n",
    "df = df.rename(columns={\"Criminal 1\": \"Criminal\", \"Criminal1\": \"Criminal\", \" Total \": \"Total\"})\n",
    "display(df)\n",
    "# df.pivot(columns=[df.columns] + , values=[df.columns, df.values])\n",
    "df_formatted = df.melt(ignore_index=False).reset_index()\n",
    "df_formatted.set_axis([\"Country\", \"Year\", \"Type\", \"Number\"], axis=1, inplace=True)\n",
    "df_formatted = df_formatted[np.logical_and(df_formatted.Type == \"Total\", df_formatted.Country != \"Global Total\")]\n",
    "df_formatted = df_formatted[df_formatted.Year >= 2000]\n",
    "df_formatted = df_formatted.groupby(by=\"Year\").sum().reset_index()\n",
    "display(df_formatted)\n"
   ]
  },
  {
   "cell_type": "code",
   "execution_count": 96,
   "id": "23aeb1e4",
   "metadata": {},
   "outputs": [
    {
     "data": {
      "text/html": [
       "<div>\n",
       "<style scoped>\n",
       "    .dataframe tbody tr th:only-of-type {\n",
       "        vertical-align: middle;\n",
       "    }\n",
       "\n",
       "    .dataframe tbody tr th {\n",
       "        vertical-align: top;\n",
       "    }\n",
       "\n",
       "    .dataframe thead th {\n",
       "        text-align: right;\n",
       "    }\n",
       "</style>\n",
       "<table border=\"1\" class=\"dataframe\">\n",
       "  <thead>\n",
       "    <tr style=\"text-align: right;\">\n",
       "      <th></th>\n",
       "      <th>Year</th>\n",
       "      <th>Number</th>\n",
       "    </tr>\n",
       "  </thead>\n",
       "  <tbody>\n",
       "    <tr>\n",
       "      <th>0</th>\n",
       "      <td>2000</td>\n",
       "      <td>1777618</td>\n",
       "    </tr>\n",
       "    <tr>\n",
       "      <th>1</th>\n",
       "      <td>2001</td>\n",
       "      <td>1347262</td>\n",
       "    </tr>\n",
       "    <tr>\n",
       "      <th>2</th>\n",
       "      <td>2002</td>\n",
       "      <td>1025012</td>\n",
       "    </tr>\n",
       "    <tr>\n",
       "      <th>3</th>\n",
       "      <td>2003</td>\n",
       "      <td>997650</td>\n",
       "    </tr>\n",
       "    <tr>\n",
       "      <th>4</th>\n",
       "      <td>2004</td>\n",
       "      <td>1205313</td>\n",
       "    </tr>\n",
       "    <tr>\n",
       "      <th>5</th>\n",
       "      <td>2005</td>\n",
       "      <td>1223823</td>\n",
       "    </tr>\n",
       "    <tr>\n",
       "      <th>6</th>\n",
       "      <td>2006</td>\n",
       "      <td>1166384</td>\n",
       "    </tr>\n",
       "    <tr>\n",
       "      <th>7</th>\n",
       "      <td>2007</td>\n",
       "      <td>928850</td>\n",
       "    </tr>\n",
       "    <tr>\n",
       "      <th>8</th>\n",
       "      <td>2008</td>\n",
       "      <td>760573</td>\n",
       "    </tr>\n",
       "    <tr>\n",
       "      <th>9</th>\n",
       "      <td>2009</td>\n",
       "      <td>586771</td>\n",
       "    </tr>\n",
       "    <tr>\n",
       "      <th>10</th>\n",
       "      <td>2010</td>\n",
       "      <td>737252</td>\n",
       "    </tr>\n",
       "    <tr>\n",
       "      <th>11</th>\n",
       "      <td>2011</td>\n",
       "      <td>621389</td>\n",
       "    </tr>\n",
       "    <tr>\n",
       "      <th>12</th>\n",
       "      <td>2012</td>\n",
       "      <td>619562</td>\n",
       "    </tr>\n",
       "    <tr>\n",
       "      <th>13</th>\n",
       "      <td>2013</td>\n",
       "      <td>617167</td>\n",
       "    </tr>\n",
       "    <tr>\n",
       "      <th>14</th>\n",
       "      <td>2014</td>\n",
       "      <td>637225</td>\n",
       "    </tr>\n",
       "    <tr>\n",
       "      <th>15</th>\n",
       "      <td>2015</td>\n",
       "      <td>430522</td>\n",
       "    </tr>\n",
       "    <tr>\n",
       "      <th>16</th>\n",
       "      <td>2016</td>\n",
       "      <td>492816</td>\n",
       "    </tr>\n",
       "    <tr>\n",
       "      <th>17</th>\n",
       "      <td>2017</td>\n",
       "      <td>424091</td>\n",
       "    </tr>\n",
       "    <tr>\n",
       "      <th>18</th>\n",
       "      <td>2018</td>\n",
       "      <td>525426</td>\n",
       "    </tr>\n",
       "    <tr>\n",
       "      <th>19</th>\n",
       "      <td>2019</td>\n",
       "      <td>923271</td>\n",
       "    </tr>\n",
       "  </tbody>\n",
       "</table>\n",
       "</div>"
      ],
      "text/plain": [
       "    Year   Number\n",
       "0   2000  1777618\n",
       "1   2001  1347262\n",
       "2   2002  1025012\n",
       "3   2003   997650\n",
       "4   2004  1205313\n",
       "5   2005  1223823\n",
       "6   2006  1166384\n",
       "7   2007   928850\n",
       "8   2008   760573\n",
       "9   2009   586771\n",
       "10  2010   737252\n",
       "11  2011   621389\n",
       "12  2012   619562\n",
       "13  2013   617167\n",
       "14  2014   637225\n",
       "15  2015   430522\n",
       "16  2016   492816\n",
       "17  2017   424091\n",
       "18  2018   525426\n",
       "19  2019   923271"
      ]
     },
     "metadata": {},
     "output_type": "display_data"
    }
   ],
   "source": [
    "df_appr = pd.read_excel(\"./t34_2000-2019.xlsx\", index_col=0)\n",
    "\n",
    "# display(df)\n",
    "# df.pivot(columns=[df.columns] + , values=[df.columns, df.values])\n",
    "df_appr_formatted = df_appr.melt(ignore_index=False).reset_index()\n",
    "df_appr_formatted.set_axis([\"Country\", \"Year\", \"Number\"], axis=1, inplace=True)\n",
    "df_appr_formatted = df_appr_formatted[df_appr_formatted.Country != \"Global Total\"].groupby(by='Year').sum().reset_index()\n",
    "display(df_appr_formatted)"
   ]
  },
  {
   "cell_type": "code",
   "execution_count": 112,
   "id": "0255ccf5",
   "metadata": {
    "scrolled": true
   },
   "outputs": [
    {
     "data": {
      "application/vnd.plotly.v1+json": {
       "config": {
        "plotlyServerURL": "https://plot.ly"
       },
       "data": [
        {
         "alignmentgroup": "True",
         "hovertemplate": "Year=%{x}<br>Number=%{y}<extra></extra>",
         "legendgroup": "",
         "marker": {
          "color": "#003869",
          "opacity": 0.5,
          "pattern": {
           "shape": ""
          }
         },
         "name": "",
         "offsetgroup": "",
         "orientation": "v",
         "showlegend": false,
         "textposition": "auto",
         "type": "bar",
         "x": [
          2000,
          2001,
          2002,
          2003,
          2004,
          2005,
          2006,
          2007,
          2008,
          2009,
          2010,
          2011,
          2012,
          2013,
          2014,
          2015,
          2016,
          2017,
          2018,
          2019
         ],
         "xaxis": "x",
         "y": [
          166479,
          165214,
          137651,
          178956,
          203551,
          209804,
          249024,
          288056,
          326674,
          362298,
          352502,
          361308,
          392172,
          413648,
          388870,
          310188,
          313734,
          259145,
          303304,
          330161
         ],
         "yaxis": "y"
        },
        {
         "base": 0,
         "legendgroup": "Apprehended",
         "marker": {
          "color": "#003869"
         },
         "opacity": 0.5,
         "showlegend": false,
         "text": "9%",
         "textposition": "outside",
         "type": "bar",
         "x": [
          2000
         ],
         "y": [
          1777618
         ]
        },
        {
         "base": 0,
         "legendgroup": "Apprehended",
         "marker": {
          "color": "#003869"
         },
         "opacity": 0.5,
         "showlegend": false,
         "text": "12%",
         "textposition": "outside",
         "type": "bar",
         "x": [
          2001
         ],
         "y": [
          1347262
         ]
        },
        {
         "base": 0,
         "legendgroup": "Apprehended",
         "marker": {
          "color": "#003869"
         },
         "opacity": 0.5,
         "showlegend": false,
         "text": "13%",
         "textposition": "outside",
         "type": "bar",
         "x": [
          2002
         ],
         "y": [
          1025012
         ]
        },
        {
         "base": 0,
         "legendgroup": "Apprehended",
         "marker": {
          "color": "#003869"
         },
         "opacity": 0.5,
         "showlegend": false,
         "text": "18%",
         "textposition": "outside",
         "type": "bar",
         "x": [
          2003
         ],
         "y": [
          997650
         ]
        },
        {
         "base": 0,
         "legendgroup": "Apprehended",
         "marker": {
          "color": "#003869"
         },
         "opacity": 0.5,
         "showlegend": false,
         "text": "17%",
         "textposition": "outside",
         "type": "bar",
         "x": [
          2004
         ],
         "y": [
          1205313
         ]
        },
        {
         "base": 0,
         "legendgroup": "Apprehended",
         "marker": {
          "color": "#003869"
         },
         "opacity": 0.5,
         "showlegend": false,
         "text": "17%",
         "textposition": "outside",
         "type": "bar",
         "x": [
          2005
         ],
         "y": [
          1223823
         ]
        },
        {
         "base": 0,
         "legendgroup": "Apprehended",
         "marker": {
          "color": "#003869"
         },
         "opacity": 0.5,
         "showlegend": false,
         "text": "21%",
         "textposition": "outside",
         "type": "bar",
         "x": [
          2006
         ],
         "y": [
          1166384
         ]
        },
        {
         "base": 0,
         "legendgroup": "Apprehended",
         "marker": {
          "color": "#003869"
         },
         "opacity": 0.5,
         "showlegend": false,
         "text": "31%",
         "textposition": "outside",
         "type": "bar",
         "x": [
          2007
         ],
         "y": [
          928850
         ]
        },
        {
         "base": 0,
         "legendgroup": "Apprehended",
         "marker": {
          "color": "#003869"
         },
         "opacity": 0.5,
         "showlegend": false,
         "text": "43%",
         "textposition": "outside",
         "type": "bar",
         "x": [
          2008
         ],
         "y": [
          760573
         ]
        },
        {
         "base": 0,
         "legendgroup": "Apprehended",
         "marker": {
          "color": "#003869"
         },
         "opacity": 0.5,
         "showlegend": false,
         "text": "62%",
         "textposition": "outside",
         "type": "bar",
         "x": [
          2009
         ],
         "y": [
          586771
         ]
        },
        {
         "base": 0,
         "legendgroup": "Apprehended",
         "marker": {
          "color": "#003869"
         },
         "opacity": 0.5,
         "showlegend": false,
         "text": "48%",
         "textposition": "outside",
         "type": "bar",
         "x": [
          2010
         ],
         "y": [
          737252
         ]
        },
        {
         "base": 0,
         "legendgroup": "Apprehended",
         "marker": {
          "color": "#003869"
         },
         "opacity": 0.5,
         "showlegend": false,
         "text": "58%",
         "textposition": "outside",
         "type": "bar",
         "x": [
          2011
         ],
         "y": [
          621389
         ]
        },
        {
         "base": 0,
         "legendgroup": "Apprehended",
         "marker": {
          "color": "#003869"
         },
         "opacity": 0.5,
         "showlegend": false,
         "text": "63%",
         "textposition": "outside",
         "type": "bar",
         "x": [
          2012
         ],
         "y": [
          619562
         ]
        },
        {
         "base": 0,
         "legendgroup": "Apprehended",
         "marker": {
          "color": "#003869"
         },
         "opacity": 0.5,
         "showlegend": false,
         "text": "67%",
         "textposition": "outside",
         "type": "bar",
         "x": [
          2013
         ],
         "y": [
          617167
         ]
        },
        {
         "base": 0,
         "legendgroup": "Apprehended",
         "marker": {
          "color": "#003869"
         },
         "opacity": 0.5,
         "showlegend": false,
         "text": "61%",
         "textposition": "outside",
         "type": "bar",
         "x": [
          2014
         ],
         "y": [
          637225
         ]
        },
        {
         "base": 0,
         "legendgroup": "Apprehended",
         "marker": {
          "color": "#003869"
         },
         "opacity": 0.5,
         "showlegend": false,
         "text": "72%",
         "textposition": "outside",
         "type": "bar",
         "x": [
          2015
         ],
         "y": [
          430522
         ]
        },
        {
         "base": 0,
         "legendgroup": "Apprehended",
         "marker": {
          "color": "#003869"
         },
         "opacity": 0.5,
         "showlegend": false,
         "text": "64%",
         "textposition": "outside",
         "type": "bar",
         "x": [
          2016
         ],
         "y": [
          492816
         ]
        },
        {
         "base": 0,
         "legendgroup": "Apprehended",
         "marker": {
          "color": "#003869"
         },
         "opacity": 0.5,
         "showlegend": false,
         "text": "61%",
         "textposition": "outside",
         "type": "bar",
         "x": [
          2017
         ],
         "y": [
          424091
         ]
        },
        {
         "base": 0,
         "legendgroup": "Apprehended",
         "marker": {
          "color": "#003869"
         },
         "opacity": 0.5,
         "showlegend": false,
         "text": "58%",
         "textposition": "outside",
         "type": "bar",
         "x": [
          2018
         ],
         "y": [
          525426
         ]
        },
        {
         "base": 0,
         "legendgroup": "Apprehended",
         "marker": {
          "color": "#003869"
         },
         "opacity": 0.5,
         "showlegend": false,
         "text": "36%",
         "textposition": "outside",
         "type": "bar",
         "x": [
          2019
         ],
         "y": [
          923271
         ]
        }
       ],
       "layout": {
        "annotations": [
         {
          "showarrow": false,
          "text": "Clinton",
          "x": "1999",
          "xanchor": "left",
          "xref": "x",
          "y": 1,
          "yanchor": "top",
          "yref": "y domain"
         },
         {
          "showarrow": false,
          "text": "Bush",
          "x": "2001",
          "xanchor": "left",
          "xref": "x",
          "y": 1,
          "yanchor": "top",
          "yref": "y domain"
         },
         {
          "showarrow": false,
          "text": "Obama",
          "x": "2009",
          "xanchor": "left",
          "xref": "x",
          "y": 1,
          "yanchor": "top",
          "yref": "y domain"
         },
         {
          "showarrow": false,
          "text": "Trump",
          "x": "2017",
          "xanchor": "left",
          "xref": "x",
          "y": 1,
          "yanchor": "top",
          "yref": "y domain"
         }
        ],
        "barmode": "relative",
        "legend": {
         "tracegroupgap": 0
        },
        "paper_bgcolor": "rgba(0, 0, 0, 0)",
        "plot_bgcolor": "rgba(0, 0, 0, 0)",
        "shapes": [
         {
          "line": {
           "width": 0
          },
          "opacity": 0.25,
          "type": "rect",
          "x0": "1999",
          "x1": "2001",
          "xref": "x",
          "y0": 0,
          "y1": 1,
          "yref": "y domain"
         },
         {
          "fillcolor": "#999999",
          "line": {
           "width": 0
          },
          "opacity": 0.25,
          "type": "rect",
          "x0": "2001",
          "x1": "2009",
          "xref": "x",
          "y0": 0,
          "y1": 1,
          "yref": "y domain"
         },
         {
          "line": {
           "width": 0
          },
          "opacity": 0.25,
          "type": "rect",
          "x0": "2009",
          "x1": "2017",
          "xref": "x",
          "y0": 0,
          "y1": 1,
          "yref": "y domain"
         },
         {
          "fillcolor": "#999999",
          "line": {
           "width": 0
          },
          "opacity": 0.25,
          "type": "rect",
          "x0": "2017",
          "x1": "2019",
          "xref": "x",
          "y0": 0,
          "y1": 1,
          "yref": "y domain"
         }
        ],
        "template": {
         "data": {
          "bar": [
           {
            "error_x": {
             "color": "#2a3f5f"
            },
            "error_y": {
             "color": "#2a3f5f"
            },
            "marker": {
             "line": {
              "color": "#E5ECF6",
              "width": 0.5
             },
             "pattern": {
              "fillmode": "overlay",
              "size": 10,
              "solidity": 0.2
             }
            },
            "type": "bar"
           }
          ],
          "barpolar": [
           {
            "marker": {
             "line": {
              "color": "#E5ECF6",
              "width": 0.5
             },
             "pattern": {
              "fillmode": "overlay",
              "size": 10,
              "solidity": 0.2
             }
            },
            "type": "barpolar"
           }
          ],
          "carpet": [
           {
            "aaxis": {
             "endlinecolor": "#2a3f5f",
             "gridcolor": "white",
             "linecolor": "white",
             "minorgridcolor": "white",
             "startlinecolor": "#2a3f5f"
            },
            "baxis": {
             "endlinecolor": "#2a3f5f",
             "gridcolor": "white",
             "linecolor": "white",
             "minorgridcolor": "white",
             "startlinecolor": "#2a3f5f"
            },
            "type": "carpet"
           }
          ],
          "choropleth": [
           {
            "colorbar": {
             "outlinewidth": 0,
             "ticks": ""
            },
            "type": "choropleth"
           }
          ],
          "contour": [
           {
            "colorbar": {
             "outlinewidth": 0,
             "ticks": ""
            },
            "colorscale": [
             [
              0,
              "#0d0887"
             ],
             [
              0.1111111111111111,
              "#46039f"
             ],
             [
              0.2222222222222222,
              "#7201a8"
             ],
             [
              0.3333333333333333,
              "#9c179e"
             ],
             [
              0.4444444444444444,
              "#bd3786"
             ],
             [
              0.5555555555555556,
              "#d8576b"
             ],
             [
              0.6666666666666666,
              "#ed7953"
             ],
             [
              0.7777777777777778,
              "#fb9f3a"
             ],
             [
              0.8888888888888888,
              "#fdca26"
             ],
             [
              1,
              "#f0f921"
             ]
            ],
            "type": "contour"
           }
          ],
          "contourcarpet": [
           {
            "colorbar": {
             "outlinewidth": 0,
             "ticks": ""
            },
            "type": "contourcarpet"
           }
          ],
          "heatmap": [
           {
            "colorbar": {
             "outlinewidth": 0,
             "ticks": ""
            },
            "colorscale": [
             [
              0,
              "#0d0887"
             ],
             [
              0.1111111111111111,
              "#46039f"
             ],
             [
              0.2222222222222222,
              "#7201a8"
             ],
             [
              0.3333333333333333,
              "#9c179e"
             ],
             [
              0.4444444444444444,
              "#bd3786"
             ],
             [
              0.5555555555555556,
              "#d8576b"
             ],
             [
              0.6666666666666666,
              "#ed7953"
             ],
             [
              0.7777777777777778,
              "#fb9f3a"
             ],
             [
              0.8888888888888888,
              "#fdca26"
             ],
             [
              1,
              "#f0f921"
             ]
            ],
            "type": "heatmap"
           }
          ],
          "heatmapgl": [
           {
            "colorbar": {
             "outlinewidth": 0,
             "ticks": ""
            },
            "colorscale": [
             [
              0,
              "#0d0887"
             ],
             [
              0.1111111111111111,
              "#46039f"
             ],
             [
              0.2222222222222222,
              "#7201a8"
             ],
             [
              0.3333333333333333,
              "#9c179e"
             ],
             [
              0.4444444444444444,
              "#bd3786"
             ],
             [
              0.5555555555555556,
              "#d8576b"
             ],
             [
              0.6666666666666666,
              "#ed7953"
             ],
             [
              0.7777777777777778,
              "#fb9f3a"
             ],
             [
              0.8888888888888888,
              "#fdca26"
             ],
             [
              1,
              "#f0f921"
             ]
            ],
            "type": "heatmapgl"
           }
          ],
          "histogram": [
           {
            "marker": {
             "pattern": {
              "fillmode": "overlay",
              "size": 10,
              "solidity": 0.2
             }
            },
            "type": "histogram"
           }
          ],
          "histogram2d": [
           {
            "colorbar": {
             "outlinewidth": 0,
             "ticks": ""
            },
            "colorscale": [
             [
              0,
              "#0d0887"
             ],
             [
              0.1111111111111111,
              "#46039f"
             ],
             [
              0.2222222222222222,
              "#7201a8"
             ],
             [
              0.3333333333333333,
              "#9c179e"
             ],
             [
              0.4444444444444444,
              "#bd3786"
             ],
             [
              0.5555555555555556,
              "#d8576b"
             ],
             [
              0.6666666666666666,
              "#ed7953"
             ],
             [
              0.7777777777777778,
              "#fb9f3a"
             ],
             [
              0.8888888888888888,
              "#fdca26"
             ],
             [
              1,
              "#f0f921"
             ]
            ],
            "type": "histogram2d"
           }
          ],
          "histogram2dcontour": [
           {
            "colorbar": {
             "outlinewidth": 0,
             "ticks": ""
            },
            "colorscale": [
             [
              0,
              "#0d0887"
             ],
             [
              0.1111111111111111,
              "#46039f"
             ],
             [
              0.2222222222222222,
              "#7201a8"
             ],
             [
              0.3333333333333333,
              "#9c179e"
             ],
             [
              0.4444444444444444,
              "#bd3786"
             ],
             [
              0.5555555555555556,
              "#d8576b"
             ],
             [
              0.6666666666666666,
              "#ed7953"
             ],
             [
              0.7777777777777778,
              "#fb9f3a"
             ],
             [
              0.8888888888888888,
              "#fdca26"
             ],
             [
              1,
              "#f0f921"
             ]
            ],
            "type": "histogram2dcontour"
           }
          ],
          "mesh3d": [
           {
            "colorbar": {
             "outlinewidth": 0,
             "ticks": ""
            },
            "type": "mesh3d"
           }
          ],
          "parcoords": [
           {
            "line": {
             "colorbar": {
              "outlinewidth": 0,
              "ticks": ""
             }
            },
            "type": "parcoords"
           }
          ],
          "pie": [
           {
            "automargin": true,
            "type": "pie"
           }
          ],
          "scatter": [
           {
            "marker": {
             "colorbar": {
              "outlinewidth": 0,
              "ticks": ""
             }
            },
            "type": "scatter"
           }
          ],
          "scatter3d": [
           {
            "line": {
             "colorbar": {
              "outlinewidth": 0,
              "ticks": ""
             }
            },
            "marker": {
             "colorbar": {
              "outlinewidth": 0,
              "ticks": ""
             }
            },
            "type": "scatter3d"
           }
          ],
          "scattercarpet": [
           {
            "marker": {
             "colorbar": {
              "outlinewidth": 0,
              "ticks": ""
             }
            },
            "type": "scattercarpet"
           }
          ],
          "scattergeo": [
           {
            "marker": {
             "colorbar": {
              "outlinewidth": 0,
              "ticks": ""
             }
            },
            "type": "scattergeo"
           }
          ],
          "scattergl": [
           {
            "marker": {
             "colorbar": {
              "outlinewidth": 0,
              "ticks": ""
             }
            },
            "type": "scattergl"
           }
          ],
          "scattermapbox": [
           {
            "marker": {
             "colorbar": {
              "outlinewidth": 0,
              "ticks": ""
             }
            },
            "type": "scattermapbox"
           }
          ],
          "scatterpolar": [
           {
            "marker": {
             "colorbar": {
              "outlinewidth": 0,
              "ticks": ""
             }
            },
            "type": "scatterpolar"
           }
          ],
          "scatterpolargl": [
           {
            "marker": {
             "colorbar": {
              "outlinewidth": 0,
              "ticks": ""
             }
            },
            "type": "scatterpolargl"
           }
          ],
          "scatterternary": [
           {
            "marker": {
             "colorbar": {
              "outlinewidth": 0,
              "ticks": ""
             }
            },
            "type": "scatterternary"
           }
          ],
          "surface": [
           {
            "colorbar": {
             "outlinewidth": 0,
             "ticks": ""
            },
            "colorscale": [
             [
              0,
              "#0d0887"
             ],
             [
              0.1111111111111111,
              "#46039f"
             ],
             [
              0.2222222222222222,
              "#7201a8"
             ],
             [
              0.3333333333333333,
              "#9c179e"
             ],
             [
              0.4444444444444444,
              "#bd3786"
             ],
             [
              0.5555555555555556,
              "#d8576b"
             ],
             [
              0.6666666666666666,
              "#ed7953"
             ],
             [
              0.7777777777777778,
              "#fb9f3a"
             ],
             [
              0.8888888888888888,
              "#fdca26"
             ],
             [
              1,
              "#f0f921"
             ]
            ],
            "type": "surface"
           }
          ],
          "table": [
           {
            "cells": {
             "fill": {
              "color": "#EBF0F8"
             },
             "line": {
              "color": "white"
             }
            },
            "header": {
             "fill": {
              "color": "#C8D4E3"
             },
             "line": {
              "color": "white"
             }
            },
            "type": "table"
           }
          ]
         },
         "layout": {
          "annotationdefaults": {
           "arrowcolor": "#2a3f5f",
           "arrowhead": 0,
           "arrowwidth": 1
          },
          "autotypenumbers": "strict",
          "coloraxis": {
           "colorbar": {
            "outlinewidth": 0,
            "ticks": ""
           }
          },
          "colorscale": {
           "diverging": [
            [
             0,
             "#8e0152"
            ],
            [
             0.1,
             "#c51b7d"
            ],
            [
             0.2,
             "#de77ae"
            ],
            [
             0.3,
             "#f1b6da"
            ],
            [
             0.4,
             "#fde0ef"
            ],
            [
             0.5,
             "#f7f7f7"
            ],
            [
             0.6,
             "#e6f5d0"
            ],
            [
             0.7,
             "#b8e186"
            ],
            [
             0.8,
             "#7fbc41"
            ],
            [
             0.9,
             "#4d9221"
            ],
            [
             1,
             "#276419"
            ]
           ],
           "sequential": [
            [
             0,
             "#0d0887"
            ],
            [
             0.1111111111111111,
             "#46039f"
            ],
            [
             0.2222222222222222,
             "#7201a8"
            ],
            [
             0.3333333333333333,
             "#9c179e"
            ],
            [
             0.4444444444444444,
             "#bd3786"
            ],
            [
             0.5555555555555556,
             "#d8576b"
            ],
            [
             0.6666666666666666,
             "#ed7953"
            ],
            [
             0.7777777777777778,
             "#fb9f3a"
            ],
            [
             0.8888888888888888,
             "#fdca26"
            ],
            [
             1,
             "#f0f921"
            ]
           ],
           "sequentialminus": [
            [
             0,
             "#0d0887"
            ],
            [
             0.1111111111111111,
             "#46039f"
            ],
            [
             0.2222222222222222,
             "#7201a8"
            ],
            [
             0.3333333333333333,
             "#9c179e"
            ],
            [
             0.4444444444444444,
             "#bd3786"
            ],
            [
             0.5555555555555556,
             "#d8576b"
            ],
            [
             0.6666666666666666,
             "#ed7953"
            ],
            [
             0.7777777777777778,
             "#fb9f3a"
            ],
            [
             0.8888888888888888,
             "#fdca26"
            ],
            [
             1,
             "#f0f921"
            ]
           ]
          },
          "colorway": [
           "#636efa",
           "#EF553B",
           "#00cc96",
           "#ab63fa",
           "#FFA15A",
           "#19d3f3",
           "#FF6692",
           "#B6E880",
           "#FF97FF",
           "#FECB52"
          ],
          "font": {
           "color": "#2a3f5f"
          },
          "geo": {
           "bgcolor": "white",
           "lakecolor": "white",
           "landcolor": "#E5ECF6",
           "showlakes": true,
           "showland": true,
           "subunitcolor": "white"
          },
          "hoverlabel": {
           "align": "left"
          },
          "hovermode": "closest",
          "mapbox": {
           "style": "light"
          },
          "paper_bgcolor": "white",
          "plot_bgcolor": "#E5ECF6",
          "polar": {
           "angularaxis": {
            "gridcolor": "white",
            "linecolor": "white",
            "ticks": ""
           },
           "bgcolor": "#E5ECF6",
           "radialaxis": {
            "gridcolor": "white",
            "linecolor": "white",
            "ticks": ""
           }
          },
          "scene": {
           "xaxis": {
            "backgroundcolor": "#E5ECF6",
            "gridcolor": "white",
            "gridwidth": 2,
            "linecolor": "white",
            "showbackground": true,
            "ticks": "",
            "zerolinecolor": "white"
           },
           "yaxis": {
            "backgroundcolor": "#E5ECF6",
            "gridcolor": "white",
            "gridwidth": 2,
            "linecolor": "white",
            "showbackground": true,
            "ticks": "",
            "zerolinecolor": "white"
           },
           "zaxis": {
            "backgroundcolor": "#E5ECF6",
            "gridcolor": "white",
            "gridwidth": 2,
            "linecolor": "white",
            "showbackground": true,
            "ticks": "",
            "zerolinecolor": "white"
           }
          },
          "shapedefaults": {
           "line": {
            "color": "#2a3f5f"
           }
          },
          "ternary": {
           "aaxis": {
            "gridcolor": "white",
            "linecolor": "white",
            "ticks": ""
           },
           "baxis": {
            "gridcolor": "white",
            "linecolor": "white",
            "ticks": ""
           },
           "bgcolor": "#E5ECF6",
           "caxis": {
            "gridcolor": "white",
            "linecolor": "white",
            "ticks": ""
           }
          },
          "title": {
           "x": 0.05
          },
          "xaxis": {
           "automargin": true,
           "gridcolor": "white",
           "linecolor": "white",
           "ticks": "",
           "title": {
            "standoff": 15
           },
           "zerolinecolor": "white",
           "zerolinewidth": 2
          },
          "yaxis": {
           "automargin": true,
           "gridcolor": "white",
           "linecolor": "white",
           "ticks": "",
           "title": {
            "standoff": 15
           },
           "zerolinecolor": "white",
           "zerolinewidth": 2
          }
         }
        },
        "title": {
         "text": "Persons Removed and Apprehended"
        },
        "xaxis": {
         "anchor": "y",
         "domain": [
          0,
          1
         ],
         "title": {
          "text": "Year"
         }
        },
        "yaxis": {
         "anchor": "x",
         "domain": [
          0,
          1
         ],
         "title": {
          "text": "Number"
         }
        }
       }
      },
      "text/html": [
       "<div>                            <div id=\"47f27213-faf8-4d4d-84dc-e9d2389b090c\" class=\"plotly-graph-div\" style=\"height:525px; width:100%;\"></div>            <script type=\"text/javascript\">                require([\"plotly\"], function(Plotly) {                    window.PLOTLYENV=window.PLOTLYENV || {};                                    if (document.getElementById(\"47f27213-faf8-4d4d-84dc-e9d2389b090c\")) {                    Plotly.newPlot(                        \"47f27213-faf8-4d4d-84dc-e9d2389b090c\",                        [{\"alignmentgroup\":\"True\",\"hovertemplate\":\"Year=%{x}<br>Number=%{y}<extra></extra>\",\"legendgroup\":\"\",\"marker\":{\"color\":\"#003869\",\"opacity\":0.5,\"pattern\":{\"shape\":\"\"}},\"name\":\"\",\"offsetgroup\":\"\",\"orientation\":\"v\",\"showlegend\":false,\"textposition\":\"auto\",\"type\":\"bar\",\"x\":[2000,2001,2002,2003,2004,2005,2006,2007,2008,2009,2010,2011,2012,2013,2014,2015,2016,2017,2018,2019],\"xaxis\":\"x\",\"y\":[166479,165214,137651,178956,203551,209804,249024,288056,326674,362298,352502,361308,392172,413648,388870,310188,313734,259145,303304,330161],\"yaxis\":\"y\"},{\"base\":0,\"legendgroup\":\"Apprehended\",\"marker\":{\"color\":\"#003869\"},\"opacity\":0.5,\"showlegend\":false,\"text\":\"9%\",\"textposition\":\"outside\",\"type\":\"bar\",\"x\":[2000],\"y\":[1777618]},{\"base\":0,\"legendgroup\":\"Apprehended\",\"marker\":{\"color\":\"#003869\"},\"opacity\":0.5,\"showlegend\":false,\"text\":\"12%\",\"textposition\":\"outside\",\"type\":\"bar\",\"x\":[2001],\"y\":[1347262]},{\"base\":0,\"legendgroup\":\"Apprehended\",\"marker\":{\"color\":\"#003869\"},\"opacity\":0.5,\"showlegend\":false,\"text\":\"13%\",\"textposition\":\"outside\",\"type\":\"bar\",\"x\":[2002],\"y\":[1025012]},{\"base\":0,\"legendgroup\":\"Apprehended\",\"marker\":{\"color\":\"#003869\"},\"opacity\":0.5,\"showlegend\":false,\"text\":\"18%\",\"textposition\":\"outside\",\"type\":\"bar\",\"x\":[2003],\"y\":[997650]},{\"base\":0,\"legendgroup\":\"Apprehended\",\"marker\":{\"color\":\"#003869\"},\"opacity\":0.5,\"showlegend\":false,\"text\":\"17%\",\"textposition\":\"outside\",\"type\":\"bar\",\"x\":[2004],\"y\":[1205313]},{\"base\":0,\"legendgroup\":\"Apprehended\",\"marker\":{\"color\":\"#003869\"},\"opacity\":0.5,\"showlegend\":false,\"text\":\"17%\",\"textposition\":\"outside\",\"type\":\"bar\",\"x\":[2005],\"y\":[1223823]},{\"base\":0,\"legendgroup\":\"Apprehended\",\"marker\":{\"color\":\"#003869\"},\"opacity\":0.5,\"showlegend\":false,\"text\":\"21%\",\"textposition\":\"outside\",\"type\":\"bar\",\"x\":[2006],\"y\":[1166384]},{\"base\":0,\"legendgroup\":\"Apprehended\",\"marker\":{\"color\":\"#003869\"},\"opacity\":0.5,\"showlegend\":false,\"text\":\"31%\",\"textposition\":\"outside\",\"type\":\"bar\",\"x\":[2007],\"y\":[928850]},{\"base\":0,\"legendgroup\":\"Apprehended\",\"marker\":{\"color\":\"#003869\"},\"opacity\":0.5,\"showlegend\":false,\"text\":\"43%\",\"textposition\":\"outside\",\"type\":\"bar\",\"x\":[2008],\"y\":[760573]},{\"base\":0,\"legendgroup\":\"Apprehended\",\"marker\":{\"color\":\"#003869\"},\"opacity\":0.5,\"showlegend\":false,\"text\":\"62%\",\"textposition\":\"outside\",\"type\":\"bar\",\"x\":[2009],\"y\":[586771]},{\"base\":0,\"legendgroup\":\"Apprehended\",\"marker\":{\"color\":\"#003869\"},\"opacity\":0.5,\"showlegend\":false,\"text\":\"48%\",\"textposition\":\"outside\",\"type\":\"bar\",\"x\":[2010],\"y\":[737252]},{\"base\":0,\"legendgroup\":\"Apprehended\",\"marker\":{\"color\":\"#003869\"},\"opacity\":0.5,\"showlegend\":false,\"text\":\"58%\",\"textposition\":\"outside\",\"type\":\"bar\",\"x\":[2011],\"y\":[621389]},{\"base\":0,\"legendgroup\":\"Apprehended\",\"marker\":{\"color\":\"#003869\"},\"opacity\":0.5,\"showlegend\":false,\"text\":\"63%\",\"textposition\":\"outside\",\"type\":\"bar\",\"x\":[2012],\"y\":[619562]},{\"base\":0,\"legendgroup\":\"Apprehended\",\"marker\":{\"color\":\"#003869\"},\"opacity\":0.5,\"showlegend\":false,\"text\":\"67%\",\"textposition\":\"outside\",\"type\":\"bar\",\"x\":[2013],\"y\":[617167]},{\"base\":0,\"legendgroup\":\"Apprehended\",\"marker\":{\"color\":\"#003869\"},\"opacity\":0.5,\"showlegend\":false,\"text\":\"61%\",\"textposition\":\"outside\",\"type\":\"bar\",\"x\":[2014],\"y\":[637225]},{\"base\":0,\"legendgroup\":\"Apprehended\",\"marker\":{\"color\":\"#003869\"},\"opacity\":0.5,\"showlegend\":false,\"text\":\"72%\",\"textposition\":\"outside\",\"type\":\"bar\",\"x\":[2015],\"y\":[430522]},{\"base\":0,\"legendgroup\":\"Apprehended\",\"marker\":{\"color\":\"#003869\"},\"opacity\":0.5,\"showlegend\":false,\"text\":\"64%\",\"textposition\":\"outside\",\"type\":\"bar\",\"x\":[2016],\"y\":[492816]},{\"base\":0,\"legendgroup\":\"Apprehended\",\"marker\":{\"color\":\"#003869\"},\"opacity\":0.5,\"showlegend\":false,\"text\":\"61%\",\"textposition\":\"outside\",\"type\":\"bar\",\"x\":[2017],\"y\":[424091]},{\"base\":0,\"legendgroup\":\"Apprehended\",\"marker\":{\"color\":\"#003869\"},\"opacity\":0.5,\"showlegend\":false,\"text\":\"58%\",\"textposition\":\"outside\",\"type\":\"bar\",\"x\":[2018],\"y\":[525426]},{\"base\":0,\"legendgroup\":\"Apprehended\",\"marker\":{\"color\":\"#003869\"},\"opacity\":0.5,\"showlegend\":false,\"text\":\"36%\",\"textposition\":\"outside\",\"type\":\"bar\",\"x\":[2019],\"y\":[923271]}],                        {\"annotations\":[{\"showarrow\":false,\"text\":\"Clinton\",\"x\":\"1999\",\"xanchor\":\"left\",\"xref\":\"x\",\"y\":1,\"yanchor\":\"top\",\"yref\":\"y domain\"},{\"showarrow\":false,\"text\":\"Bush\",\"x\":\"2001\",\"xanchor\":\"left\",\"xref\":\"x\",\"y\":1,\"yanchor\":\"top\",\"yref\":\"y domain\"},{\"showarrow\":false,\"text\":\"Obama\",\"x\":\"2009\",\"xanchor\":\"left\",\"xref\":\"x\",\"y\":1,\"yanchor\":\"top\",\"yref\":\"y domain\"},{\"showarrow\":false,\"text\":\"Trump\",\"x\":\"2017\",\"xanchor\":\"left\",\"xref\":\"x\",\"y\":1,\"yanchor\":\"top\",\"yref\":\"y domain\"}],\"barmode\":\"relative\",\"legend\":{\"tracegroupgap\":0},\"paper_bgcolor\":\"rgba(0, 0, 0, 0)\",\"plot_bgcolor\":\"rgba(0, 0, 0, 0)\",\"shapes\":[{\"line\":{\"width\":0},\"opacity\":0.25,\"type\":\"rect\",\"x0\":\"1999\",\"x1\":\"2001\",\"xref\":\"x\",\"y0\":0,\"y1\":1,\"yref\":\"y domain\"},{\"fillcolor\":\"#999999\",\"line\":{\"width\":0},\"opacity\":0.25,\"type\":\"rect\",\"x0\":\"2001\",\"x1\":\"2009\",\"xref\":\"x\",\"y0\":0,\"y1\":1,\"yref\":\"y domain\"},{\"line\":{\"width\":0},\"opacity\":0.25,\"type\":\"rect\",\"x0\":\"2009\",\"x1\":\"2017\",\"xref\":\"x\",\"y0\":0,\"y1\":1,\"yref\":\"y domain\"},{\"fillcolor\":\"#999999\",\"line\":{\"width\":0},\"opacity\":0.25,\"type\":\"rect\",\"x0\":\"2017\",\"x1\":\"2019\",\"xref\":\"x\",\"y0\":0,\"y1\":1,\"yref\":\"y domain\"}],\"template\":{\"data\":{\"bar\":[{\"error_x\":{\"color\":\"#2a3f5f\"},\"error_y\":{\"color\":\"#2a3f5f\"},\"marker\":{\"line\":{\"color\":\"#E5ECF6\",\"width\":0.5},\"pattern\":{\"fillmode\":\"overlay\",\"size\":10,\"solidity\":0.2}},\"type\":\"bar\"}],\"barpolar\":[{\"marker\":{\"line\":{\"color\":\"#E5ECF6\",\"width\":0.5},\"pattern\":{\"fillmode\":\"overlay\",\"size\":10,\"solidity\":0.2}},\"type\":\"barpolar\"}],\"carpet\":[{\"aaxis\":{\"endlinecolor\":\"#2a3f5f\",\"gridcolor\":\"white\",\"linecolor\":\"white\",\"minorgridcolor\":\"white\",\"startlinecolor\":\"#2a3f5f\"},\"baxis\":{\"endlinecolor\":\"#2a3f5f\",\"gridcolor\":\"white\",\"linecolor\":\"white\",\"minorgridcolor\":\"white\",\"startlinecolor\":\"#2a3f5f\"},\"type\":\"carpet\"}],\"choropleth\":[{\"colorbar\":{\"outlinewidth\":0,\"ticks\":\"\"},\"type\":\"choropleth\"}],\"contour\":[{\"colorbar\":{\"outlinewidth\":0,\"ticks\":\"\"},\"colorscale\":[[0.0,\"#0d0887\"],[0.1111111111111111,\"#46039f\"],[0.2222222222222222,\"#7201a8\"],[0.3333333333333333,\"#9c179e\"],[0.4444444444444444,\"#bd3786\"],[0.5555555555555556,\"#d8576b\"],[0.6666666666666666,\"#ed7953\"],[0.7777777777777778,\"#fb9f3a\"],[0.8888888888888888,\"#fdca26\"],[1.0,\"#f0f921\"]],\"type\":\"contour\"}],\"contourcarpet\":[{\"colorbar\":{\"outlinewidth\":0,\"ticks\":\"\"},\"type\":\"contourcarpet\"}],\"heatmap\":[{\"colorbar\":{\"outlinewidth\":0,\"ticks\":\"\"},\"colorscale\":[[0.0,\"#0d0887\"],[0.1111111111111111,\"#46039f\"],[0.2222222222222222,\"#7201a8\"],[0.3333333333333333,\"#9c179e\"],[0.4444444444444444,\"#bd3786\"],[0.5555555555555556,\"#d8576b\"],[0.6666666666666666,\"#ed7953\"],[0.7777777777777778,\"#fb9f3a\"],[0.8888888888888888,\"#fdca26\"],[1.0,\"#f0f921\"]],\"type\":\"heatmap\"}],\"heatmapgl\":[{\"colorbar\":{\"outlinewidth\":0,\"ticks\":\"\"},\"colorscale\":[[0.0,\"#0d0887\"],[0.1111111111111111,\"#46039f\"],[0.2222222222222222,\"#7201a8\"],[0.3333333333333333,\"#9c179e\"],[0.4444444444444444,\"#bd3786\"],[0.5555555555555556,\"#d8576b\"],[0.6666666666666666,\"#ed7953\"],[0.7777777777777778,\"#fb9f3a\"],[0.8888888888888888,\"#fdca26\"],[1.0,\"#f0f921\"]],\"type\":\"heatmapgl\"}],\"histogram\":[{\"marker\":{\"pattern\":{\"fillmode\":\"overlay\",\"size\":10,\"solidity\":0.2}},\"type\":\"histogram\"}],\"histogram2d\":[{\"colorbar\":{\"outlinewidth\":0,\"ticks\":\"\"},\"colorscale\":[[0.0,\"#0d0887\"],[0.1111111111111111,\"#46039f\"],[0.2222222222222222,\"#7201a8\"],[0.3333333333333333,\"#9c179e\"],[0.4444444444444444,\"#bd3786\"],[0.5555555555555556,\"#d8576b\"],[0.6666666666666666,\"#ed7953\"],[0.7777777777777778,\"#fb9f3a\"],[0.8888888888888888,\"#fdca26\"],[1.0,\"#f0f921\"]],\"type\":\"histogram2d\"}],\"histogram2dcontour\":[{\"colorbar\":{\"outlinewidth\":0,\"ticks\":\"\"},\"colorscale\":[[0.0,\"#0d0887\"],[0.1111111111111111,\"#46039f\"],[0.2222222222222222,\"#7201a8\"],[0.3333333333333333,\"#9c179e\"],[0.4444444444444444,\"#bd3786\"],[0.5555555555555556,\"#d8576b\"],[0.6666666666666666,\"#ed7953\"],[0.7777777777777778,\"#fb9f3a\"],[0.8888888888888888,\"#fdca26\"],[1.0,\"#f0f921\"]],\"type\":\"histogram2dcontour\"}],\"mesh3d\":[{\"colorbar\":{\"outlinewidth\":0,\"ticks\":\"\"},\"type\":\"mesh3d\"}],\"parcoords\":[{\"line\":{\"colorbar\":{\"outlinewidth\":0,\"ticks\":\"\"}},\"type\":\"parcoords\"}],\"pie\":[{\"automargin\":true,\"type\":\"pie\"}],\"scatter\":[{\"marker\":{\"colorbar\":{\"outlinewidth\":0,\"ticks\":\"\"}},\"type\":\"scatter\"}],\"scatter3d\":[{\"line\":{\"colorbar\":{\"outlinewidth\":0,\"ticks\":\"\"}},\"marker\":{\"colorbar\":{\"outlinewidth\":0,\"ticks\":\"\"}},\"type\":\"scatter3d\"}],\"scattercarpet\":[{\"marker\":{\"colorbar\":{\"outlinewidth\":0,\"ticks\":\"\"}},\"type\":\"scattercarpet\"}],\"scattergeo\":[{\"marker\":{\"colorbar\":{\"outlinewidth\":0,\"ticks\":\"\"}},\"type\":\"scattergeo\"}],\"scattergl\":[{\"marker\":{\"colorbar\":{\"outlinewidth\":0,\"ticks\":\"\"}},\"type\":\"scattergl\"}],\"scattermapbox\":[{\"marker\":{\"colorbar\":{\"outlinewidth\":0,\"ticks\":\"\"}},\"type\":\"scattermapbox\"}],\"scatterpolar\":[{\"marker\":{\"colorbar\":{\"outlinewidth\":0,\"ticks\":\"\"}},\"type\":\"scatterpolar\"}],\"scatterpolargl\":[{\"marker\":{\"colorbar\":{\"outlinewidth\":0,\"ticks\":\"\"}},\"type\":\"scatterpolargl\"}],\"scatterternary\":[{\"marker\":{\"colorbar\":{\"outlinewidth\":0,\"ticks\":\"\"}},\"type\":\"scatterternary\"}],\"surface\":[{\"colorbar\":{\"outlinewidth\":0,\"ticks\":\"\"},\"colorscale\":[[0.0,\"#0d0887\"],[0.1111111111111111,\"#46039f\"],[0.2222222222222222,\"#7201a8\"],[0.3333333333333333,\"#9c179e\"],[0.4444444444444444,\"#bd3786\"],[0.5555555555555556,\"#d8576b\"],[0.6666666666666666,\"#ed7953\"],[0.7777777777777778,\"#fb9f3a\"],[0.8888888888888888,\"#fdca26\"],[1.0,\"#f0f921\"]],\"type\":\"surface\"}],\"table\":[{\"cells\":{\"fill\":{\"color\":\"#EBF0F8\"},\"line\":{\"color\":\"white\"}},\"header\":{\"fill\":{\"color\":\"#C8D4E3\"},\"line\":{\"color\":\"white\"}},\"type\":\"table\"}]},\"layout\":{\"annotationdefaults\":{\"arrowcolor\":\"#2a3f5f\",\"arrowhead\":0,\"arrowwidth\":1},\"autotypenumbers\":\"strict\",\"coloraxis\":{\"colorbar\":{\"outlinewidth\":0,\"ticks\":\"\"}},\"colorscale\":{\"diverging\":[[0,\"#8e0152\"],[0.1,\"#c51b7d\"],[0.2,\"#de77ae\"],[0.3,\"#f1b6da\"],[0.4,\"#fde0ef\"],[0.5,\"#f7f7f7\"],[0.6,\"#e6f5d0\"],[0.7,\"#b8e186\"],[0.8,\"#7fbc41\"],[0.9,\"#4d9221\"],[1,\"#276419\"]],\"sequential\":[[0.0,\"#0d0887\"],[0.1111111111111111,\"#46039f\"],[0.2222222222222222,\"#7201a8\"],[0.3333333333333333,\"#9c179e\"],[0.4444444444444444,\"#bd3786\"],[0.5555555555555556,\"#d8576b\"],[0.6666666666666666,\"#ed7953\"],[0.7777777777777778,\"#fb9f3a\"],[0.8888888888888888,\"#fdca26\"],[1.0,\"#f0f921\"]],\"sequentialminus\":[[0.0,\"#0d0887\"],[0.1111111111111111,\"#46039f\"],[0.2222222222222222,\"#7201a8\"],[0.3333333333333333,\"#9c179e\"],[0.4444444444444444,\"#bd3786\"],[0.5555555555555556,\"#d8576b\"],[0.6666666666666666,\"#ed7953\"],[0.7777777777777778,\"#fb9f3a\"],[0.8888888888888888,\"#fdca26\"],[1.0,\"#f0f921\"]]},\"colorway\":[\"#636efa\",\"#EF553B\",\"#00cc96\",\"#ab63fa\",\"#FFA15A\",\"#19d3f3\",\"#FF6692\",\"#B6E880\",\"#FF97FF\",\"#FECB52\"],\"font\":{\"color\":\"#2a3f5f\"},\"geo\":{\"bgcolor\":\"white\",\"lakecolor\":\"white\",\"landcolor\":\"#E5ECF6\",\"showlakes\":true,\"showland\":true,\"subunitcolor\":\"white\"},\"hoverlabel\":{\"align\":\"left\"},\"hovermode\":\"closest\",\"mapbox\":{\"style\":\"light\"},\"paper_bgcolor\":\"white\",\"plot_bgcolor\":\"#E5ECF6\",\"polar\":{\"angularaxis\":{\"gridcolor\":\"white\",\"linecolor\":\"white\",\"ticks\":\"\"},\"bgcolor\":\"#E5ECF6\",\"radialaxis\":{\"gridcolor\":\"white\",\"linecolor\":\"white\",\"ticks\":\"\"}},\"scene\":{\"xaxis\":{\"backgroundcolor\":\"#E5ECF6\",\"gridcolor\":\"white\",\"gridwidth\":2,\"linecolor\":\"white\",\"showbackground\":true,\"ticks\":\"\",\"zerolinecolor\":\"white\"},\"yaxis\":{\"backgroundcolor\":\"#E5ECF6\",\"gridcolor\":\"white\",\"gridwidth\":2,\"linecolor\":\"white\",\"showbackground\":true,\"ticks\":\"\",\"zerolinecolor\":\"white\"},\"zaxis\":{\"backgroundcolor\":\"#E5ECF6\",\"gridcolor\":\"white\",\"gridwidth\":2,\"linecolor\":\"white\",\"showbackground\":true,\"ticks\":\"\",\"zerolinecolor\":\"white\"}},\"shapedefaults\":{\"line\":{\"color\":\"#2a3f5f\"}},\"ternary\":{\"aaxis\":{\"gridcolor\":\"white\",\"linecolor\":\"white\",\"ticks\":\"\"},\"baxis\":{\"gridcolor\":\"white\",\"linecolor\":\"white\",\"ticks\":\"\"},\"bgcolor\":\"#E5ECF6\",\"caxis\":{\"gridcolor\":\"white\",\"linecolor\":\"white\",\"ticks\":\"\"}},\"title\":{\"x\":0.05},\"xaxis\":{\"automargin\":true,\"gridcolor\":\"white\",\"linecolor\":\"white\",\"ticks\":\"\",\"title\":{\"standoff\":15},\"zerolinecolor\":\"white\",\"zerolinewidth\":2},\"yaxis\":{\"automargin\":true,\"gridcolor\":\"white\",\"linecolor\":\"white\",\"ticks\":\"\",\"title\":{\"standoff\":15},\"zerolinecolor\":\"white\",\"zerolinewidth\":2}}},\"title\":{\"text\":\"Persons Removed and Apprehended\"},\"xaxis\":{\"anchor\":\"y\",\"domain\":[0.0,1.0],\"title\":{\"text\":\"Year\"}},\"yaxis\":{\"anchor\":\"x\",\"domain\":[0.0,1.0],\"title\":{\"text\":\"Number\"}}},                        {\"responsive\": true}                    ).then(function(){\n",
       "                            \n",
       "var gd = document.getElementById('47f27213-faf8-4d4d-84dc-e9d2389b090c');\n",
       "var x = new MutationObserver(function (mutations, observer) {{\n",
       "        var display = window.getComputedStyle(gd).display;\n",
       "        if (!display || display === 'none') {{\n",
       "            console.log([gd, 'removed!']);\n",
       "            Plotly.purge(gd);\n",
       "            observer.disconnect();\n",
       "        }}\n",
       "}});\n",
       "\n",
       "// Listen for the removal of the full notebook cells\n",
       "var notebookContainer = gd.closest('#notebook-container');\n",
       "if (notebookContainer) {{\n",
       "    x.observe(notebookContainer, {childList: true});\n",
       "}}\n",
       "\n",
       "// Listen for the clearing of the current output cell\n",
       "var outputEl = gd.closest('.output');\n",
       "if (outputEl) {{\n",
       "    x.observe(outputEl, {childList: true});\n",
       "}}\n",
       "\n",
       "                        })                };                });            </script>        </div>"
      ]
     },
     "metadata": {},
     "output_type": "display_data"
    }
   ],
   "source": [
    "fig = px.bar(df_formatted,\n",
    "              x=\"Year\", y=\"Number\",\n",
    "              title=\"Persons Removed and Apprehended\",\n",
    "             opacity=0.5,\n",
    "              color_discrete_sequence=['#003869'],\n",
    "             )\n",
    "\n",
    "for year in df_appr_formatted.Year:\n",
    "    percentage = (df_formatted[df_formatted.Year == year].Number / df_appr_formatted[df_appr_formatted.Year == year].Number).values[0]\n",
    "    fig.add_bar(x=[year], y=df_appr_formatted[df_appr_formatted.Year == year].Number,\n",
    "                base=0, opacity=0.5, marker = dict(color = '#003869'),\n",
    "                text=f\"{percentage*100:.0f}%\",\n",
    "                textposition=\"outside\",\n",
    "                legendgroup=\"Apprehended\",\n",
    "                showlegend=False\n",
    "               )\n",
    "# fig.add_bar(df_appr_formatted, x=[df_appr_formatted.Year], y=[df_appr_formatted.Number])\n",
    "\n",
    "fig.update_layout({\n",
    "'plot_bgcolor': 'rgba(0, 0, 0, 0)',\n",
    "'paper_bgcolor': 'rgba(0, 0, 0, 0)',\n",
    "})\n",
    "\n",
    "fig.add_vrect(x0=\"1999\", x1=\"2001\", \n",
    "              annotation_text=\"Clinton\", annotation_position=\"top left\",\n",
    "              opacity=0.25, line_width=0)\n",
    "\n",
    "fig.add_vrect(x0=\"2001\", x1=\"2009\", \n",
    "              annotation_text=\"Bush\", annotation_position=\"top left\",\n",
    "              fillcolor=\"#999999\", opacity=0.25, line_width=0)\n",
    "\n",
    "fig.add_vrect(x0=\"2009\", x1=\"2017\", \n",
    "              annotation_text=\"Obama\", annotation_position=\"top left\",\n",
    "              opacity=0.25, line_width=0)\n",
    "\n",
    "fig.add_vrect(x0=\"2017\", x1=\"2019\", \n",
    "              annotation_text=\"Trump\", annotation_position=\"top left\",\n",
    "              fillcolor=\"#999999\", opacity=0.25, line_width=0)\n",
    "\n",
    "fig.update_layout({\n",
    "'plot_bgcolor': 'rgba(0, 0, 0, 0)',\n",
    "'paper_bgcolor': 'rgba(0, 0, 0, 0)',\n",
    "})\n",
    "\n",
    "# fig.show()\n",
    "\n"
   ]
  },
  {
   "cell_type": "code",
   "execution_count": 113,
   "id": "f743e0d9",
   "metadata": {},
   "outputs": [],
   "source": [
    "fig.write_html(\"./removed_over_appr.txt\", include_plotlyjs=False, full_html=False)"
   ]
  },
  {
   "cell_type": "code",
   "execution_count": null,
   "id": "aa4e3ca3",
   "metadata": {},
   "outputs": [],
   "source": []
  }
 ],
 "metadata": {
  "kernelspec": {
   "display_name": "Python 3 (ipykernel)",
   "language": "python",
   "name": "python3"
  },
  "language_info": {
   "codemirror_mode": {
    "name": "ipython",
    "version": 3
   },
   "file_extension": ".py",
   "mimetype": "text/x-python",
   "name": "python",
   "nbconvert_exporter": "python",
   "pygments_lexer": "ipython3",
   "version": "3.8.11"
  }
 },
 "nbformat": 4,
 "nbformat_minor": 5
}
